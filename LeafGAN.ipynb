{
  "cells": [
    {
      "cell_type": "markdown",
      "source": [
        "# LeafGan Project"
      ],
      "metadata": {
        "id": "RxJ1xP-K3ibz"
      }
    },
    {
      "cell_type": "markdown",
      "source": [
        "# setup"
      ],
      "metadata": {
        "id": "tVMnIqMWo2Rz"
      }
    },
    {
      "cell_type": "code",
      "execution_count": 1,
      "metadata": {
        "id": "6fDSfR7kIFe7"
      },
      "outputs": [],
      "source": [
        "import numpy as np\n",
        "import pandas as pd\n",
        "import os\n",
        "from glob import glob\n",
        "import torch\n",
        "from PIL import Image\n",
        "from torch import nn\n",
        "import numpy as np\n",
        "import cv2\n",
        "import torchvision \n",
        "from torchvision import transforms, models\n",
        "import matplotlib.pyplot as plt\n",
        "from tqdm import tqdm\n",
        "from zipfile import ZipFile\n",
        "from sklearn.model_selection import StratifiedKFold\n",
        "import plotly.graph_objects as go\n",
        "from sklearn.preprocessing import MultiLabelBinarizer\n",
        "from torch.utils.data import DataLoader, Dataset\n",
        "device = torch.device(\"cuda:0\" if torch.cuda.is_available() else \"cpu\")\n",
        "from sklearn.metrics import classification_report"
      ]
    },
    {
      "cell_type": "code",
      "source": [
        "!pip uninstall opencv-python-headless==4.5.5.62\n",
        "!pip install opencv-python-headless==4.5.2.52"
      ],
      "metadata": {
        "colab": {
          "base_uri": "https://localhost:8080/",
          "height": 0
        },
        "id": "arLiOOtOZ95d",
        "outputId": "bb2a9baf-45c4-4566-fcb6-ce82fd2f4a8c"
      },
      "execution_count": 2,
      "outputs": [
        {
          "output_type": "stream",
          "name": "stdout",
          "text": [
            "\u001b[33mWARNING: Skipping opencv-python-headless as it is not installed.\u001b[0m\n",
            "Collecting opencv-python-headless==4.5.2.52\n",
            "  Downloading opencv_python_headless-4.5.2.52-cp37-cp37m-manylinux2014_x86_64.whl (38.2 MB)\n",
            "\u001b[K     |████████████████████████████████| 38.2 MB 1.2 MB/s \n",
            "\u001b[?25hRequirement already satisfied: numpy>=1.14.5 in /usr/local/lib/python3.7/dist-packages (from opencv-python-headless==4.5.2.52) (1.19.5)\n",
            "Installing collected packages: opencv-python-headless\n",
            "Successfully installed opencv-python-headless-4.5.2.52\n"
          ]
        },
        {
          "output_type": "display_data",
          "data": {
            "application/vnd.colab-display-data+json": {
              "pip_warning": {
                "packages": [
                  "cv2"
                ]
              }
            }
          },
          "metadata": {}
        }
      ]
    },
    {
      "cell_type": "code",
      "source": [
        "!pip install pytorch-ignite\n",
        "from ignite.metrics import ClassificationReport"
      ],
      "metadata": {
        "colab": {
          "base_uri": "https://localhost:8080/"
        },
        "id": "dbDSP0_2JPm4",
        "outputId": "c859f0f3-f2cf-444f-e367-03a13397c9c2"
      },
      "execution_count": 3,
      "outputs": [
        {
          "output_type": "stream",
          "name": "stdout",
          "text": [
            "Collecting pytorch-ignite\n",
            "  Downloading pytorch_ignite-0.4.8-py3-none-any.whl (251 kB)\n",
            "\u001b[?25l\r\u001b[K     |█▎                              | 10 kB 31.8 MB/s eta 0:00:01\r\u001b[K     |██▋                             | 20 kB 8.2 MB/s eta 0:00:01\r\u001b[K     |████                            | 30 kB 7.1 MB/s eta 0:00:01\r\u001b[K     |█████▏                          | 40 kB 6.4 MB/s eta 0:00:01\r\u001b[K     |██████▌                         | 51 kB 4.2 MB/s eta 0:00:01\r\u001b[K     |███████▉                        | 61 kB 4.4 MB/s eta 0:00:01\r\u001b[K     |█████████                       | 71 kB 4.4 MB/s eta 0:00:01\r\u001b[K     |██████████▍                     | 81 kB 5.0 MB/s eta 0:00:01\r\u001b[K     |███████████▊                    | 92 kB 3.9 MB/s eta 0:00:01\r\u001b[K     |█████████████                   | 102 kB 4.2 MB/s eta 0:00:01\r\u001b[K     |██████████████▎                 | 112 kB 4.2 MB/s eta 0:00:01\r\u001b[K     |███████████████▋                | 122 kB 4.2 MB/s eta 0:00:01\r\u001b[K     |█████████████████               | 133 kB 4.2 MB/s eta 0:00:01\r\u001b[K     |██████████████████▏             | 143 kB 4.2 MB/s eta 0:00:01\r\u001b[K     |███████████████████▌            | 153 kB 4.2 MB/s eta 0:00:01\r\u001b[K     |████████████████████▉           | 163 kB 4.2 MB/s eta 0:00:01\r\u001b[K     |██████████████████████▏         | 174 kB 4.2 MB/s eta 0:00:01\r\u001b[K     |███████████████████████▍        | 184 kB 4.2 MB/s eta 0:00:01\r\u001b[K     |████████████████████████▊       | 194 kB 4.2 MB/s eta 0:00:01\r\u001b[K     |██████████████████████████      | 204 kB 4.2 MB/s eta 0:00:01\r\u001b[K     |███████████████████████████▎    | 215 kB 4.2 MB/s eta 0:00:01\r\u001b[K     |████████████████████████████▋   | 225 kB 4.2 MB/s eta 0:00:01\r\u001b[K     |██████████████████████████████  | 235 kB 4.2 MB/s eta 0:00:01\r\u001b[K     |███████████████████████████████▏| 245 kB 4.2 MB/s eta 0:00:01\r\u001b[K     |████████████████████████████████| 251 kB 4.2 MB/s \n",
            "\u001b[?25hRequirement already satisfied: torch<2,>=1.3 in /usr/local/lib/python3.7/dist-packages (from pytorch-ignite) (1.10.0+cu111)\n",
            "Requirement already satisfied: typing-extensions in /usr/local/lib/python3.7/dist-packages (from torch<2,>=1.3->pytorch-ignite) (3.10.0.2)\n",
            "Installing collected packages: pytorch-ignite\n",
            "Successfully installed pytorch-ignite-0.4.8\n"
          ]
        }
      ]
    },
    {
      "cell_type": "code",
      "source": [
        "!pip install torchmetrics\n",
        "import torchmetrics"
      ],
      "metadata": {
        "colab": {
          "base_uri": "https://localhost:8080/"
        },
        "id": "tADY-JAzauV1",
        "outputId": "3e2d96ca-4698-451c-8186-3c5fc2393103"
      },
      "execution_count": 4,
      "outputs": [
        {
          "output_type": "stream",
          "name": "stdout",
          "text": [
            "Collecting torchmetrics\n",
            "  Downloading torchmetrics-0.7.2-py3-none-any.whl (397 kB)\n",
            "\u001b[?25l\r\u001b[K     |▉                               | 10 kB 32.3 MB/s eta 0:00:01\r\u001b[K     |█▋                              | 20 kB 8.6 MB/s eta 0:00:01\r\u001b[K     |██▌                             | 30 kB 7.7 MB/s eta 0:00:01\r\u001b[K     |███▎                            | 40 kB 7.2 MB/s eta 0:00:01\r\u001b[K     |████▏                           | 51 kB 3.9 MB/s eta 0:00:01\r\u001b[K     |█████                           | 61 kB 4.2 MB/s eta 0:00:01\r\u001b[K     |█████▊                          | 71 kB 4.1 MB/s eta 0:00:01\r\u001b[K     |██████▋                         | 81 kB 4.7 MB/s eta 0:00:01\r\u001b[K     |███████▍                        | 92 kB 5.0 MB/s eta 0:00:01\r\u001b[K     |████████▎                       | 102 kB 4.1 MB/s eta 0:00:01\r\u001b[K     |█████████                       | 112 kB 4.1 MB/s eta 0:00:01\r\u001b[K     |██████████                      | 122 kB 4.1 MB/s eta 0:00:01\r\u001b[K     |██████████▊                     | 133 kB 4.1 MB/s eta 0:00:01\r\u001b[K     |███████████▌                    | 143 kB 4.1 MB/s eta 0:00:01\r\u001b[K     |████████████▍                   | 153 kB 4.1 MB/s eta 0:00:01\r\u001b[K     |█████████████▏                  | 163 kB 4.1 MB/s eta 0:00:01\r\u001b[K     |██████████████                  | 174 kB 4.1 MB/s eta 0:00:01\r\u001b[K     |██████████████▉                 | 184 kB 4.1 MB/s eta 0:00:01\r\u001b[K     |███████████████▊                | 194 kB 4.1 MB/s eta 0:00:01\r\u001b[K     |████████████████▌               | 204 kB 4.1 MB/s eta 0:00:01\r\u001b[K     |█████████████████▎              | 215 kB 4.1 MB/s eta 0:00:01\r\u001b[K     |██████████████████▏             | 225 kB 4.1 MB/s eta 0:00:01\r\u001b[K     |███████████████████             | 235 kB 4.1 MB/s eta 0:00:01\r\u001b[K     |███████████████████▉            | 245 kB 4.1 MB/s eta 0:00:01\r\u001b[K     |████████████████████▋           | 256 kB 4.1 MB/s eta 0:00:01\r\u001b[K     |█████████████████████▌          | 266 kB 4.1 MB/s eta 0:00:01\r\u001b[K     |██████████████████████▎         | 276 kB 4.1 MB/s eta 0:00:01\r\u001b[K     |███████████████████████         | 286 kB 4.1 MB/s eta 0:00:01\r\u001b[K     |████████████████████████        | 296 kB 4.1 MB/s eta 0:00:01\r\u001b[K     |████████████████████████▊       | 307 kB 4.1 MB/s eta 0:00:01\r\u001b[K     |█████████████████████████▋      | 317 kB 4.1 MB/s eta 0:00:01\r\u001b[K     |██████████████████████████▍     | 327 kB 4.1 MB/s eta 0:00:01\r\u001b[K     |███████████████████████████▎    | 337 kB 4.1 MB/s eta 0:00:01\r\u001b[K     |████████████████████████████    | 348 kB 4.1 MB/s eta 0:00:01\r\u001b[K     |████████████████████████████▉   | 358 kB 4.1 MB/s eta 0:00:01\r\u001b[K     |█████████████████████████████▊  | 368 kB 4.1 MB/s eta 0:00:01\r\u001b[K     |██████████████████████████████▌ | 378 kB 4.1 MB/s eta 0:00:01\r\u001b[K     |███████████████████████████████▍| 389 kB 4.1 MB/s eta 0:00:01\r\u001b[K     |████████████████████████████████| 397 kB 4.1 MB/s \n",
            "\u001b[?25hRequirement already satisfied: numpy>=1.17.2 in /usr/local/lib/python3.7/dist-packages (from torchmetrics) (1.19.5)\n",
            "Requirement already satisfied: torch>=1.3.1 in /usr/local/lib/python3.7/dist-packages (from torchmetrics) (1.10.0+cu111)\n",
            "Requirement already satisfied: packaging in /usr/local/lib/python3.7/dist-packages (from torchmetrics) (21.3)\n",
            "Collecting pyDeprecate==0.3.*\n",
            "  Downloading pyDeprecate-0.3.2-py3-none-any.whl (10 kB)\n",
            "Requirement already satisfied: typing-extensions in /usr/local/lib/python3.7/dist-packages (from torch>=1.3.1->torchmetrics) (3.10.0.2)\n",
            "Requirement already satisfied: pyparsing!=3.0.5,>=2.0.2 in /usr/local/lib/python3.7/dist-packages (from packaging->torchmetrics) (3.0.7)\n",
            "Installing collected packages: pyDeprecate, torchmetrics\n",
            "Successfully installed pyDeprecate-0.3.2 torchmetrics-0.7.2\n"
          ]
        }
      ]
    },
    {
      "cell_type": "code",
      "source": [
        "!pip install -U git+https://github.com/albu/albumentations > /dev/null \n",
        "import albumentations as A\n",
        "from albumentations.pytorch import ToTensorV2"
      ],
      "metadata": {
        "colab": {
          "base_uri": "https://localhost:8080/"
        },
        "id": "7Fsx0VkuVAMB",
        "outputId": "73cada7e-4909-410a-ed75-f38a25783872"
      },
      "execution_count": 5,
      "outputs": [
        {
          "output_type": "stream",
          "name": "stdout",
          "text": [
            "  Running command git clone -q https://github.com/albu/albumentations /tmp/pip-req-build-a0r2zkio\n"
          ]
        }
      ]
    },
    {
      "cell_type": "markdown",
      "source": [
        "**login to weights and biases**\n",
        "\n",
        "**link to wandb guide** - https://docs.wandb.ai/quickstart"
      ],
      "metadata": {
        "id": "IzG2RWzynOjF"
      }
    },
    {
      "cell_type": "code",
      "source": [
        "!pip install wandb\n",
        "import wandb"
      ],
      "metadata": {
        "colab": {
          "base_uri": "https://localhost:8080/"
        },
        "id": "TFkzI6bOeI44",
        "outputId": "488ca1f8-bdae-4622-ba86-0aa5bef3683b"
      },
      "execution_count": 6,
      "outputs": [
        {
          "output_type": "stream",
          "name": "stdout",
          "text": [
            "Collecting wandb\n",
            "  Downloading wandb-0.12.10-py2.py3-none-any.whl (1.7 MB)\n",
            "\u001b[K     |████████████████████████████████| 1.7 MB 4.2 MB/s \n",
            "\u001b[?25hCollecting shortuuid>=0.5.0\n",
            "  Downloading shortuuid-1.0.8-py3-none-any.whl (9.5 kB)\n",
            "Collecting docker-pycreds>=0.4.0\n",
            "  Downloading docker_pycreds-0.4.0-py2.py3-none-any.whl (9.0 kB)\n",
            "Requirement already satisfied: PyYAML in /usr/local/lib/python3.7/dist-packages (from wandb) (3.13)\n",
            "Collecting sentry-sdk>=1.0.0\n",
            "  Downloading sentry_sdk-1.5.5-py2.py3-none-any.whl (144 kB)\n",
            "\u001b[K     |████████████████████████████████| 144 kB 71.6 MB/s \n",
            "\u001b[?25hRequirement already satisfied: psutil>=5.0.0 in /usr/local/lib/python3.7/dist-packages (from wandb) (5.4.8)\n",
            "Requirement already satisfied: Click!=8.0.0,>=7.0 in /usr/local/lib/python3.7/dist-packages (from wandb) (7.1.2)\n",
            "Collecting GitPython>=1.0.0\n",
            "  Downloading GitPython-3.1.26-py3-none-any.whl (180 kB)\n",
            "\u001b[K     |████████████████████████████████| 180 kB 89.4 MB/s \n",
            "\u001b[?25hCollecting yaspin>=1.0.0\n",
            "  Downloading yaspin-2.1.0-py3-none-any.whl (18 kB)\n",
            "Requirement already satisfied: python-dateutil>=2.6.1 in /usr/local/lib/python3.7/dist-packages (from wandb) (2.8.2)\n",
            "Collecting pathtools\n",
            "  Downloading pathtools-0.1.2.tar.gz (11 kB)\n",
            "Requirement already satisfied: requests<3,>=2.0.0 in /usr/local/lib/python3.7/dist-packages (from wandb) (2.23.0)\n",
            "Requirement already satisfied: six>=1.13.0 in /usr/local/lib/python3.7/dist-packages (from wandb) (1.15.0)\n",
            "Requirement already satisfied: promise<3,>=2.0 in /usr/local/lib/python3.7/dist-packages (from wandb) (2.3)\n",
            "Requirement already satisfied: protobuf>=3.12.0 in /usr/local/lib/python3.7/dist-packages (from wandb) (3.17.3)\n",
            "Collecting gitdb<5,>=4.0.1\n",
            "  Downloading gitdb-4.0.9-py3-none-any.whl (63 kB)\n",
            "\u001b[K     |████████████████████████████████| 63 kB 2.6 MB/s \n",
            "\u001b[?25hRequirement already satisfied: typing-extensions>=3.7.4.3 in /usr/local/lib/python3.7/dist-packages (from GitPython>=1.0.0->wandb) (3.10.0.2)\n",
            "Collecting smmap<6,>=3.0.1\n",
            "  Downloading smmap-5.0.0-py3-none-any.whl (24 kB)\n",
            "Requirement already satisfied: idna<3,>=2.5 in /usr/local/lib/python3.7/dist-packages (from requests<3,>=2.0.0->wandb) (2.10)\n",
            "Requirement already satisfied: urllib3!=1.25.0,!=1.25.1,<1.26,>=1.21.1 in /usr/local/lib/python3.7/dist-packages (from requests<3,>=2.0.0->wandb) (1.24.3)\n",
            "Requirement already satisfied: certifi>=2017.4.17 in /usr/local/lib/python3.7/dist-packages (from requests<3,>=2.0.0->wandb) (2021.10.8)\n",
            "Requirement already satisfied: chardet<4,>=3.0.2 in /usr/local/lib/python3.7/dist-packages (from requests<3,>=2.0.0->wandb) (3.0.4)\n",
            "Requirement already satisfied: termcolor<2.0.0,>=1.1.0 in /usr/local/lib/python3.7/dist-packages (from yaspin>=1.0.0->wandb) (1.1.0)\n",
            "Building wheels for collected packages: pathtools\n",
            "  Building wheel for pathtools (setup.py) ... \u001b[?25l\u001b[?25hdone\n",
            "  Created wheel for pathtools: filename=pathtools-0.1.2-py3-none-any.whl size=8806 sha256=42aaf8c9e2b222107daf9b9eb884183a1c3db76ce4424abfd93b74dd1fc45ef0\n",
            "  Stored in directory: /root/.cache/pip/wheels/3e/31/09/fa59cef12cdcfecc627b3d24273699f390e71828921b2cbba2\n",
            "Successfully built pathtools\n",
            "Installing collected packages: smmap, gitdb, yaspin, shortuuid, sentry-sdk, pathtools, GitPython, docker-pycreds, wandb\n",
            "Successfully installed GitPython-3.1.26 docker-pycreds-0.4.0 gitdb-4.0.9 pathtools-0.1.2 sentry-sdk-1.5.5 shortuuid-1.0.8 smmap-5.0.0 wandb-0.12.10 yaspin-2.1.0\n"
          ]
        }
      ]
    },
    {
      "cell_type": "code",
      "source": [
        "\n",
        "#!wandb login 52b3b279a9d634741e39bd8541fece124dfb8b88"
      ],
      "metadata": {
        "id": "77_ExSp8nNvj"
      },
      "execution_count": 7,
      "outputs": []
    },
    {
      "cell_type": "markdown",
      "source": [
        "**connect to google Drive**"
      ],
      "metadata": {
        "id": "TabSu3p19-yc"
      }
    },
    {
      "cell_type": "code",
      "execution_count": 8,
      "metadata": {
        "colab": {
          "base_uri": "https://localhost:8080/"
        },
        "id": "A5vzcUtlPsKQ",
        "outputId": "96b2f44c-ffeb-4df0-9632-d2897b1079b3"
      },
      "outputs": [
        {
          "output_type": "stream",
          "name": "stdout",
          "text": [
            "Mounted at /gdrive\n"
          ]
        }
      ],
      "source": [
        "from google.colab import drive\n",
        "drive.mount('/gdrive')"
      ]
    },
    {
      "cell_type": "markdown",
      "source": [
        "# Load dataset \n",
        "download the Plant Pathology 2021 dataset with kaggle API to google drive"
      ],
      "metadata": {
        "id": "OYL7vbXz8wAB"
      }
    },
    {
      "cell_type": "markdown",
      "source": [
        "to download API Credentials follow the instructions in the following link - https://www.analyticsvidhya.com/blog/2021/06/how-to-load-kaggle-datasets-directly-into-google-colab/  "
      ],
      "metadata": {
        "id": "GyLUDWP_88GK"
      }
    },
    {
      "cell_type": "code",
      "source": [
        "! pip install kaggle\n",
        "! mkdir /.kaggle\n",
        "! cp kaggle.json ~/.kaggle/\n",
        "! chmod 600 ~/.kaggle/kaggle.json"
      ],
      "metadata": {
        "id": "bZ2vaFE483Nd"
      },
      "execution_count": null,
      "outputs": []
    },
    {
      "cell_type": "code",
      "source": [
        "%cd /gdrive/MyDrive"
      ],
      "metadata": {
        "colab": {
          "base_uri": "https://localhost:8080/"
        },
        "id": "aq-keFSE-ouC",
        "outputId": "3485c292-2471-402a-a069-678257fdcb28"
      },
      "execution_count": null,
      "outputs": [
        {
          "output_type": "stream",
          "name": "stdout",
          "text": [
            "/gdrive/MyDrive\n"
          ]
        }
      ]
    },
    {
      "cell_type": "markdown",
      "source": [
        "make directories"
      ],
      "metadata": {
        "id": "Txn8jPFCMZGM"
      }
    },
    {
      "cell_type": "code",
      "source": [
        "!mkdir LeafGANDataSet\n",
        "!mkdir plant-pathology-dataset"
      ],
      "metadata": {
        "id": "phdK0U0o-WjL"
      },
      "execution_count": null,
      "outputs": []
    },
    {
      "cell_type": "markdown",
      "source": [
        "**download the plant pathology 2021 900x900 images from kaggle dataset**"
      ],
      "metadata": {
        "id": "IgAjH_NG9vjp"
      }
    },
    {
      "cell_type": "code",
      "source": [
        "! kaggle datasets download jirkaborovec/plant-pathology-2021-fgvc8-960px -p /gdrive/MyDrive/LeafGANDataSet/plant-pathology-dataset"
      ],
      "metadata": {
        "colab": {
          "base_uri": "https://localhost:8080/"
        },
        "id": "4ERQ5pwpGd1b",
        "outputId": "bfeaa5ee-ce9e-4d97-c87d-137ff876bf62"
      },
      "execution_count": null,
      "outputs": [
        {
          "output_type": "stream",
          "name": "stdout",
          "text": [
            "Downloading plant-pathology-2021-fgvc8-960px.zip to /gdrive/MyDrive/LeafGANDataSet/plant-pathology-dataset\n",
            "100% 1.21G/1.21G [00:42<00:00, 24.2MB/s]\n",
            "100% 1.21G/1.21G [00:43<00:00, 30.3MB/s]\n"
          ]
        }
      ]
    },
    {
      "cell_type": "markdown",
      "source": [
        "enter to the right path"
      ],
      "metadata": {
        "id": "QYTy68kCMpmq"
      }
    },
    {
      "cell_type": "code",
      "source": [
        "%cd /gdrive/MyDrive/LeafGANDataSet/plant-pathology-dataset/"
      ],
      "metadata": {
        "colab": {
          "base_uri": "https://localhost:8080/"
        },
        "id": "nEcqd__0Li06",
        "outputId": "f3bcc2c7-1365-4b66-edda-5655874c9836"
      },
      "execution_count": 32,
      "outputs": [
        {
          "output_type": "stream",
          "name": "stdout",
          "text": [
            "/gdrive/.shortcut-targets-by-id/19BTxmd5iqi13fW526v_d0CgS_shMILpC/LeafGANDataSet/plant-pathology-dataset\n"
          ]
        }
      ]
    },
    {
      "cell_type": "markdown",
      "source": [
        "unzip files"
      ],
      "metadata": {
        "id": "cQv8WVc2Mu_n"
      }
    },
    {
      "cell_type": "code",
      "source": [
        "!unzip /gdrive/MyDrive/LeafGANDataSet/plant-pathology-dataset/plant-pathology-2021-fgvc8-960px.zip"
      ],
      "metadata": {
        "id": "yX9K9qImHcPp"
      },
      "execution_count": null,
      "outputs": []
    },
    {
      "cell_type": "code",
      "source": [
        "%cd /gdrive/MyDrive/LeafGANDataSet"
      ],
      "metadata": {
        "colab": {
          "base_uri": "https://localhost:8080/"
        },
        "id": "uDfw-zYY-4Yx",
        "outputId": "82dc364a-9431-404d-dfcb-f0d690d618c6"
      },
      "execution_count": null,
      "outputs": [
        {
          "output_type": "stream",
          "name": "stdout",
          "text": [
            "/gdrive/.shortcut-targets-by-id/19BTxmd5iqi13fW526v_d0CgS_shMILpC/LeafGANDataSet\n"
          ]
        }
      ]
    },
    {
      "cell_type": "markdown",
      "source": [
        "# Train resnet model \n",
        "train resnet152 to classify apple disease from the Plant Pathology 2021 dataset\n",
        "and analize classes matrics performance.\n",
        "this will help understand wich of the class need more images generated by the LeafGan"
      ],
      "metadata": {
        "id": "g2jx1xEV7cFt"
      }
    },
    {
      "cell_type": "markdown",
      "source": [
        "**read train csv file**"
      ],
      "metadata": {
        "id": "9NWR3WLjNg_P"
      }
    },
    {
      "cell_type": "code",
      "source": [
        "dataset_path = \"/gdrive/MyDrive/LeafGANDataSet/\"\n",
        "df = pd.read_csv(dataset_path + 'train.csv', index_col=\"image\")"
      ],
      "metadata": {
        "id": "WAfs4Q8-7bjP"
      },
      "execution_count": 7,
      "outputs": []
    },
    {
      "cell_type": "markdown",
      "source": [
        "**keep only single labeled samples**"
      ],
      "metadata": {
        "id": "nPKOlYkJbEnU"
      }
    },
    {
      "cell_type": "code",
      "source": [
        "df1 = df[df['labels']== 'scab']\n",
        "df2 = df[df['labels']=='healthy']\n",
        "df3 = df[df['labels']=='frog_eye_leaf_spot']\n",
        "df4 = df[df['labels']=='rust']\n",
        "df5 = df[df['labels']=='complex']\n",
        "df6 = df[df['labels']=='powdery_mildew']\n",
        "df = pd.concat([df1, df2, df3, df4, df5, df6])"
      ],
      "metadata": {
        "id": "_bWn_UQzbEc3"
      },
      "execution_count": 8,
      "outputs": []
    },
    {
      "cell_type": "code",
      "source": [
        "df.head()"
      ],
      "metadata": {
        "colab": {
          "base_uri": "https://localhost:8080/",
          "height": 237
        },
        "id": "y4FTH9urNgEz",
        "outputId": "5e3e8b99-fdf4-4af1-f63d-8683c5093232"
      },
      "execution_count": 19,
      "outputs": [
        {
          "output_type": "execute_result",
          "data": {
            "text/html": [
              "\n",
              "  <div id=\"df-1625ced8-28da-4b60-9044-df1305f0051c\">\n",
              "    <div class=\"colab-df-container\">\n",
              "      <div>\n",
              "<style scoped>\n",
              "    .dataframe tbody tr th:only-of-type {\n",
              "        vertical-align: middle;\n",
              "    }\n",
              "\n",
              "    .dataframe tbody tr th {\n",
              "        vertical-align: top;\n",
              "    }\n",
              "\n",
              "    .dataframe thead th {\n",
              "        text-align: right;\n",
              "    }\n",
              "</style>\n",
              "<table border=\"1\" class=\"dataframe\">\n",
              "  <thead>\n",
              "    <tr style=\"text-align: right;\">\n",
              "      <th></th>\n",
              "      <th>labels</th>\n",
              "    </tr>\n",
              "    <tr>\n",
              "      <th>image</th>\n",
              "      <th></th>\n",
              "    </tr>\n",
              "  </thead>\n",
              "  <tbody>\n",
              "    <tr>\n",
              "      <th>80070f7fb5e2ccaa.jpg</th>\n",
              "      <td>scab</td>\n",
              "    </tr>\n",
              "    <tr>\n",
              "      <th>80077517781fb94f.jpg</th>\n",
              "      <td>scab</td>\n",
              "    </tr>\n",
              "    <tr>\n",
              "      <th>80230a9a3f7a9f6b.jpg</th>\n",
              "      <td>scab</td>\n",
              "    </tr>\n",
              "    <tr>\n",
              "      <th>80261f473eafb92c.jpg</th>\n",
              "      <td>scab</td>\n",
              "    </tr>\n",
              "    <tr>\n",
              "      <th>802962dc3ecdbb8d.jpg</th>\n",
              "      <td>scab</td>\n",
              "    </tr>\n",
              "  </tbody>\n",
              "</table>\n",
              "</div>\n",
              "      <button class=\"colab-df-convert\" onclick=\"convertToInteractive('df-1625ced8-28da-4b60-9044-df1305f0051c')\"\n",
              "              title=\"Convert this dataframe to an interactive table.\"\n",
              "              style=\"display:none;\">\n",
              "        \n",
              "  <svg xmlns=\"http://www.w3.org/2000/svg\" height=\"24px\"viewBox=\"0 0 24 24\"\n",
              "       width=\"24px\">\n",
              "    <path d=\"M0 0h24v24H0V0z\" fill=\"none\"/>\n",
              "    <path d=\"M18.56 5.44l.94 2.06.94-2.06 2.06-.94-2.06-.94-.94-2.06-.94 2.06-2.06.94zm-11 1L8.5 8.5l.94-2.06 2.06-.94-2.06-.94L8.5 2.5l-.94 2.06-2.06.94zm10 10l.94 2.06.94-2.06 2.06-.94-2.06-.94-.94-2.06-.94 2.06-2.06.94z\"/><path d=\"M17.41 7.96l-1.37-1.37c-.4-.4-.92-.59-1.43-.59-.52 0-1.04.2-1.43.59L10.3 9.45l-7.72 7.72c-.78.78-.78 2.05 0 2.83L4 21.41c.39.39.9.59 1.41.59.51 0 1.02-.2 1.41-.59l7.78-7.78 2.81-2.81c.8-.78.8-2.07 0-2.86zM5.41 20L4 18.59l7.72-7.72 1.47 1.35L5.41 20z\"/>\n",
              "  </svg>\n",
              "      </button>\n",
              "      \n",
              "  <style>\n",
              "    .colab-df-container {\n",
              "      display:flex;\n",
              "      flex-wrap:wrap;\n",
              "      gap: 12px;\n",
              "    }\n",
              "\n",
              "    .colab-df-convert {\n",
              "      background-color: #E8F0FE;\n",
              "      border: none;\n",
              "      border-radius: 50%;\n",
              "      cursor: pointer;\n",
              "      display: none;\n",
              "      fill: #1967D2;\n",
              "      height: 32px;\n",
              "      padding: 0 0 0 0;\n",
              "      width: 32px;\n",
              "    }\n",
              "\n",
              "    .colab-df-convert:hover {\n",
              "      background-color: #E2EBFA;\n",
              "      box-shadow: 0px 1px 2px rgba(60, 64, 67, 0.3), 0px 1px 3px 1px rgba(60, 64, 67, 0.15);\n",
              "      fill: #174EA6;\n",
              "    }\n",
              "\n",
              "    [theme=dark] .colab-df-convert {\n",
              "      background-color: #3B4455;\n",
              "      fill: #D2E3FC;\n",
              "    }\n",
              "\n",
              "    [theme=dark] .colab-df-convert:hover {\n",
              "      background-color: #434B5C;\n",
              "      box-shadow: 0px 1px 3px 1px rgba(0, 0, 0, 0.15);\n",
              "      filter: drop-shadow(0px 1px 2px rgba(0, 0, 0, 0.3));\n",
              "      fill: #FFFFFF;\n",
              "    }\n",
              "  </style>\n",
              "\n",
              "      <script>\n",
              "        const buttonEl =\n",
              "          document.querySelector('#df-1625ced8-28da-4b60-9044-df1305f0051c button.colab-df-convert');\n",
              "        buttonEl.style.display =\n",
              "          google.colab.kernel.accessAllowed ? 'block' : 'none';\n",
              "\n",
              "        async function convertToInteractive(key) {\n",
              "          const element = document.querySelector('#df-1625ced8-28da-4b60-9044-df1305f0051c');\n",
              "          const dataTable =\n",
              "            await google.colab.kernel.invokeFunction('convertToInteractive',\n",
              "                                                     [key], {});\n",
              "          if (!dataTable) return;\n",
              "\n",
              "          const docLinkHtml = 'Like what you see? Visit the ' +\n",
              "            '<a target=\"_blank\" href=https://colab.research.google.com/notebooks/data_table.ipynb>data table notebook</a>'\n",
              "            + ' to learn more about interactive tables.';\n",
              "          element.innerHTML = '';\n",
              "          dataTable['output_type'] = 'display_data';\n",
              "          await google.colab.output.renderOutput(dataTable, element);\n",
              "          const docLink = document.createElement('div');\n",
              "          docLink.innerHTML = docLinkHtml;\n",
              "          element.appendChild(docLink);\n",
              "        }\n",
              "      </script>\n",
              "    </div>\n",
              "  </div>\n",
              "  "
            ],
            "text/plain": [
              "                     labels\n",
              "image                      \n",
              "80070f7fb5e2ccaa.jpg   scab\n",
              "80077517781fb94f.jpg   scab\n",
              "80230a9a3f7a9f6b.jpg   scab\n",
              "80261f473eafb92c.jpg   scab\n",
              "802962dc3ecdbb8d.jpg   scab"
            ]
          },
          "metadata": {},
          "execution_count": 19
        }
      ]
    },
    {
      "cell_type": "code",
      "source": [
        "source = df['labels'].value_counts()\n",
        "fig = go.Figure(data=[go.Pie(labels=source.index,values=source.values)])\n",
        "fig.update_layout(title='Label distribution all dataset')\n",
        "fig.show()"
      ],
      "metadata": {
        "colab": {
          "base_uri": "https://localhost:8080/",
          "height": 542
        },
        "id": "UjqU43OKOYE6",
        "outputId": "66aa3526-8134-4df9-878a-4d1e1e7862e6"
      },
      "execution_count": 20,
      "outputs": [
        {
          "output_type": "display_data",
          "data": {
            "text/html": [
              "<html>\n",
              "<head><meta charset=\"utf-8\" /></head>\n",
              "<body>\n",
              "    <div>            <script src=\"https://cdnjs.cloudflare.com/ajax/libs/mathjax/2.7.5/MathJax.js?config=TeX-AMS-MML_SVG\"></script><script type=\"text/javascript\">if (window.MathJax) {MathJax.Hub.Config({SVG: {font: \"STIX-Web\"}});}</script>                <script type=\"text/javascript\">window.PlotlyConfig = {MathJaxConfig: 'local'};</script>\n",
              "        <script src=\"https://cdn.plot.ly/plotly-2.8.3.min.js\"></script>                <div id=\"62b4550e-f69e-45c4-b986-ac71ac71a227\" class=\"plotly-graph-div\" style=\"height:525px; width:100%;\"></div>            <script type=\"text/javascript\">                                    window.PLOTLYENV=window.PLOTLYENV || {};                                    if (document.getElementById(\"62b4550e-f69e-45c4-b986-ac71ac71a227\")) {                    Plotly.newPlot(                        \"62b4550e-f69e-45c4-b986-ac71ac71a227\",                        [{\"labels\":[\"scab\",\"healthy\",\"frog_eye_leaf_spot\",\"rust\",\"complex\",\"powdery_mildew\"],\"values\":[4826,4624,3181,1860,1602,1184],\"type\":\"pie\"}],                        {\"template\":{\"data\":{\"bar\":[{\"error_x\":{\"color\":\"#2a3f5f\"},\"error_y\":{\"color\":\"#2a3f5f\"},\"marker\":{\"line\":{\"color\":\"#E5ECF6\",\"width\":0.5},\"pattern\":{\"fillmode\":\"overlay\",\"size\":10,\"solidity\":0.2}},\"type\":\"bar\"}],\"barpolar\":[{\"marker\":{\"line\":{\"color\":\"#E5ECF6\",\"width\":0.5},\"pattern\":{\"fillmode\":\"overlay\",\"size\":10,\"solidity\":0.2}},\"type\":\"barpolar\"}],\"carpet\":[{\"aaxis\":{\"endlinecolor\":\"#2a3f5f\",\"gridcolor\":\"white\",\"linecolor\":\"white\",\"minorgridcolor\":\"white\",\"startlinecolor\":\"#2a3f5f\"},\"baxis\":{\"endlinecolor\":\"#2a3f5f\",\"gridcolor\":\"white\",\"linecolor\":\"white\",\"minorgridcolor\":\"white\",\"startlinecolor\":\"#2a3f5f\"},\"type\":\"carpet\"}],\"choropleth\":[{\"colorbar\":{\"outlinewidth\":0,\"ticks\":\"\"},\"type\":\"choropleth\"}],\"contour\":[{\"colorbar\":{\"outlinewidth\":0,\"ticks\":\"\"},\"colorscale\":[[0.0,\"#0d0887\"],[0.1111111111111111,\"#46039f\"],[0.2222222222222222,\"#7201a8\"],[0.3333333333333333,\"#9c179e\"],[0.4444444444444444,\"#bd3786\"],[0.5555555555555556,\"#d8576b\"],[0.6666666666666666,\"#ed7953\"],[0.7777777777777778,\"#fb9f3a\"],[0.8888888888888888,\"#fdca26\"],[1.0,\"#f0f921\"]],\"type\":\"contour\"}],\"contourcarpet\":[{\"colorbar\":{\"outlinewidth\":0,\"ticks\":\"\"},\"type\":\"contourcarpet\"}],\"heatmap\":[{\"colorbar\":{\"outlinewidth\":0,\"ticks\":\"\"},\"colorscale\":[[0.0,\"#0d0887\"],[0.1111111111111111,\"#46039f\"],[0.2222222222222222,\"#7201a8\"],[0.3333333333333333,\"#9c179e\"],[0.4444444444444444,\"#bd3786\"],[0.5555555555555556,\"#d8576b\"],[0.6666666666666666,\"#ed7953\"],[0.7777777777777778,\"#fb9f3a\"],[0.8888888888888888,\"#fdca26\"],[1.0,\"#f0f921\"]],\"type\":\"heatmap\"}],\"heatmapgl\":[{\"colorbar\":{\"outlinewidth\":0,\"ticks\":\"\"},\"colorscale\":[[0.0,\"#0d0887\"],[0.1111111111111111,\"#46039f\"],[0.2222222222222222,\"#7201a8\"],[0.3333333333333333,\"#9c179e\"],[0.4444444444444444,\"#bd3786\"],[0.5555555555555556,\"#d8576b\"],[0.6666666666666666,\"#ed7953\"],[0.7777777777777778,\"#fb9f3a\"],[0.8888888888888888,\"#fdca26\"],[1.0,\"#f0f921\"]],\"type\":\"heatmapgl\"}],\"histogram\":[{\"marker\":{\"pattern\":{\"fillmode\":\"overlay\",\"size\":10,\"solidity\":0.2}},\"type\":\"histogram\"}],\"histogram2d\":[{\"colorbar\":{\"outlinewidth\":0,\"ticks\":\"\"},\"colorscale\":[[0.0,\"#0d0887\"],[0.1111111111111111,\"#46039f\"],[0.2222222222222222,\"#7201a8\"],[0.3333333333333333,\"#9c179e\"],[0.4444444444444444,\"#bd3786\"],[0.5555555555555556,\"#d8576b\"],[0.6666666666666666,\"#ed7953\"],[0.7777777777777778,\"#fb9f3a\"],[0.8888888888888888,\"#fdca26\"],[1.0,\"#f0f921\"]],\"type\":\"histogram2d\"}],\"histogram2dcontour\":[{\"colorbar\":{\"outlinewidth\":0,\"ticks\":\"\"},\"colorscale\":[[0.0,\"#0d0887\"],[0.1111111111111111,\"#46039f\"],[0.2222222222222222,\"#7201a8\"],[0.3333333333333333,\"#9c179e\"],[0.4444444444444444,\"#bd3786\"],[0.5555555555555556,\"#d8576b\"],[0.6666666666666666,\"#ed7953\"],[0.7777777777777778,\"#fb9f3a\"],[0.8888888888888888,\"#fdca26\"],[1.0,\"#f0f921\"]],\"type\":\"histogram2dcontour\"}],\"mesh3d\":[{\"colorbar\":{\"outlinewidth\":0,\"ticks\":\"\"},\"type\":\"mesh3d\"}],\"parcoords\":[{\"line\":{\"colorbar\":{\"outlinewidth\":0,\"ticks\":\"\"}},\"type\":\"parcoords\"}],\"pie\":[{\"automargin\":true,\"type\":\"pie\"}],\"scatter\":[{\"marker\":{\"colorbar\":{\"outlinewidth\":0,\"ticks\":\"\"}},\"type\":\"scatter\"}],\"scatter3d\":[{\"line\":{\"colorbar\":{\"outlinewidth\":0,\"ticks\":\"\"}},\"marker\":{\"colorbar\":{\"outlinewidth\":0,\"ticks\":\"\"}},\"type\":\"scatter3d\"}],\"scattercarpet\":[{\"marker\":{\"colorbar\":{\"outlinewidth\":0,\"ticks\":\"\"}},\"type\":\"scattercarpet\"}],\"scattergeo\":[{\"marker\":{\"colorbar\":{\"outlinewidth\":0,\"ticks\":\"\"}},\"type\":\"scattergeo\"}],\"scattergl\":[{\"marker\":{\"colorbar\":{\"outlinewidth\":0,\"ticks\":\"\"}},\"type\":\"scattergl\"}],\"scattermapbox\":[{\"marker\":{\"colorbar\":{\"outlinewidth\":0,\"ticks\":\"\"}},\"type\":\"scattermapbox\"}],\"scatterpolar\":[{\"marker\":{\"colorbar\":{\"outlinewidth\":0,\"ticks\":\"\"}},\"type\":\"scatterpolar\"}],\"scatterpolargl\":[{\"marker\":{\"colorbar\":{\"outlinewidth\":0,\"ticks\":\"\"}},\"type\":\"scatterpolargl\"}],\"scatterternary\":[{\"marker\":{\"colorbar\":{\"outlinewidth\":0,\"ticks\":\"\"}},\"type\":\"scatterternary\"}],\"surface\":[{\"colorbar\":{\"outlinewidth\":0,\"ticks\":\"\"},\"colorscale\":[[0.0,\"#0d0887\"],[0.1111111111111111,\"#46039f\"],[0.2222222222222222,\"#7201a8\"],[0.3333333333333333,\"#9c179e\"],[0.4444444444444444,\"#bd3786\"],[0.5555555555555556,\"#d8576b\"],[0.6666666666666666,\"#ed7953\"],[0.7777777777777778,\"#fb9f3a\"],[0.8888888888888888,\"#fdca26\"],[1.0,\"#f0f921\"]],\"type\":\"surface\"}],\"table\":[{\"cells\":{\"fill\":{\"color\":\"#EBF0F8\"},\"line\":{\"color\":\"white\"}},\"header\":{\"fill\":{\"color\":\"#C8D4E3\"},\"line\":{\"color\":\"white\"}},\"type\":\"table\"}]},\"layout\":{\"annotationdefaults\":{\"arrowcolor\":\"#2a3f5f\",\"arrowhead\":0,\"arrowwidth\":1},\"autotypenumbers\":\"strict\",\"coloraxis\":{\"colorbar\":{\"outlinewidth\":0,\"ticks\":\"\"}},\"colorscale\":{\"diverging\":[[0,\"#8e0152\"],[0.1,\"#c51b7d\"],[0.2,\"#de77ae\"],[0.3,\"#f1b6da\"],[0.4,\"#fde0ef\"],[0.5,\"#f7f7f7\"],[0.6,\"#e6f5d0\"],[0.7,\"#b8e186\"],[0.8,\"#7fbc41\"],[0.9,\"#4d9221\"],[1,\"#276419\"]],\"sequential\":[[0.0,\"#0d0887\"],[0.1111111111111111,\"#46039f\"],[0.2222222222222222,\"#7201a8\"],[0.3333333333333333,\"#9c179e\"],[0.4444444444444444,\"#bd3786\"],[0.5555555555555556,\"#d8576b\"],[0.6666666666666666,\"#ed7953\"],[0.7777777777777778,\"#fb9f3a\"],[0.8888888888888888,\"#fdca26\"],[1.0,\"#f0f921\"]],\"sequentialminus\":[[0.0,\"#0d0887\"],[0.1111111111111111,\"#46039f\"],[0.2222222222222222,\"#7201a8\"],[0.3333333333333333,\"#9c179e\"],[0.4444444444444444,\"#bd3786\"],[0.5555555555555556,\"#d8576b\"],[0.6666666666666666,\"#ed7953\"],[0.7777777777777778,\"#fb9f3a\"],[0.8888888888888888,\"#fdca26\"],[1.0,\"#f0f921\"]]},\"colorway\":[\"#636efa\",\"#EF553B\",\"#00cc96\",\"#ab63fa\",\"#FFA15A\",\"#19d3f3\",\"#FF6692\",\"#B6E880\",\"#FF97FF\",\"#FECB52\"],\"font\":{\"color\":\"#2a3f5f\"},\"geo\":{\"bgcolor\":\"white\",\"lakecolor\":\"white\",\"landcolor\":\"#E5ECF6\",\"showlakes\":true,\"showland\":true,\"subunitcolor\":\"white\"},\"hoverlabel\":{\"align\":\"left\"},\"hovermode\":\"closest\",\"mapbox\":{\"style\":\"light\"},\"paper_bgcolor\":\"white\",\"plot_bgcolor\":\"#E5ECF6\",\"polar\":{\"angularaxis\":{\"gridcolor\":\"white\",\"linecolor\":\"white\",\"ticks\":\"\"},\"bgcolor\":\"#E5ECF6\",\"radialaxis\":{\"gridcolor\":\"white\",\"linecolor\":\"white\",\"ticks\":\"\"}},\"scene\":{\"xaxis\":{\"backgroundcolor\":\"#E5ECF6\",\"gridcolor\":\"white\",\"gridwidth\":2,\"linecolor\":\"white\",\"showbackground\":true,\"ticks\":\"\",\"zerolinecolor\":\"white\"},\"yaxis\":{\"backgroundcolor\":\"#E5ECF6\",\"gridcolor\":\"white\",\"gridwidth\":2,\"linecolor\":\"white\",\"showbackground\":true,\"ticks\":\"\",\"zerolinecolor\":\"white\"},\"zaxis\":{\"backgroundcolor\":\"#E5ECF6\",\"gridcolor\":\"white\",\"gridwidth\":2,\"linecolor\":\"white\",\"showbackground\":true,\"ticks\":\"\",\"zerolinecolor\":\"white\"}},\"shapedefaults\":{\"line\":{\"color\":\"#2a3f5f\"}},\"ternary\":{\"aaxis\":{\"gridcolor\":\"white\",\"linecolor\":\"white\",\"ticks\":\"\"},\"baxis\":{\"gridcolor\":\"white\",\"linecolor\":\"white\",\"ticks\":\"\"},\"bgcolor\":\"#E5ECF6\",\"caxis\":{\"gridcolor\":\"white\",\"linecolor\":\"white\",\"ticks\":\"\"}},\"title\":{\"x\":0.05},\"xaxis\":{\"automargin\":true,\"gridcolor\":\"white\",\"linecolor\":\"white\",\"ticks\":\"\",\"title\":{\"standoff\":15},\"zerolinecolor\":\"white\",\"zerolinewidth\":2},\"yaxis\":{\"automargin\":true,\"gridcolor\":\"white\",\"linecolor\":\"white\",\"ticks\":\"\",\"title\":{\"standoff\":15},\"zerolinecolor\":\"white\",\"zerolinewidth\":2}}},\"title\":{\"text\":\"Label distribution all dataset\"}},                        {\"responsive\": true}                    ).then(function(){\n",
              "                            \n",
              "var gd = document.getElementById('62b4550e-f69e-45c4-b986-ac71ac71a227');\n",
              "var x = new MutationObserver(function (mutations, observer) {{\n",
              "        var display = window.getComputedStyle(gd).display;\n",
              "        if (!display || display === 'none') {{\n",
              "            console.log([gd, 'removed!']);\n",
              "            Plotly.purge(gd);\n",
              "            observer.disconnect();\n",
              "        }}\n",
              "}});\n",
              "\n",
              "// Listen for the removal of the full notebook cells\n",
              "var notebookContainer = gd.closest('#notebook-container');\n",
              "if (notebookContainer) {{\n",
              "    x.observe(notebookContainer, {childList: true});\n",
              "}}\n",
              "\n",
              "// Listen for the clearing of the current output cell\n",
              "var outputEl = gd.closest('.output');\n",
              "if (outputEl) {{\n",
              "    x.observe(outputEl, {childList: true});\n",
              "}}\n",
              "\n",
              "                        })                };                            </script>        </div>\n",
              "</body>\n",
              "</html>"
            ]
          },
          "metadata": {}
        }
      ]
    },
    {
      "cell_type": "markdown",
      "source": [
        "split the data - 80% train, 20% test with stratified 5 Folds to preserve labels distribution"
      ],
      "metadata": {
        "id": "nWWlCRzZN3H-"
      }
    },
    {
      "cell_type": "code",
      "source": [
        "sfk = StratifiedKFold(5)\n",
        "for train_idx, valid_idx in sfk.split(df.index, df['labels']):\n",
        "    df_train = df.iloc[train_idx]\n",
        "    df_valid = df.iloc[valid_idx]\n",
        "    break\n",
        "print(f\"train size: {len(df_train)}\")\n",
        "print(f\"valid size: {len(df_valid)}\")"
      ],
      "metadata": {
        "colab": {
          "base_uri": "https://localhost:8080/"
        },
        "id": "oTQYtEsdNx7I",
        "outputId": "6f527b4f-49e4-4fab-ea38-2099c57c003d"
      },
      "execution_count": 10,
      "outputs": [
        {
          "output_type": "stream",
          "name": "stdout",
          "text": [
            "train size: 13821\n",
            "valid size: 3456\n"
          ]
        }
      ]
    },
    {
      "cell_type": "code",
      "source": [
        "source = df_train['labels'].value_counts()\n",
        "fig = go.Figure(data=[go.Pie(labels=source.index,values=source.values)])\n",
        "fig.update_layout(title='Label distribution train')\n",
        "fig.show()"
      ],
      "metadata": {
        "colab": {
          "base_uri": "https://localhost:8080/",
          "height": 542
        },
        "id": "7oeccdGRO8XC",
        "outputId": "34234459-b326-4ed8-9c63-a97117fec5f6"
      },
      "execution_count": 22,
      "outputs": [
        {
          "output_type": "display_data",
          "data": {
            "text/html": [
              "<html>\n",
              "<head><meta charset=\"utf-8\" /></head>\n",
              "<body>\n",
              "    <div>            <script src=\"https://cdnjs.cloudflare.com/ajax/libs/mathjax/2.7.5/MathJax.js?config=TeX-AMS-MML_SVG\"></script><script type=\"text/javascript\">if (window.MathJax) {MathJax.Hub.Config({SVG: {font: \"STIX-Web\"}});}</script>                <script type=\"text/javascript\">window.PlotlyConfig = {MathJaxConfig: 'local'};</script>\n",
              "        <script src=\"https://cdn.plot.ly/plotly-2.8.3.min.js\"></script>                <div id=\"6bc19cb6-9be2-4a68-9d1d-001c2662fc59\" class=\"plotly-graph-div\" style=\"height:525px; width:100%;\"></div>            <script type=\"text/javascript\">                                    window.PLOTLYENV=window.PLOTLYENV || {};                                    if (document.getElementById(\"6bc19cb6-9be2-4a68-9d1d-001c2662fc59\")) {                    Plotly.newPlot(                        \"6bc19cb6-9be2-4a68-9d1d-001c2662fc59\",                        [{\"labels\":[\"scab\",\"healthy\",\"frog_eye_leaf_spot\",\"rust\",\"complex\",\"powdery_mildew\"],\"values\":[3860,3700,2544,1488,1282,947],\"type\":\"pie\"}],                        {\"template\":{\"data\":{\"bar\":[{\"error_x\":{\"color\":\"#2a3f5f\"},\"error_y\":{\"color\":\"#2a3f5f\"},\"marker\":{\"line\":{\"color\":\"#E5ECF6\",\"width\":0.5},\"pattern\":{\"fillmode\":\"overlay\",\"size\":10,\"solidity\":0.2}},\"type\":\"bar\"}],\"barpolar\":[{\"marker\":{\"line\":{\"color\":\"#E5ECF6\",\"width\":0.5},\"pattern\":{\"fillmode\":\"overlay\",\"size\":10,\"solidity\":0.2}},\"type\":\"barpolar\"}],\"carpet\":[{\"aaxis\":{\"endlinecolor\":\"#2a3f5f\",\"gridcolor\":\"white\",\"linecolor\":\"white\",\"minorgridcolor\":\"white\",\"startlinecolor\":\"#2a3f5f\"},\"baxis\":{\"endlinecolor\":\"#2a3f5f\",\"gridcolor\":\"white\",\"linecolor\":\"white\",\"minorgridcolor\":\"white\",\"startlinecolor\":\"#2a3f5f\"},\"type\":\"carpet\"}],\"choropleth\":[{\"colorbar\":{\"outlinewidth\":0,\"ticks\":\"\"},\"type\":\"choropleth\"}],\"contour\":[{\"colorbar\":{\"outlinewidth\":0,\"ticks\":\"\"},\"colorscale\":[[0.0,\"#0d0887\"],[0.1111111111111111,\"#46039f\"],[0.2222222222222222,\"#7201a8\"],[0.3333333333333333,\"#9c179e\"],[0.4444444444444444,\"#bd3786\"],[0.5555555555555556,\"#d8576b\"],[0.6666666666666666,\"#ed7953\"],[0.7777777777777778,\"#fb9f3a\"],[0.8888888888888888,\"#fdca26\"],[1.0,\"#f0f921\"]],\"type\":\"contour\"}],\"contourcarpet\":[{\"colorbar\":{\"outlinewidth\":0,\"ticks\":\"\"},\"type\":\"contourcarpet\"}],\"heatmap\":[{\"colorbar\":{\"outlinewidth\":0,\"ticks\":\"\"},\"colorscale\":[[0.0,\"#0d0887\"],[0.1111111111111111,\"#46039f\"],[0.2222222222222222,\"#7201a8\"],[0.3333333333333333,\"#9c179e\"],[0.4444444444444444,\"#bd3786\"],[0.5555555555555556,\"#d8576b\"],[0.6666666666666666,\"#ed7953\"],[0.7777777777777778,\"#fb9f3a\"],[0.8888888888888888,\"#fdca26\"],[1.0,\"#f0f921\"]],\"type\":\"heatmap\"}],\"heatmapgl\":[{\"colorbar\":{\"outlinewidth\":0,\"ticks\":\"\"},\"colorscale\":[[0.0,\"#0d0887\"],[0.1111111111111111,\"#46039f\"],[0.2222222222222222,\"#7201a8\"],[0.3333333333333333,\"#9c179e\"],[0.4444444444444444,\"#bd3786\"],[0.5555555555555556,\"#d8576b\"],[0.6666666666666666,\"#ed7953\"],[0.7777777777777778,\"#fb9f3a\"],[0.8888888888888888,\"#fdca26\"],[1.0,\"#f0f921\"]],\"type\":\"heatmapgl\"}],\"histogram\":[{\"marker\":{\"pattern\":{\"fillmode\":\"overlay\",\"size\":10,\"solidity\":0.2}},\"type\":\"histogram\"}],\"histogram2d\":[{\"colorbar\":{\"outlinewidth\":0,\"ticks\":\"\"},\"colorscale\":[[0.0,\"#0d0887\"],[0.1111111111111111,\"#46039f\"],[0.2222222222222222,\"#7201a8\"],[0.3333333333333333,\"#9c179e\"],[0.4444444444444444,\"#bd3786\"],[0.5555555555555556,\"#d8576b\"],[0.6666666666666666,\"#ed7953\"],[0.7777777777777778,\"#fb9f3a\"],[0.8888888888888888,\"#fdca26\"],[1.0,\"#f0f921\"]],\"type\":\"histogram2d\"}],\"histogram2dcontour\":[{\"colorbar\":{\"outlinewidth\":0,\"ticks\":\"\"},\"colorscale\":[[0.0,\"#0d0887\"],[0.1111111111111111,\"#46039f\"],[0.2222222222222222,\"#7201a8\"],[0.3333333333333333,\"#9c179e\"],[0.4444444444444444,\"#bd3786\"],[0.5555555555555556,\"#d8576b\"],[0.6666666666666666,\"#ed7953\"],[0.7777777777777778,\"#fb9f3a\"],[0.8888888888888888,\"#fdca26\"],[1.0,\"#f0f921\"]],\"type\":\"histogram2dcontour\"}],\"mesh3d\":[{\"colorbar\":{\"outlinewidth\":0,\"ticks\":\"\"},\"type\":\"mesh3d\"}],\"parcoords\":[{\"line\":{\"colorbar\":{\"outlinewidth\":0,\"ticks\":\"\"}},\"type\":\"parcoords\"}],\"pie\":[{\"automargin\":true,\"type\":\"pie\"}],\"scatter\":[{\"marker\":{\"colorbar\":{\"outlinewidth\":0,\"ticks\":\"\"}},\"type\":\"scatter\"}],\"scatter3d\":[{\"line\":{\"colorbar\":{\"outlinewidth\":0,\"ticks\":\"\"}},\"marker\":{\"colorbar\":{\"outlinewidth\":0,\"ticks\":\"\"}},\"type\":\"scatter3d\"}],\"scattercarpet\":[{\"marker\":{\"colorbar\":{\"outlinewidth\":0,\"ticks\":\"\"}},\"type\":\"scattercarpet\"}],\"scattergeo\":[{\"marker\":{\"colorbar\":{\"outlinewidth\":0,\"ticks\":\"\"}},\"type\":\"scattergeo\"}],\"scattergl\":[{\"marker\":{\"colorbar\":{\"outlinewidth\":0,\"ticks\":\"\"}},\"type\":\"scattergl\"}],\"scattermapbox\":[{\"marker\":{\"colorbar\":{\"outlinewidth\":0,\"ticks\":\"\"}},\"type\":\"scattermapbox\"}],\"scatterpolar\":[{\"marker\":{\"colorbar\":{\"outlinewidth\":0,\"ticks\":\"\"}},\"type\":\"scatterpolar\"}],\"scatterpolargl\":[{\"marker\":{\"colorbar\":{\"outlinewidth\":0,\"ticks\":\"\"}},\"type\":\"scatterpolargl\"}],\"scatterternary\":[{\"marker\":{\"colorbar\":{\"outlinewidth\":0,\"ticks\":\"\"}},\"type\":\"scatterternary\"}],\"surface\":[{\"colorbar\":{\"outlinewidth\":0,\"ticks\":\"\"},\"colorscale\":[[0.0,\"#0d0887\"],[0.1111111111111111,\"#46039f\"],[0.2222222222222222,\"#7201a8\"],[0.3333333333333333,\"#9c179e\"],[0.4444444444444444,\"#bd3786\"],[0.5555555555555556,\"#d8576b\"],[0.6666666666666666,\"#ed7953\"],[0.7777777777777778,\"#fb9f3a\"],[0.8888888888888888,\"#fdca26\"],[1.0,\"#f0f921\"]],\"type\":\"surface\"}],\"table\":[{\"cells\":{\"fill\":{\"color\":\"#EBF0F8\"},\"line\":{\"color\":\"white\"}},\"header\":{\"fill\":{\"color\":\"#C8D4E3\"},\"line\":{\"color\":\"white\"}},\"type\":\"table\"}]},\"layout\":{\"annotationdefaults\":{\"arrowcolor\":\"#2a3f5f\",\"arrowhead\":0,\"arrowwidth\":1},\"autotypenumbers\":\"strict\",\"coloraxis\":{\"colorbar\":{\"outlinewidth\":0,\"ticks\":\"\"}},\"colorscale\":{\"diverging\":[[0,\"#8e0152\"],[0.1,\"#c51b7d\"],[0.2,\"#de77ae\"],[0.3,\"#f1b6da\"],[0.4,\"#fde0ef\"],[0.5,\"#f7f7f7\"],[0.6,\"#e6f5d0\"],[0.7,\"#b8e186\"],[0.8,\"#7fbc41\"],[0.9,\"#4d9221\"],[1,\"#276419\"]],\"sequential\":[[0.0,\"#0d0887\"],[0.1111111111111111,\"#46039f\"],[0.2222222222222222,\"#7201a8\"],[0.3333333333333333,\"#9c179e\"],[0.4444444444444444,\"#bd3786\"],[0.5555555555555556,\"#d8576b\"],[0.6666666666666666,\"#ed7953\"],[0.7777777777777778,\"#fb9f3a\"],[0.8888888888888888,\"#fdca26\"],[1.0,\"#f0f921\"]],\"sequentialminus\":[[0.0,\"#0d0887\"],[0.1111111111111111,\"#46039f\"],[0.2222222222222222,\"#7201a8\"],[0.3333333333333333,\"#9c179e\"],[0.4444444444444444,\"#bd3786\"],[0.5555555555555556,\"#d8576b\"],[0.6666666666666666,\"#ed7953\"],[0.7777777777777778,\"#fb9f3a\"],[0.8888888888888888,\"#fdca26\"],[1.0,\"#f0f921\"]]},\"colorway\":[\"#636efa\",\"#EF553B\",\"#00cc96\",\"#ab63fa\",\"#FFA15A\",\"#19d3f3\",\"#FF6692\",\"#B6E880\",\"#FF97FF\",\"#FECB52\"],\"font\":{\"color\":\"#2a3f5f\"},\"geo\":{\"bgcolor\":\"white\",\"lakecolor\":\"white\",\"landcolor\":\"#E5ECF6\",\"showlakes\":true,\"showland\":true,\"subunitcolor\":\"white\"},\"hoverlabel\":{\"align\":\"left\"},\"hovermode\":\"closest\",\"mapbox\":{\"style\":\"light\"},\"paper_bgcolor\":\"white\",\"plot_bgcolor\":\"#E5ECF6\",\"polar\":{\"angularaxis\":{\"gridcolor\":\"white\",\"linecolor\":\"white\",\"ticks\":\"\"},\"bgcolor\":\"#E5ECF6\",\"radialaxis\":{\"gridcolor\":\"white\",\"linecolor\":\"white\",\"ticks\":\"\"}},\"scene\":{\"xaxis\":{\"backgroundcolor\":\"#E5ECF6\",\"gridcolor\":\"white\",\"gridwidth\":2,\"linecolor\":\"white\",\"showbackground\":true,\"ticks\":\"\",\"zerolinecolor\":\"white\"},\"yaxis\":{\"backgroundcolor\":\"#E5ECF6\",\"gridcolor\":\"white\",\"gridwidth\":2,\"linecolor\":\"white\",\"showbackground\":true,\"ticks\":\"\",\"zerolinecolor\":\"white\"},\"zaxis\":{\"backgroundcolor\":\"#E5ECF6\",\"gridcolor\":\"white\",\"gridwidth\":2,\"linecolor\":\"white\",\"showbackground\":true,\"ticks\":\"\",\"zerolinecolor\":\"white\"}},\"shapedefaults\":{\"line\":{\"color\":\"#2a3f5f\"}},\"ternary\":{\"aaxis\":{\"gridcolor\":\"white\",\"linecolor\":\"white\",\"ticks\":\"\"},\"baxis\":{\"gridcolor\":\"white\",\"linecolor\":\"white\",\"ticks\":\"\"},\"bgcolor\":\"#E5ECF6\",\"caxis\":{\"gridcolor\":\"white\",\"linecolor\":\"white\",\"ticks\":\"\"}},\"title\":{\"x\":0.05},\"xaxis\":{\"automargin\":true,\"gridcolor\":\"white\",\"linecolor\":\"white\",\"ticks\":\"\",\"title\":{\"standoff\":15},\"zerolinecolor\":\"white\",\"zerolinewidth\":2},\"yaxis\":{\"automargin\":true,\"gridcolor\":\"white\",\"linecolor\":\"white\",\"ticks\":\"\",\"title\":{\"standoff\":15},\"zerolinecolor\":\"white\",\"zerolinewidth\":2}}},\"title\":{\"text\":\"Label distribution train\"}},                        {\"responsive\": true}                    ).then(function(){\n",
              "                            \n",
              "var gd = document.getElementById('6bc19cb6-9be2-4a68-9d1d-001c2662fc59');\n",
              "var x = new MutationObserver(function (mutations, observer) {{\n",
              "        var display = window.getComputedStyle(gd).display;\n",
              "        if (!display || display === 'none') {{\n",
              "            console.log([gd, 'removed!']);\n",
              "            Plotly.purge(gd);\n",
              "            observer.disconnect();\n",
              "        }}\n",
              "}});\n",
              "\n",
              "// Listen for the removal of the full notebook cells\n",
              "var notebookContainer = gd.closest('#notebook-container');\n",
              "if (notebookContainer) {{\n",
              "    x.observe(notebookContainer, {childList: true});\n",
              "}}\n",
              "\n",
              "// Listen for the clearing of the current output cell\n",
              "var outputEl = gd.closest('.output');\n",
              "if (outputEl) {{\n",
              "    x.observe(outputEl, {childList: true});\n",
              "}}\n",
              "\n",
              "                        })                };                            </script>        </div>\n",
              "</body>\n",
              "</html>"
            ]
          },
          "metadata": {}
        }
      ]
    },
    {
      "cell_type": "code",
      "source": [
        "source = df_valid['labels'].value_counts()\n",
        "fig = go.Figure(data=[go.Pie(labels=source.index,values=source.values)])\n",
        "fig.update_layout(title='Label distribution validation')\n",
        "fig.show()"
      ],
      "metadata": {
        "colab": {
          "base_uri": "https://localhost:8080/",
          "height": 542
        },
        "id": "-t3mkIaIPC9l",
        "outputId": "9b661035-acc5-4768-c257-a78a79370870"
      },
      "execution_count": 23,
      "outputs": [
        {
          "output_type": "display_data",
          "data": {
            "text/html": [
              "<html>\n",
              "<head><meta charset=\"utf-8\" /></head>\n",
              "<body>\n",
              "    <div>            <script src=\"https://cdnjs.cloudflare.com/ajax/libs/mathjax/2.7.5/MathJax.js?config=TeX-AMS-MML_SVG\"></script><script type=\"text/javascript\">if (window.MathJax) {MathJax.Hub.Config({SVG: {font: \"STIX-Web\"}});}</script>                <script type=\"text/javascript\">window.PlotlyConfig = {MathJaxConfig: 'local'};</script>\n",
              "        <script src=\"https://cdn.plot.ly/plotly-2.8.3.min.js\"></script>                <div id=\"a24c14a4-8eab-4320-9155-6ab1404775ee\" class=\"plotly-graph-div\" style=\"height:525px; width:100%;\"></div>            <script type=\"text/javascript\">                                    window.PLOTLYENV=window.PLOTLYENV || {};                                    if (document.getElementById(\"a24c14a4-8eab-4320-9155-6ab1404775ee\")) {                    Plotly.newPlot(                        \"a24c14a4-8eab-4320-9155-6ab1404775ee\",                        [{\"labels\":[\"scab\",\"healthy\",\"frog_eye_leaf_spot\",\"rust\",\"complex\",\"powdery_mildew\"],\"values\":[966,924,637,372,320,237],\"type\":\"pie\"}],                        {\"template\":{\"data\":{\"bar\":[{\"error_x\":{\"color\":\"#2a3f5f\"},\"error_y\":{\"color\":\"#2a3f5f\"},\"marker\":{\"line\":{\"color\":\"#E5ECF6\",\"width\":0.5},\"pattern\":{\"fillmode\":\"overlay\",\"size\":10,\"solidity\":0.2}},\"type\":\"bar\"}],\"barpolar\":[{\"marker\":{\"line\":{\"color\":\"#E5ECF6\",\"width\":0.5},\"pattern\":{\"fillmode\":\"overlay\",\"size\":10,\"solidity\":0.2}},\"type\":\"barpolar\"}],\"carpet\":[{\"aaxis\":{\"endlinecolor\":\"#2a3f5f\",\"gridcolor\":\"white\",\"linecolor\":\"white\",\"minorgridcolor\":\"white\",\"startlinecolor\":\"#2a3f5f\"},\"baxis\":{\"endlinecolor\":\"#2a3f5f\",\"gridcolor\":\"white\",\"linecolor\":\"white\",\"minorgridcolor\":\"white\",\"startlinecolor\":\"#2a3f5f\"},\"type\":\"carpet\"}],\"choropleth\":[{\"colorbar\":{\"outlinewidth\":0,\"ticks\":\"\"},\"type\":\"choropleth\"}],\"contour\":[{\"colorbar\":{\"outlinewidth\":0,\"ticks\":\"\"},\"colorscale\":[[0.0,\"#0d0887\"],[0.1111111111111111,\"#46039f\"],[0.2222222222222222,\"#7201a8\"],[0.3333333333333333,\"#9c179e\"],[0.4444444444444444,\"#bd3786\"],[0.5555555555555556,\"#d8576b\"],[0.6666666666666666,\"#ed7953\"],[0.7777777777777778,\"#fb9f3a\"],[0.8888888888888888,\"#fdca26\"],[1.0,\"#f0f921\"]],\"type\":\"contour\"}],\"contourcarpet\":[{\"colorbar\":{\"outlinewidth\":0,\"ticks\":\"\"},\"type\":\"contourcarpet\"}],\"heatmap\":[{\"colorbar\":{\"outlinewidth\":0,\"ticks\":\"\"},\"colorscale\":[[0.0,\"#0d0887\"],[0.1111111111111111,\"#46039f\"],[0.2222222222222222,\"#7201a8\"],[0.3333333333333333,\"#9c179e\"],[0.4444444444444444,\"#bd3786\"],[0.5555555555555556,\"#d8576b\"],[0.6666666666666666,\"#ed7953\"],[0.7777777777777778,\"#fb9f3a\"],[0.8888888888888888,\"#fdca26\"],[1.0,\"#f0f921\"]],\"type\":\"heatmap\"}],\"heatmapgl\":[{\"colorbar\":{\"outlinewidth\":0,\"ticks\":\"\"},\"colorscale\":[[0.0,\"#0d0887\"],[0.1111111111111111,\"#46039f\"],[0.2222222222222222,\"#7201a8\"],[0.3333333333333333,\"#9c179e\"],[0.4444444444444444,\"#bd3786\"],[0.5555555555555556,\"#d8576b\"],[0.6666666666666666,\"#ed7953\"],[0.7777777777777778,\"#fb9f3a\"],[0.8888888888888888,\"#fdca26\"],[1.0,\"#f0f921\"]],\"type\":\"heatmapgl\"}],\"histogram\":[{\"marker\":{\"pattern\":{\"fillmode\":\"overlay\",\"size\":10,\"solidity\":0.2}},\"type\":\"histogram\"}],\"histogram2d\":[{\"colorbar\":{\"outlinewidth\":0,\"ticks\":\"\"},\"colorscale\":[[0.0,\"#0d0887\"],[0.1111111111111111,\"#46039f\"],[0.2222222222222222,\"#7201a8\"],[0.3333333333333333,\"#9c179e\"],[0.4444444444444444,\"#bd3786\"],[0.5555555555555556,\"#d8576b\"],[0.6666666666666666,\"#ed7953\"],[0.7777777777777778,\"#fb9f3a\"],[0.8888888888888888,\"#fdca26\"],[1.0,\"#f0f921\"]],\"type\":\"histogram2d\"}],\"histogram2dcontour\":[{\"colorbar\":{\"outlinewidth\":0,\"ticks\":\"\"},\"colorscale\":[[0.0,\"#0d0887\"],[0.1111111111111111,\"#46039f\"],[0.2222222222222222,\"#7201a8\"],[0.3333333333333333,\"#9c179e\"],[0.4444444444444444,\"#bd3786\"],[0.5555555555555556,\"#d8576b\"],[0.6666666666666666,\"#ed7953\"],[0.7777777777777778,\"#fb9f3a\"],[0.8888888888888888,\"#fdca26\"],[1.0,\"#f0f921\"]],\"type\":\"histogram2dcontour\"}],\"mesh3d\":[{\"colorbar\":{\"outlinewidth\":0,\"ticks\":\"\"},\"type\":\"mesh3d\"}],\"parcoords\":[{\"line\":{\"colorbar\":{\"outlinewidth\":0,\"ticks\":\"\"}},\"type\":\"parcoords\"}],\"pie\":[{\"automargin\":true,\"type\":\"pie\"}],\"scatter\":[{\"marker\":{\"colorbar\":{\"outlinewidth\":0,\"ticks\":\"\"}},\"type\":\"scatter\"}],\"scatter3d\":[{\"line\":{\"colorbar\":{\"outlinewidth\":0,\"ticks\":\"\"}},\"marker\":{\"colorbar\":{\"outlinewidth\":0,\"ticks\":\"\"}},\"type\":\"scatter3d\"}],\"scattercarpet\":[{\"marker\":{\"colorbar\":{\"outlinewidth\":0,\"ticks\":\"\"}},\"type\":\"scattercarpet\"}],\"scattergeo\":[{\"marker\":{\"colorbar\":{\"outlinewidth\":0,\"ticks\":\"\"}},\"type\":\"scattergeo\"}],\"scattergl\":[{\"marker\":{\"colorbar\":{\"outlinewidth\":0,\"ticks\":\"\"}},\"type\":\"scattergl\"}],\"scattermapbox\":[{\"marker\":{\"colorbar\":{\"outlinewidth\":0,\"ticks\":\"\"}},\"type\":\"scattermapbox\"}],\"scatterpolar\":[{\"marker\":{\"colorbar\":{\"outlinewidth\":0,\"ticks\":\"\"}},\"type\":\"scatterpolar\"}],\"scatterpolargl\":[{\"marker\":{\"colorbar\":{\"outlinewidth\":0,\"ticks\":\"\"}},\"type\":\"scatterpolargl\"}],\"scatterternary\":[{\"marker\":{\"colorbar\":{\"outlinewidth\":0,\"ticks\":\"\"}},\"type\":\"scatterternary\"}],\"surface\":[{\"colorbar\":{\"outlinewidth\":0,\"ticks\":\"\"},\"colorscale\":[[0.0,\"#0d0887\"],[0.1111111111111111,\"#46039f\"],[0.2222222222222222,\"#7201a8\"],[0.3333333333333333,\"#9c179e\"],[0.4444444444444444,\"#bd3786\"],[0.5555555555555556,\"#d8576b\"],[0.6666666666666666,\"#ed7953\"],[0.7777777777777778,\"#fb9f3a\"],[0.8888888888888888,\"#fdca26\"],[1.0,\"#f0f921\"]],\"type\":\"surface\"}],\"table\":[{\"cells\":{\"fill\":{\"color\":\"#EBF0F8\"},\"line\":{\"color\":\"white\"}},\"header\":{\"fill\":{\"color\":\"#C8D4E3\"},\"line\":{\"color\":\"white\"}},\"type\":\"table\"}]},\"layout\":{\"annotationdefaults\":{\"arrowcolor\":\"#2a3f5f\",\"arrowhead\":0,\"arrowwidth\":1},\"autotypenumbers\":\"strict\",\"coloraxis\":{\"colorbar\":{\"outlinewidth\":0,\"ticks\":\"\"}},\"colorscale\":{\"diverging\":[[0,\"#8e0152\"],[0.1,\"#c51b7d\"],[0.2,\"#de77ae\"],[0.3,\"#f1b6da\"],[0.4,\"#fde0ef\"],[0.5,\"#f7f7f7\"],[0.6,\"#e6f5d0\"],[0.7,\"#b8e186\"],[0.8,\"#7fbc41\"],[0.9,\"#4d9221\"],[1,\"#276419\"]],\"sequential\":[[0.0,\"#0d0887\"],[0.1111111111111111,\"#46039f\"],[0.2222222222222222,\"#7201a8\"],[0.3333333333333333,\"#9c179e\"],[0.4444444444444444,\"#bd3786\"],[0.5555555555555556,\"#d8576b\"],[0.6666666666666666,\"#ed7953\"],[0.7777777777777778,\"#fb9f3a\"],[0.8888888888888888,\"#fdca26\"],[1.0,\"#f0f921\"]],\"sequentialminus\":[[0.0,\"#0d0887\"],[0.1111111111111111,\"#46039f\"],[0.2222222222222222,\"#7201a8\"],[0.3333333333333333,\"#9c179e\"],[0.4444444444444444,\"#bd3786\"],[0.5555555555555556,\"#d8576b\"],[0.6666666666666666,\"#ed7953\"],[0.7777777777777778,\"#fb9f3a\"],[0.8888888888888888,\"#fdca26\"],[1.0,\"#f0f921\"]]},\"colorway\":[\"#636efa\",\"#EF553B\",\"#00cc96\",\"#ab63fa\",\"#FFA15A\",\"#19d3f3\",\"#FF6692\",\"#B6E880\",\"#FF97FF\",\"#FECB52\"],\"font\":{\"color\":\"#2a3f5f\"},\"geo\":{\"bgcolor\":\"white\",\"lakecolor\":\"white\",\"landcolor\":\"#E5ECF6\",\"showlakes\":true,\"showland\":true,\"subunitcolor\":\"white\"},\"hoverlabel\":{\"align\":\"left\"},\"hovermode\":\"closest\",\"mapbox\":{\"style\":\"light\"},\"paper_bgcolor\":\"white\",\"plot_bgcolor\":\"#E5ECF6\",\"polar\":{\"angularaxis\":{\"gridcolor\":\"white\",\"linecolor\":\"white\",\"ticks\":\"\"},\"bgcolor\":\"#E5ECF6\",\"radialaxis\":{\"gridcolor\":\"white\",\"linecolor\":\"white\",\"ticks\":\"\"}},\"scene\":{\"xaxis\":{\"backgroundcolor\":\"#E5ECF6\",\"gridcolor\":\"white\",\"gridwidth\":2,\"linecolor\":\"white\",\"showbackground\":true,\"ticks\":\"\",\"zerolinecolor\":\"white\"},\"yaxis\":{\"backgroundcolor\":\"#E5ECF6\",\"gridcolor\":\"white\",\"gridwidth\":2,\"linecolor\":\"white\",\"showbackground\":true,\"ticks\":\"\",\"zerolinecolor\":\"white\"},\"zaxis\":{\"backgroundcolor\":\"#E5ECF6\",\"gridcolor\":\"white\",\"gridwidth\":2,\"linecolor\":\"white\",\"showbackground\":true,\"ticks\":\"\",\"zerolinecolor\":\"white\"}},\"shapedefaults\":{\"line\":{\"color\":\"#2a3f5f\"}},\"ternary\":{\"aaxis\":{\"gridcolor\":\"white\",\"linecolor\":\"white\",\"ticks\":\"\"},\"baxis\":{\"gridcolor\":\"white\",\"linecolor\":\"white\",\"ticks\":\"\"},\"bgcolor\":\"#E5ECF6\",\"caxis\":{\"gridcolor\":\"white\",\"linecolor\":\"white\",\"ticks\":\"\"}},\"title\":{\"x\":0.05},\"xaxis\":{\"automargin\":true,\"gridcolor\":\"white\",\"linecolor\":\"white\",\"ticks\":\"\",\"title\":{\"standoff\":15},\"zerolinecolor\":\"white\",\"zerolinewidth\":2},\"yaxis\":{\"automargin\":true,\"gridcolor\":\"white\",\"linecolor\":\"white\",\"ticks\":\"\",\"title\":{\"standoff\":15},\"zerolinecolor\":\"white\",\"zerolinewidth\":2}}},\"title\":{\"text\":\"Label distribution validation\"}},                        {\"responsive\": true}                    ).then(function(){\n",
              "                            \n",
              "var gd = document.getElementById('a24c14a4-8eab-4320-9155-6ab1404775ee');\n",
              "var x = new MutationObserver(function (mutations, observer) {{\n",
              "        var display = window.getComputedStyle(gd).display;\n",
              "        if (!display || display === 'none') {{\n",
              "            console.log([gd, 'removed!']);\n",
              "            Plotly.purge(gd);\n",
              "            observer.disconnect();\n",
              "        }}\n",
              "}});\n",
              "\n",
              "// Listen for the removal of the full notebook cells\n",
              "var notebookContainer = gd.closest('#notebook-container');\n",
              "if (notebookContainer) {{\n",
              "    x.observe(notebookContainer, {childList: true});\n",
              "}}\n",
              "\n",
              "// Listen for the clearing of the current output cell\n",
              "var outputEl = gd.closest('.output');\n",
              "if (outputEl) {{\n",
              "    x.observe(outputEl, {childList: true});\n",
              "}}\n",
              "\n",
              "                        })                };                            </script>        </div>\n",
              "</body>\n",
              "</html>"
            ]
          },
          "metadata": {}
        }
      ]
    },
    {
      "cell_type": "markdown",
      "source": [
        "convert labels format to one-hot encoding"
      ],
      "metadata": {
        "id": "1-s_eCW1QJmg"
      }
    },
    {
      "cell_type": "code",
      "source": [
        "classes = ['complex','frog_eye_leaf_spot','powdery_mildew','rust','scab','healthy']\n",
        "\n",
        "original_labels = df_train['labels'].values.copy()\n",
        "df_train['labels'] = [x.split(' ') for x in df_train['labels']]\n",
        "labels = MultiLabelBinarizer(classes=classes).fit_transform(df_train['labels'].values)\n",
        "df_train = pd.DataFrame(columns=classes, data=labels, index=df_train.index)\n",
        "\n",
        "original_labels = df_valid['labels'].values.copy()\n",
        "df_valid['labels'] = [x.split(' ') for x in df_valid['labels']]\n",
        "labels = MultiLabelBinarizer(classes=classes).fit_transform(df_valid['labels'].values)\n",
        "df_valid = pd.DataFrame(columns=classes, data=labels, index=df_valid.index)"
      ],
      "metadata": {
        "id": "1PxqHbl4QFSp"
      },
      "execution_count": null,
      "outputs": []
    },
    {
      "cell_type": "markdown",
      "source": [
        "transform for data augmentation"
      ],
      "metadata": {
        "id": "sUICoyt8WJ0p"
      }
    },
    {
      "cell_type": "code",
      "source": [
        "def get_transform(phase: str):\n",
        "    if phase == 'train':\n",
        "        return A.Compose([\n",
        "            A.RandomResizedCrop(height=224, width=224),\n",
        "            A.HorizontalFlip(p=0.5),\n",
        "            A.ShiftScaleRotate(p=0.5),\n",
        "            A.OneOf([\n",
        "            A.RandomBrightnessContrast(p=0.5),A.RandomGamma(p=0.5)], p=0.5),\n",
        "            A.OneOf([\n",
        "            A.Blur(p=0.4),\n",
        "            A.GaussianBlur(p=0.4),\n",
        "            A.MotionBlur(p=0.4)], p=0.4),\n",
        "            A.OneOf([\n",
        "            A.GaussNoise(p=0.4),\n",
        "            A.ISONoise(p=0.4),\n",
        "            A.GridDropout(ratio=0.5, p=0.2),\n",
        "            A.CoarseDropout(max_holes=16, min_holes=8, max_height=16, max_width=16, min_height=8, min_width=8, p=0.2)], p=0.2),\n",
        "            A.Normalize(),\n",
        "            ToTensorV2(),\n",
        "        ])\n",
        "    else:\n",
        "        return A.Compose([\n",
        "            A.Resize(height=224, width=224),\n",
        "            A.Normalize(),\n",
        "            ToTensorV2(),\n",
        "        ])"
      ],
      "metadata": {
        "id": "vuXnROPST1UZ"
      },
      "execution_count": 12,
      "outputs": []
    },
    {
      "cell_type": "markdown",
      "source": [
        "Dataset Class"
      ],
      "metadata": {
        "id": "DedVmxGdp4dJ"
      }
    },
    {
      "cell_type": "code",
      "source": [
        "class PlantDataset(Dataset):\n",
        "    def __init__(self, df, train_image_path,  test_image_path, transform=None, kind='train'):\n",
        "        self.image_id = df.index\n",
        "        self.labels = df.iloc[:, :].values\n",
        "        self.transform = transform\n",
        "        self.kind = kind\n",
        "        self.train_image_path = train_image_path\n",
        "        self.test_image_path = test_image_path\n",
        "\n",
        "    def __len__(self):\n",
        "        return len(self.labels)\n",
        "\n",
        "    def __getitem__(self, idx):\n",
        "        image_id = self.image_id[idx]\n",
        "        label = torch.tensor(self.labels[idx], dtype=torch.float32)\n",
        "        index = torch.argmax(label)\n",
        "        if self.kind == 'train':\n",
        "            image_path = self.train_image_path + '/' + image_id\n",
        "        elif self.kind == 'test':\n",
        "            image_path = self.test_image_path + '/' + image_id\n",
        "        image = cv2.imread(image_path)\n",
        "        image = cv2.cvtColor(image, cv2.COLOR_BGR2RGB)\n",
        "        if self.transform:\n",
        "            image = self.transform(image=image)[\"image\"]\n",
        "        return image, label, index"
      ],
      "metadata": {
        "id": "xSWJk39WUGRA"
      },
      "execution_count": 13,
      "outputs": []
    },
    {
      "cell_type": "markdown",
      "source": [
        "create loaders"
      ],
      "metadata": {
        "id": "jkQYdMdxqFFR"
      }
    },
    {
      "cell_type": "code",
      "source": [
        "train_image_path = \"/gdrive/MyDrive/LeafGANDataSet/plant-pathology-dataset/train_images\"\n",
        "test_image_path = \"/gdrive/MyDrive/LeafGANDataSet/plant-pathology-dataset/test_images\"\n",
        "\n",
        "train_dataset = PlantDataset(df_train, train_image_path, test_image_path, get_transform('train'))\n",
        "valid_dataset = PlantDataset(df_valid, train_image_path, test_image_path, get_transform('valid'))\n",
        "\n",
        "train_loader = DataLoader(train_dataset, batch_size=16, shuffle=True, num_workers=4, pin_memory=True, drop_last=True)\n",
        "valid_loader = DataLoader(valid_dataset, batch_size=16, shuffle=False, num_workers=4)"
      ],
      "metadata": {
        "id": "eVGb3PogUgE3"
      },
      "execution_count": 14,
      "outputs": []
    },
    {
      "cell_type": "markdown",
      "source": [
        "## training pytorch resnet152 network"
      ],
      "metadata": {
        "id": "NoW3I_zkZKvJ"
      }
    },
    {
      "cell_type": "code",
      "source": [
        "def to_numpy(tensor):\n",
        "    \"\"\"Auxiliary function to convert tensors into numpy arrays\n",
        "    \"\"\"\n",
        "    return tensor.detach().cpu().numpy() if tensor.requires_grad else tensor.cpu().numpy()\n",
        "\n",
        "def softmax(x):\n",
        "    \"\"\"Compute softmax values for each sets of scores in x.\"\"\"\n",
        "    e_x = np.exp(x)\n",
        "    return e_x / e_x.sum(axis=0) # only difference\n",
        "\n",
        "def Sigmoid(x):\n",
        "    return 1/(1 + np.exp(-x))"
      ],
      "metadata": {
        "id": "nVREtJcIY_3Y"
      },
      "execution_count": 15,
      "outputs": []
    },
    {
      "cell_type": "code",
      "source": [
        "class AverageMeter(object):\n",
        "    \"\"\"Computes and stores the average and current value\"\"\"\n",
        "    def __init__(self):\n",
        "        self.reset()\n",
        "\n",
        "    def reset(self):\n",
        "        self.val = 0\n",
        "        self.avg = 0\n",
        "        self.sum = 0\n",
        "        self.count = 0\n",
        "\n",
        "    def update(self, val, n=1):\n",
        "        self.val = val\n",
        "        self.sum += val * n\n",
        "        self.count += n\n",
        "        self.avg = self.sum / self.count"
      ],
      "metadata": {
        "id": "1afgIV_QZHPj"
      },
      "execution_count": 16,
      "outputs": []
    },
    {
      "cell_type": "code",
      "source": [
        "def train_epoch(dataloader, model, criterion, optimizer, epoch):\n",
        "    m = nn.Sigmoid()\n",
        "    accuracy = AverageMeter()\n",
        "    acc_cls1 = AverageMeter()\n",
        "    acc_cls2 = AverageMeter()\n",
        "    acc_cls3 = AverageMeter()\n",
        "    acc_cls4 = AverageMeter()\n",
        "    acc_cls5 = AverageMeter()\n",
        "    acc_cls6 = AverageMeter()\n",
        "    acc_list = [acc_cls1,\n",
        "                acc_cls2,\n",
        "                acc_cls3,\n",
        "                acc_cls4,\n",
        "                acc_cls5,\n",
        "                acc_cls6]\n",
        "    losses = AverageMeter()\n",
        "    model.train()\n",
        "    all_pred = []\n",
        "    all_target = []\n",
        "    for i, (img, target, target_num) in tqdm(enumerate(dataloader), total=len(dataloader), desc=\"Train\"):\n",
        "        img = img.float()    \n",
        "\n",
        "        img = img.to(device)\n",
        "        target = target.to(device)\n",
        "        optimizer.zero_grad()\n",
        "        output = model(img)\n",
        "        \n",
        "        loss = criterion(output, target)\n",
        "        loss.backward()\n",
        "        optimizer.step()\n",
        "        pred = m(output)\n",
        "        \n",
        "        acc = torchmetrics.functional.accuracy(pred, target.int())\n",
        "        accuracy_per_class = torchmetrics.functional.accuracy(pred, target.int(), average = 'none', num_classes = 6)\n",
        "        target_num_unique, target_num_count = torch.unique(target_num.int(), return_counts = True)\n",
        "\n",
        "        for i,j in zip(target_num_unique, target_num_count):\n",
        "            acc_list[i.int()].update(accuracy_per_class[i.int()], j.int())\n",
        "\n",
        "        losses.update(loss.item(), img.size(0))\n",
        "        accuracy.update(acc, img.size(0))\n",
        "\n",
        "        target = torch.argmax(target, dim=1).tolist()\n",
        "        pred = torch.argmax(pred, dim=1).tolist()\n",
        "        \n",
        "        all_target += target\n",
        "        all_pred += pred\n",
        "        \n",
        "        torch.cuda.empty_cache()\n",
        "    \n",
        "    cr = classification_report(all_target, all_pred, output_dict=True)\n",
        "\n",
        "    wandb.log({\"train loss\": losses.avg, \"train acc\": accuracy.avg*100,\n",
        "               \"train precison\": cr['macro avg']['precision']*100, \"train recall\": cr['macro avg']['recall']*100,\n",
        "               \"train f1\": cr['macro avg']['f1-score']*100, \"train precison cls1\": cr['0']['precision']*100, \"train recall cls1\": cr['0']['recall']*100,\n",
        "               \"train f1 cls1\": cr['0']['f1-score']*100, \"train precison cls2\": cr['1']['precision']*100, \"train recall cls2\": cr['1']['recall']*100,\n",
        "               \"train f1 cls2\": cr['1']['f1-score']*100, \"train precison cls3\": cr['2']['precision']*100, \"train recall cls3\": cr['2']['recall']*100,\n",
        "               \"train f1 cls3\": cr['2']['f1-score']*100, \"train precison cls4\": cr['3']['precision']*100, \"train recall cls4\": cr['3']['recall']*100,\n",
        "               \"train f1 cls4\": cr['3']['f1-score']*100, \"train precison cls5\": cr['4']['precision']*100, \"train recall cls5\": cr['4']['recall']*100,\n",
        "               \"train f1 cls5\": cr['4']['f1-score']*100, \"train precison cls6\": cr['5']['precision']*100, \"train recall cls6\": cr['5']['recall']*100,\n",
        "               \"train f1 cls6\": cr['5']['f1-score']*100,\n",
        "               \"train acc cls1\": acc_cls1.avg*100,\n",
        "              \"train acc cls2\": acc_cls2.avg*100, \"train acc cls3\": acc_cls3.avg*100,\n",
        "              \"train acc cls4\": acc_cls4.avg*100, \"train acc cls5\": acc_cls5.avg*100,\n",
        "              \"train acc cls6\": acc_cls6.avg*100}, step = epoch)"
      ],
      "metadata": {
        "id": "_zbdfMcXY2EH"
      },
      "execution_count": 32,
      "outputs": []
    },
    {
      "cell_type": "code",
      "source": [
        "def validate_epoch(dataloader, model, criterion, optimizer, epoch):\n",
        "    m = nn.Sigmoid()\n",
        "    acc = AverageMeter()\n",
        "    acc_cls1 = AverageMeter()\n",
        "    acc_cls2 = AverageMeter()\n",
        "    acc_cls3 = AverageMeter()\n",
        "    acc_cls4 = AverageMeter()\n",
        "    acc_cls5 = AverageMeter()\n",
        "    acc_cls6 = AverageMeter()\n",
        "    acc_list = [acc_cls1,\n",
        "                acc_cls2,\n",
        "                acc_cls3,\n",
        "                acc_cls4,\n",
        "                acc_cls5, acc_cls6]\n",
        "    losses = AverageMeter()\n",
        "    all_pred = []\n",
        "    all_target = []\n",
        "    model.eval()\n",
        "    loss_accumlated = 0\n",
        "    for i, (img, target, target_num) in tqdm(enumerate(dataloader), total=len(dataloader), desc=\"Val\"):\n",
        "        \n",
        "        img = img.float()\n",
        "        img = img.to(device)\n",
        "        target = target.to(device)\n",
        "        target_num = target_num.to(device)\n",
        "        \n",
        "        optimizer.zero_grad() \n",
        "        \n",
        "        output = model(img) \n",
        "        \n",
        "        loss = criterion(output,target)\n",
        "        losses.update(loss.item(), img.size(0))\n",
        "        loss_accumlated += loss.item()\n",
        "                \n",
        "        pred = m(output)\n",
        "                \n",
        "        accuracy = torchmetrics.functional.accuracy(pred,  target.int())\n",
        "        accuracy_per_class = torchmetrics.functional.accuracy(pred, target.int(), average = 'none', num_classes = 6)\n",
        "        acc.update(accuracy, img.size(0))\n",
        "        \n",
        "        target_num_unique, target_num_count = torch.unique(target_num.int(), return_counts = True)\n",
        "\n",
        "        for i,j in zip(target_num_unique, target_num_count):\n",
        "            acc_list[i.int()].update(accuracy_per_class[i.int()], j.int())\n",
        "        \n",
        "\n",
        "        target = torch.argmax(target, dim=1).tolist()\n",
        "        pred = torch.argmax(pred, dim=1).tolist()\n",
        "        \n",
        "        all_target += target\n",
        "        all_pred += pred\n",
        "\n",
        "        torch.cuda.empty_cache()\n",
        "\n",
        "    cr = classification_report(all_target, all_pred, output_dict=True)\n",
        "    wandb.log({\"val loss\": losses.avg, \"val acc\": acc.avg*100,\n",
        "               \"val precison\": cr['macro avg']['precision']*100, \"val recall\": cr['macro avg']['recall']*100,\n",
        "               \"val f1\": cr['macro avg']['f1-score']*100, \"val precison cls1\": cr['0']['precision']*100, \"val recall cls1\": cr['0']['recall']*100,\n",
        "               \"val f1 cls1\": cr['0']['f1-score']*100, \"val precison cls2\": cr['1']['precision']*100, \"val recall cls2\": cr['1']['recall']*100,\n",
        "               \"val f1 cls2\": cr['1']['f1-score']*100, \"val precison cls3\": cr['2']['precision']*100, \"val recall cls3\": cr['2']['recall']*100,\n",
        "               \"val f1 cls3\": cr['2']['f1-score']*100, \"val precison cls4\": cr['3']['precision']*100, \"val recall cls4\": cr['3']['recall']*100,\n",
        "               \"val f1 cls4\": cr['3']['f1-score']*100, \"val precison cls5\": cr['4']['precision']*100, \"val recall cls5\": cr['4']['recall']*100,\n",
        "               \"val f1 cls5\": cr['4']['f1-score']*100, \"val precison cls6\": cr['5']['precision']*100, \"val recall cls6\": cr['5']['recall']*100,\n",
        "               \"val f1 cls6\": cr['5']['f1-score']*100,\n",
        "               \"val acc cls1\": acc_cls1.avg*100,\n",
        "              \"val acc cls2\": acc_cls2.avg*100, \"val acc cls3\": acc_cls3.avg*100,\n",
        "              \"val acc cls4\": acc_cls4.avg*100, \"val acc cls5\": acc_cls5.avg*100,\n",
        "              \"val acc cls6\": acc_cls6.avg*100}, step = epoch)\n",
        "    print(classification_report(all_target, all_pred))\n",
        "    return cr['macro avg']['f1-score']*100"
      ],
      "metadata": {
        "id": "BV3EhJzTfvGQ"
      },
      "execution_count": 40,
      "outputs": []
    },
    {
      "cell_type": "code",
      "source": [
        "def train(loader_train, loader_val, EPOCHS, model, opt, criterion, model_path):\n",
        "    best_acc = 0\n",
        "    for e in range(EPOCHS):\n",
        "        print(\"------------------------epoch \" + str(e) + \"-----------------------------\")\n",
        "        train_epoch(loader_train, model, criterion, opt, e)\n",
        "        current_acc = validate_epoch(loader_val, model, criterion, opt, e)\n",
        "        if best_acc < current_acc:\n",
        "            best_acc = current_acc\n",
        "            model_name = \"resnet152_epoch\" + str(e)\n",
        "            torch.save(model, model_path + model_name)"
      ],
      "metadata": {
        "id": "K5YPiot_g_Jf"
      },
      "execution_count": 19,
      "outputs": []
    },
    {
      "cell_type": "code",
      "source": [
        "model = models.resnet152(pretrained = True)\n",
        "in_features = model.fc.in_features\n",
        "model.fc = torch.nn.Linear(in_features, 6)\n",
        "model = model.cuda()\n",
        "criterion = nn.BCEWithLogitsLoss()\n",
        "opt = torch.optim.AdamW(model.parameters(), lr=0.0001)"
      ],
      "metadata": {
        "id": "skG_gnuakgIq"
      },
      "execution_count": 41,
      "outputs": []
    },
    {
      "cell_type": "markdown",
      "source": [
        "here you need to fill your own project and entity names from wandb"
      ],
      "metadata": {
        "id": "37FDrc8zpa9y"
      }
    },
    {
      "cell_type": "code",
      "source": [
        "project_name = \"Plant_Pathology_Classification\"\n",
        "entity_name = \"seminar\"\n",
        "wab = wandb.init(project=project_name, entity=entity_name)"
      ],
      "metadata": {
        "colab": {
          "base_uri": "https://localhost:8080/",
          "height": 867,
          "referenced_widgets": [
            "f1524ce00c45475f93c3ae75b0dc7e7b",
            "8060463beea344088d14d9e82a0253cd",
            "df5d0f98350341f293f9a7dd031986e7",
            "0590734975d8487294e7599fb477c2ab",
            "5bde98b62f55499187e6571135b78622",
            "da78dd851f53440ba8bb8b756e75c163",
            "69d0e3ba311647adbcbd7c166321ebfb",
            "845eaa6f198341e2be0b573ffa324f4e"
          ]
        },
        "id": "sNKymaD8pblR",
        "outputId": "9bbea59c-fdc6-4b8f-d9f5-d4bc6099fa03"
      },
      "execution_count": 42,
      "outputs": [
        {
          "output_type": "display_data",
          "data": {
            "text/html": [
              "Finishing last run (ID:2q77hcjw) before initializing another..."
            ],
            "text/plain": [
              "<IPython.core.display.HTML object>"
            ]
          },
          "metadata": {}
        },
        {
          "output_type": "display_data",
          "data": {
            "text/html": [
              "<br/>Waiting for W&B process to finish, PID 1904... <strong style=\"color:green\">(success).</strong>"
            ],
            "text/plain": [
              "<IPython.core.display.HTML object>"
            ]
          },
          "metadata": {}
        },
        {
          "output_type": "display_data",
          "data": {
            "application/vnd.jupyter.widget-view+json": {
              "model_id": "f1524ce00c45475f93c3ae75b0dc7e7b",
              "version_minor": 0,
              "version_major": 2
            },
            "text/plain": [
              "VBox(children=(Label(value=' 0.00MB of 0.00MB uploaded (0.00MB deduped)\\r'), FloatProgress(value=1.0, max=1.0)…"
            ]
          },
          "metadata": {}
        },
        {
          "output_type": "display_data",
          "data": {
            "text/html": [
              "<style>\n",
              "    table.wandb td:nth-child(1) { padding: 0 10px; text-align: right }\n",
              "    .wandb-row { display: flex; flex-direction: row; flex-wrap: wrap; width: 100% }\n",
              "    .wandb-col { display: flex; flex-direction: column; flex-basis: 100%; flex: 1; padding: 10px; }\n",
              "    </style>\n",
              "<div class=\"wandb-row\"><div class=\"wandb-col\">\n",
              "<h3>Run history:</h3><br/><table class=\"wandb\"><tr><td>train acc</td><td>▁</td></tr><tr><td>train acc cls1</td><td>▁</td></tr><tr><td>train acc cls2</td><td>▁</td></tr><tr><td>train acc cls3</td><td>▁</td></tr><tr><td>train acc cls4</td><td>▁</td></tr><tr><td>train acc cls5</td><td>▁</td></tr><tr><td>train acc cls6</td><td>▁</td></tr><tr><td>train f1</td><td>▁</td></tr><tr><td>train f1 cls1</td><td>▁</td></tr><tr><td>train f1 cls2</td><td>▁</td></tr><tr><td>train f1 cls3</td><td>▁</td></tr><tr><td>train f1 cls4</td><td>▁</td></tr><tr><td>train f1 cls5</td><td>▁</td></tr><tr><td>train f1 cls6</td><td>▁</td></tr><tr><td>train loss</td><td>▁</td></tr><tr><td>train precison</td><td>▁</td></tr><tr><td>train precison cls1</td><td>▁</td></tr><tr><td>train precison cls2</td><td>▁</td></tr><tr><td>train precison cls3</td><td>▁</td></tr><tr><td>train precison cls4</td><td>▁</td></tr><tr><td>train precison cls5</td><td>▁</td></tr><tr><td>train precison cls6</td><td>▁</td></tr><tr><td>train recall</td><td>▁</td></tr><tr><td>train recall cls1</td><td>▁</td></tr><tr><td>train recall cls2</td><td>▁</td></tr><tr><td>train recall cls3</td><td>▁</td></tr><tr><td>train recall cls4</td><td>▁</td></tr><tr><td>train recall cls5</td><td>▁</td></tr><tr><td>train recall cls6</td><td>▁</td></tr></table><br/></div><div class=\"wandb-col\">\n",
              "<h3>Run summary:</h3><br/><table class=\"wandb\"><tr><td>train acc</td><td>92.28949</td></tr><tr><td>train acc cls1</td><td>89.36035</td></tr><tr><td>train acc cls2</td><td>89.04591</td></tr><tr><td>train acc cls3</td><td>93.92196</td></tr><tr><td>train acc cls4</td><td>92.85053</td></tr><tr><td>train acc cls5</td><td>87.77378</td></tr><tr><td>train acc cls6</td><td>89.3065</td></tr><tr><td>train f1</td><td>73.46693</td></tr><tr><td>train f1 cls1</td><td>56.5198</td></tr><tr><td>train f1 cls2</td><td>75.19614</td></tr><tr><td>train f1 cls3</td><td>71.81914</td></tr><tr><td>train f1 cls4</td><td>76.1396</td></tr><tr><td>train f1 cls5</td><td>79.68057</td></tr><tr><td>train f1 cls6</td><td>81.44634</td></tr><tr><td>train loss</td><td>0.20005</td></tr><tr><td>train precison</td><td>75.04917</td></tr><tr><td>train precison cls1</td><td>65.66701</td></tr><tr><td>train precison cls2</td><td>76.97694</td></tr><tr><td>train precison cls3</td><td>71.36886</td></tr><tr><td>train precison cls4</td><td>80.92354</td></tr><tr><td>train precison cls5</td><td>77.97073</td></tr><tr><td>train precison cls6</td><td>77.38791</td></tr><tr><td>train recall</td><td>72.44853</td></tr><tr><td>train recall cls1</td><td>49.60938</td></tr><tr><td>train recall cls2</td><td>73.49587</td></tr><tr><td>train recall cls3</td><td>72.27513</td></tr><tr><td>train recall cls4</td><td>71.88971</td></tr><tr><td>train recall cls5</td><td>81.46708</td></tr><tr><td>train recall cls6</td><td>85.95399</td></tr></table>\n",
              "</div></div>\n",
              "Synced 5 W&B file(s), 0 media file(s), 0 artifact file(s) and 0 other file(s)\n",
              "<br/>Synced <strong style=\"color:#cdcd00\">swept-firefly-6</strong>: <a href=\"https://wandb.ai/seminar/Plant_Pathology_Classification/runs/2q77hcjw\" target=\"_blank\">https://wandb.ai/seminar/Plant_Pathology_Classification/runs/2q77hcjw</a><br/>\n",
              "Find logs at: <code>./wandb/run-20220213_235447-2q77hcjw/logs</code><br/>\n"
            ],
            "text/plain": [
              "<IPython.core.display.HTML object>"
            ]
          },
          "metadata": {}
        },
        {
          "output_type": "display_data",
          "data": {
            "text/html": [
              "Successfully finished last run (ID:2q77hcjw). Initializing new run:<br/>"
            ],
            "text/plain": [
              "<IPython.core.display.HTML object>"
            ]
          },
          "metadata": {}
        },
        {
          "output_type": "display_data",
          "data": {
            "text/html": [
              "\n",
              "                    Syncing run <strong><a href=\"https://wandb.ai/seminar/Plant_Pathology_Classification/runs/31nbjt5t\" target=\"_blank\">angelic-balloon-7</a></strong> to <a href=\"https://wandb.ai/seminar/Plant_Pathology_Classification\" target=\"_blank\">Weights & Biases</a> (<a href=\"https://docs.wandb.com/integrations/jupyter.html\" target=\"_blank\">docs</a>).<br/>\n",
              "\n",
              "                "
            ],
            "text/plain": [
              "<IPython.core.display.HTML object>"
            ]
          },
          "metadata": {}
        }
      ]
    },
    {
      "cell_type": "code",
      "source": [
        "model_path = \"/gdrive/MyDrive/LeafGANDataSet/plant-pathology-dataset/models/\"\n",
        "train(train_loader, valid_loader, 30, model, opt, criterion, model_path)\n",
        "wab.finish()"
      ],
      "metadata": {
        "colab": {
          "base_uri": "https://localhost:8080/",
          "height": 1000,
          "referenced_widgets": [
            "446b4457023e449e9756880f6e67fca3",
            "af7a68897fc54152921f9628f927d58b",
            "0e45e03f58184414841140875a0c4e09",
            "aae3a8f2677442bea0ebc3a04d130875",
            "6dadcab8772841bb895befaa8ab8fcee",
            "fee387009db344a6baf18f14dbd4d38a",
            "fe192a5df1024e30add48a7480dafa34",
            "6be5c68c5e364bd29d498217ad4e2a75"
          ]
        },
        "id": "uCByVhaXkJ-V",
        "outputId": "f7fe4930-4296-42b3-bdce-253ba00b0d98"
      },
      "execution_count": 43,
      "outputs": [
        {
          "metadata": {
            "tags": null
          },
          "name": "stdout",
          "output_type": "stream",
          "text": [
            "------------------------epoch 0-----------------------------\n"
          ]
        },
        {
          "metadata": {
            "tags": null
          },
          "name": "stderr",
          "output_type": "stream",
          "text": [
            "Train: 100%|██████████| 863/863 [04:25<00:00,  3.25it/s]\n",
            "Val: 100%|██████████| 216/216 [00:33<00:00,  6.52it/s]\n"
          ]
        },
        {
          "metadata": {
            "tags": null
          },
          "name": "stdout",
          "output_type": "stream",
          "text": [
            "              precision    recall  f1-score   support\n",
            "\n",
            "           0       0.94      0.58      0.72       320\n",
            "           1       0.90      0.94      0.92       637\n",
            "           2       0.88      0.96      0.92       237\n",
            "           3       0.87      0.97      0.91       372\n",
            "           4       0.92      0.94      0.93       966\n",
            "           5       0.94      0.96      0.95       924\n",
            "\n",
            "    accuracy                           0.91      3456\n",
            "   macro avg       0.91      0.89      0.89      3456\n",
            "weighted avg       0.92      0.91      0.91      3456\n",
            "\n",
            "------------------------epoch 1-----------------------------\n"
          ]
        },
        {
          "metadata": {
            "tags": null
          },
          "name": "stderr",
          "output_type": "stream",
          "text": [
            "Train: 100%|██████████| 863/863 [04:25<00:00,  3.25it/s]\n",
            "Val: 100%|██████████| 216/216 [00:33<00:00,  6.52it/s]\n"
          ]
        },
        {
          "metadata": {
            "tags": null
          },
          "name": "stdout",
          "output_type": "stream",
          "text": [
            "              precision    recall  f1-score   support\n",
            "\n",
            "           0       0.90      0.62      0.74       320\n",
            "           1       0.90      0.96      0.93       637\n",
            "           2       0.85      0.96      0.90       237\n",
            "           3       0.88      0.96      0.92       372\n",
            "           4       0.96      0.90      0.93       966\n",
            "           5       0.91      0.97      0.94       924\n",
            "\n",
            "    accuracy                           0.91      3456\n",
            "   macro avg       0.90      0.89      0.89      3456\n",
            "weighted avg       0.92      0.91      0.91      3456\n",
            "\n",
            "------------------------epoch 2-----------------------------\n"
          ]
        },
        {
          "metadata": {
            "tags": null
          },
          "name": "stderr",
          "output_type": "stream",
          "text": [
            "Train: 100%|██████████| 863/863 [04:25<00:00,  3.25it/s]\n",
            "Val: 100%|██████████| 216/216 [00:33<00:00,  6.51it/s]\n"
          ]
        },
        {
          "metadata": {
            "tags": null
          },
          "name": "stdout",
          "output_type": "stream",
          "text": [
            "              precision    recall  f1-score   support\n",
            "\n",
            "           0       0.89      0.68      0.77       320\n",
            "           1       0.91      0.94      0.93       637\n",
            "           2       0.93      0.94      0.93       237\n",
            "           3       0.92      0.94      0.93       372\n",
            "           4       0.95      0.93      0.94       966\n",
            "           5       0.93      0.98      0.96       924\n",
            "\n",
            "    accuracy                           0.93      3456\n",
            "   macro avg       0.92      0.90      0.91      3456\n",
            "weighted avg       0.93      0.93      0.92      3456\n",
            "\n",
            "------------------------epoch 3-----------------------------\n"
          ]
        },
        {
          "metadata": {
            "tags": null
          },
          "name": "stderr",
          "output_type": "stream",
          "text": [
            "Train: 100%|██████████| 863/863 [04:25<00:00,  3.25it/s]\n",
            "Val: 100%|██████████| 216/216 [00:33<00:00,  6.47it/s]\n"
          ]
        },
        {
          "metadata": {
            "tags": null
          },
          "name": "stdout",
          "output_type": "stream",
          "text": [
            "              precision    recall  f1-score   support\n",
            "\n",
            "           0       0.88      0.68      0.77       320\n",
            "           1       0.90      0.96      0.93       637\n",
            "           2       0.94      0.91      0.93       237\n",
            "           3       0.91      0.94      0.92       372\n",
            "           4       0.94      0.94      0.94       966\n",
            "           5       0.94      0.96      0.95       924\n",
            "\n",
            "    accuracy                           0.92      3456\n",
            "   macro avg       0.92      0.90      0.91      3456\n",
            "weighted avg       0.92      0.92      0.92      3456\n",
            "\n",
            "------------------------epoch 4-----------------------------\n"
          ]
        },
        {
          "metadata": {
            "tags": null
          },
          "name": "stderr",
          "output_type": "stream",
          "text": [
            "Train: 100%|██████████| 863/863 [04:26<00:00,  3.24it/s]\n",
            "Val: 100%|██████████| 216/216 [00:33<00:00,  6.48it/s]\n"
          ]
        },
        {
          "metadata": {
            "tags": null
          },
          "name": "stdout",
          "output_type": "stream",
          "text": [
            "              precision    recall  f1-score   support\n",
            "\n",
            "           0       0.94      0.63      0.75       320\n",
            "           1       0.89      0.96      0.92       637\n",
            "           2       0.95      0.95      0.95       237\n",
            "           3       0.87      0.98      0.92       372\n",
            "           4       0.97      0.89      0.93       966\n",
            "           5       0.90      0.99      0.94       924\n",
            "\n",
            "    accuracy                           0.92      3456\n",
            "   macro avg       0.92      0.90      0.90      3456\n",
            "weighted avg       0.92      0.92      0.92      3456\n",
            "\n",
            "------------------------epoch 5-----------------------------\n"
          ]
        },
        {
          "metadata": {
            "tags": null
          },
          "name": "stderr",
          "output_type": "stream",
          "text": [
            "Train: 100%|██████████| 863/863 [04:25<00:00,  3.25it/s]\n",
            "Val: 100%|██████████| 216/216 [00:33<00:00,  6.48it/s]\n"
          ]
        },
        {
          "metadata": {
            "tags": null
          },
          "name": "stdout",
          "output_type": "stream",
          "text": [
            "              precision    recall  f1-score   support\n",
            "\n",
            "           0       0.79      0.74      0.77       320\n",
            "           1       0.95      0.88      0.92       637\n",
            "           2       0.98      0.87      0.92       237\n",
            "           3       0.89      0.98      0.93       372\n",
            "           4       0.96      0.91      0.93       966\n",
            "           5       0.89      0.99      0.94       924\n",
            "\n",
            "    accuracy                           0.92      3456\n",
            "   macro avg       0.91      0.90      0.90      3456\n",
            "weighted avg       0.92      0.92      0.91      3456\n",
            "\n",
            "------------------------epoch 6-----------------------------\n"
          ]
        },
        {
          "metadata": {
            "tags": null
          },
          "name": "stderr",
          "output_type": "stream",
          "text": [
            "Train: 100%|██████████| 863/863 [04:26<00:00,  3.24it/s]\n",
            "Val: 100%|██████████| 216/216 [00:33<00:00,  6.51it/s]\n"
          ]
        },
        {
          "metadata": {
            "tags": null
          },
          "name": "stdout",
          "output_type": "stream",
          "text": [
            "              precision    recall  f1-score   support\n",
            "\n",
            "           0       0.77      0.76      0.77       320\n",
            "           1       0.92      0.93      0.93       637\n",
            "           2       0.94      0.93      0.94       237\n",
            "           3       0.90      0.98      0.93       372\n",
            "           4       0.96      0.92      0.94       966\n",
            "           5       0.96      0.96      0.96       924\n",
            "\n",
            "    accuracy                           0.93      3456\n",
            "   macro avg       0.91      0.91      0.91      3456\n",
            "weighted avg       0.93      0.93      0.93      3456\n",
            "\n",
            "------------------------epoch 7-----------------------------\n"
          ]
        },
        {
          "metadata": {
            "tags": null
          },
          "name": "stderr",
          "output_type": "stream",
          "text": [
            "Train: 100%|██████████| 863/863 [04:26<00:00,  3.24it/s]\n",
            "Val: 100%|██████████| 216/216 [00:33<00:00,  6.49it/s]\n"
          ]
        },
        {
          "metadata": {
            "tags": null
          },
          "name": "stdout",
          "output_type": "stream",
          "text": [
            "              precision    recall  f1-score   support\n",
            "\n",
            "           0       0.82      0.75      0.79       320\n",
            "           1       0.95      0.90      0.92       637\n",
            "           2       0.94      0.95      0.94       237\n",
            "           3       0.91      0.96      0.93       372\n",
            "           4       0.96      0.93      0.94       966\n",
            "           5       0.92      0.99      0.95       924\n",
            "\n",
            "    accuracy                           0.93      3456\n",
            "   macro avg       0.92      0.91      0.91      3456\n",
            "weighted avg       0.93      0.93      0.93      3456\n",
            "\n",
            "------------------------epoch 8-----------------------------\n"
          ]
        },
        {
          "metadata": {
            "tags": null
          },
          "name": "stderr",
          "output_type": "stream",
          "text": [
            "Train: 100%|██████████| 863/863 [04:26<00:00,  3.24it/s]\n",
            "Val: 100%|██████████| 216/216 [00:33<00:00,  6.48it/s]\n"
          ]
        },
        {
          "metadata": {
            "tags": null
          },
          "name": "stdout",
          "output_type": "stream",
          "text": [
            "              precision    recall  f1-score   support\n",
            "\n",
            "           0       0.81      0.77      0.79       320\n",
            "           1       0.94      0.91      0.92       637\n",
            "           2       0.78      0.97      0.87       237\n",
            "           3       0.93      0.95      0.94       372\n",
            "           4       0.95      0.95      0.95       966\n",
            "           5       0.97      0.93      0.95       924\n",
            "\n",
            "    accuracy                           0.92      3456\n",
            "   macro avg       0.90      0.92      0.90      3456\n",
            "weighted avg       0.93      0.92      0.92      3456\n",
            "\n",
            "------------------------epoch 9-----------------------------\n"
          ]
        },
        {
          "metadata": {
            "tags": null
          },
          "name": "stderr",
          "output_type": "stream",
          "text": [
            "Train: 100%|██████████| 863/863 [04:26<00:00,  3.24it/s]\n",
            "Val: 100%|██████████| 216/216 [00:33<00:00,  6.47it/s]\n"
          ]
        },
        {
          "metadata": {
            "tags": null
          },
          "name": "stdout",
          "output_type": "stream",
          "text": [
            "              precision    recall  f1-score   support\n",
            "\n",
            "           0       0.90      0.72      0.80       320\n",
            "           1       0.90      0.96      0.93       637\n",
            "           2       0.98      0.85      0.91       237\n",
            "           3       0.91      0.95      0.93       372\n",
            "           4       0.96      0.94      0.95       966\n",
            "           5       0.93      0.99      0.96       924\n",
            "\n",
            "    accuracy                           0.93      3456\n",
            "   macro avg       0.93      0.90      0.91      3456\n",
            "weighted avg       0.93      0.93      0.93      3456\n",
            "\n",
            "------------------------epoch 10-----------------------------\n"
          ]
        },
        {
          "metadata": {
            "tags": null
          },
          "name": "stderr",
          "output_type": "stream",
          "text": [
            "Train: 100%|██████████| 863/863 [04:26<00:00,  3.23it/s]\n",
            "Val: 100%|██████████| 216/216 [00:33<00:00,  6.43it/s]\n"
          ]
        },
        {
          "metadata": {
            "tags": null
          },
          "name": "stdout",
          "output_type": "stream",
          "text": [
            "              precision    recall  f1-score   support\n",
            "\n",
            "           0       0.86      0.69      0.77       320\n",
            "           1       0.90      0.97      0.93       637\n",
            "           2       0.89      0.98      0.93       237\n",
            "           3       0.91      0.96      0.93       372\n",
            "           4       0.97      0.91      0.94       966\n",
            "           5       0.95      0.98      0.96       924\n",
            "\n",
            "    accuracy                           0.93      3456\n",
            "   macro avg       0.91      0.91      0.91      3456\n",
            "weighted avg       0.93      0.93      0.93      3456\n",
            "\n",
            "------------------------epoch 11-----------------------------\n"
          ]
        },
        {
          "metadata": {
            "tags": null
          },
          "name": "stderr",
          "output_type": "stream",
          "text": [
            "Train: 100%|██████████| 863/863 [04:26<00:00,  3.23it/s]\n",
            "Val: 100%|██████████| 216/216 [00:33<00:00,  6.42it/s]\n"
          ]
        },
        {
          "metadata": {
            "tags": null
          },
          "name": "stdout",
          "output_type": "stream",
          "text": [
            "              precision    recall  f1-score   support\n",
            "\n",
            "           0       0.91      0.71      0.80       320\n",
            "           1       0.92      0.97      0.94       637\n",
            "           2       0.97      0.95      0.96       237\n",
            "           3       0.92      0.96      0.94       372\n",
            "           4       0.96      0.95      0.95       966\n",
            "           5       0.95      0.99      0.97       924\n",
            "\n",
            "    accuracy                           0.94      3456\n",
            "   macro avg       0.94      0.92      0.93      3456\n",
            "weighted avg       0.94      0.94      0.94      3456\n",
            "\n",
            "------------------------epoch 12-----------------------------\n"
          ]
        },
        {
          "metadata": {
            "tags": null
          },
          "name": "stderr",
          "output_type": "stream",
          "text": [
            "Train: 100%|██████████| 863/863 [04:26<00:00,  3.24it/s]\n",
            "Val: 100%|██████████| 216/216 [00:33<00:00,  6.50it/s]\n"
          ]
        },
        {
          "metadata": {
            "tags": null
          },
          "name": "stdout",
          "output_type": "stream",
          "text": [
            "              precision    recall  f1-score   support\n",
            "\n",
            "           0       0.91      0.65      0.76       320\n",
            "           1       0.90      0.98      0.94       637\n",
            "           2       0.97      0.92      0.95       237\n",
            "           3       0.87      0.99      0.93       372\n",
            "           4       0.97      0.89      0.93       966\n",
            "           5       0.91      0.99      0.95       924\n",
            "\n",
            "    accuracy                           0.92      3456\n",
            "   macro avg       0.92      0.90      0.91      3456\n",
            "weighted avg       0.93      0.92      0.92      3456\n",
            "\n",
            "------------------------epoch 13-----------------------------\n"
          ]
        },
        {
          "metadata": {
            "tags": null
          },
          "name": "stderr",
          "output_type": "stream",
          "text": [
            "Train: 100%|██████████| 863/863 [04:26<00:00,  3.24it/s]\n",
            "Val: 100%|██████████| 216/216 [00:33<00:00,  6.46it/s]\n"
          ]
        },
        {
          "metadata": {
            "tags": null
          },
          "name": "stdout",
          "output_type": "stream",
          "text": [
            "              precision    recall  f1-score   support\n",
            "\n",
            "           0       0.86      0.72      0.78       320\n",
            "           1       0.86      0.98      0.92       637\n",
            "           2       0.97      0.96      0.97       237\n",
            "           3       0.91      0.95      0.93       372\n",
            "           4       0.96      0.95      0.95       966\n",
            "           5       0.98      0.94      0.96       924\n",
            "\n",
            "    accuracy                           0.93      3456\n",
            "   macro avg       0.92      0.92      0.92      3456\n",
            "weighted avg       0.93      0.93      0.93      3456\n",
            "\n",
            "------------------------epoch 14-----------------------------\n"
          ]
        },
        {
          "metadata": {
            "tags": null
          },
          "name": "stderr",
          "output_type": "stream",
          "text": [
            "Train: 100%|██████████| 863/863 [04:25<00:00,  3.25it/s]\n",
            "Val: 100%|██████████| 216/216 [00:33<00:00,  6.47it/s]\n"
          ]
        },
        {
          "metadata": {
            "tags": null
          },
          "name": "stdout",
          "output_type": "stream",
          "text": [
            "              precision    recall  f1-score   support\n",
            "\n",
            "           0       0.87      0.76      0.81       320\n",
            "           1       0.95      0.91      0.93       637\n",
            "           2       0.97      0.94      0.95       237\n",
            "           3       0.90      0.98      0.94       372\n",
            "           4       0.96      0.90      0.93       966\n",
            "           5       0.89      0.99      0.94       924\n",
            "\n",
            "    accuracy                           0.92      3456\n",
            "   macro avg       0.92      0.91      0.92      3456\n",
            "weighted avg       0.93      0.92      0.92      3456\n",
            "\n",
            "------------------------epoch 15-----------------------------\n"
          ]
        },
        {
          "metadata": {
            "tags": null
          },
          "name": "stderr",
          "output_type": "stream",
          "text": [
            "Train: 100%|██████████| 863/863 [04:25<00:00,  3.24it/s]\n",
            "Val: 100%|██████████| 216/216 [00:33<00:00,  6.50it/s]\n"
          ]
        },
        {
          "metadata": {
            "tags": null
          },
          "name": "stdout",
          "output_type": "stream",
          "text": [
            "              precision    recall  f1-score   support\n",
            "\n",
            "           0       0.91      0.73      0.81       320\n",
            "           1       0.94      0.95      0.95       637\n",
            "           2       0.90      0.98      0.94       237\n",
            "           3       0.91      0.98      0.95       372\n",
            "           4       0.96      0.95      0.95       966\n",
            "           5       0.97      0.98      0.97       924\n",
            "\n",
            "    accuracy                           0.94      3456\n",
            "   macro avg       0.93      0.93      0.93      3456\n",
            "weighted avg       0.94      0.94      0.94      3456\n",
            "\n",
            "------------------------epoch 16-----------------------------\n"
          ]
        },
        {
          "metadata": {
            "tags": null
          },
          "name": "stderr",
          "output_type": "stream",
          "text": [
            "Train: 100%|██████████| 863/863 [04:26<00:00,  3.24it/s]\n",
            "Val: 100%|██████████| 216/216 [00:33<00:00,  6.47it/s]\n"
          ]
        },
        {
          "metadata": {
            "tags": null
          },
          "name": "stdout",
          "output_type": "stream",
          "text": [
            "              precision    recall  f1-score   support\n",
            "\n",
            "           0       0.96      0.68      0.79       320\n",
            "           1       0.90      0.98      0.94       637\n",
            "           2       0.94      0.98      0.96       237\n",
            "           3       0.90      0.98      0.94       372\n",
            "           4       0.97      0.95      0.96       966\n",
            "           5       0.97      0.98      0.97       924\n",
            "\n",
            "    accuracy                           0.94      3456\n",
            "   macro avg       0.94      0.93      0.93      3456\n",
            "weighted avg       0.95      0.94      0.94      3456\n",
            "\n",
            "------------------------epoch 17-----------------------------\n"
          ]
        },
        {
          "metadata": {
            "tags": null
          },
          "name": "stderr",
          "output_type": "stream",
          "text": [
            "Train: 100%|██████████| 863/863 [04:25<00:00,  3.25it/s]\n",
            "Val: 100%|██████████| 216/216 [00:33<00:00,  6.51it/s]\n"
          ]
        },
        {
          "metadata": {
            "tags": null
          },
          "name": "stdout",
          "output_type": "stream",
          "text": [
            "              precision    recall  f1-score   support\n",
            "\n",
            "           0       0.82      0.72      0.77       320\n",
            "           1       0.97      0.81      0.88       637\n",
            "           2       0.96      0.97      0.96       237\n",
            "           3       0.80      0.98      0.88       372\n",
            "           4       0.94      0.92      0.93       966\n",
            "           5       0.92      0.99      0.95       924\n",
            "\n",
            "    accuracy                           0.91      3456\n",
            "   macro avg       0.90      0.90      0.90      3456\n",
            "weighted avg       0.92      0.91      0.91      3456\n",
            "\n",
            "------------------------epoch 18-----------------------------\n"
          ]
        },
        {
          "metadata": {
            "tags": null
          },
          "name": "stderr",
          "output_type": "stream",
          "text": [
            "Train: 100%|██████████| 863/863 [04:26<00:00,  3.24it/s]\n",
            "Val: 100%|██████████| 216/216 [00:33<00:00,  6.50it/s]\n"
          ]
        },
        {
          "metadata": {
            "tags": null
          },
          "name": "stdout",
          "output_type": "stream",
          "text": [
            "              precision    recall  f1-score   support\n",
            "\n",
            "           0       0.92      0.70      0.80       320\n",
            "           1       0.92      0.97      0.94       637\n",
            "           2       0.90      0.98      0.94       237\n",
            "           3       0.90      0.98      0.94       372\n",
            "           4       0.96      0.96      0.96       966\n",
            "           5       0.97      0.96      0.97       924\n",
            "\n",
            "    accuracy                           0.94      3456\n",
            "   macro avg       0.93      0.93      0.92      3456\n",
            "weighted avg       0.94      0.94      0.94      3456\n",
            "\n",
            "------------------------epoch 19-----------------------------\n"
          ]
        },
        {
          "metadata": {
            "tags": null
          },
          "name": "stderr",
          "output_type": "stream",
          "text": [
            "Train: 100%|██████████| 863/863 [04:26<00:00,  3.24it/s]\n",
            "Val: 100%|██████████| 216/216 [00:33<00:00,  6.46it/s]\n"
          ]
        },
        {
          "metadata": {
            "tags": null
          },
          "name": "stdout",
          "output_type": "stream",
          "text": [
            "              precision    recall  f1-score   support\n",
            "\n",
            "           0       0.86      0.80      0.83       320\n",
            "           1       0.95      0.95      0.95       637\n",
            "           2       0.94      0.98      0.96       237\n",
            "           3       0.94      0.97      0.95       372\n",
            "           4       0.98      0.94      0.96       966\n",
            "           5       0.96      0.99      0.97       924\n",
            "\n",
            "    accuracy                           0.95      3456\n",
            "   macro avg       0.94      0.94      0.94      3456\n",
            "weighted avg       0.95      0.95      0.95      3456\n",
            "\n",
            "------------------------epoch 20-----------------------------\n"
          ]
        },
        {
          "metadata": {
            "tags": null
          },
          "name": "stderr",
          "output_type": "stream",
          "text": [
            "Train: 100%|██████████| 863/863 [04:26<00:00,  3.24it/s]\n",
            "Val: 100%|██████████| 216/216 [00:33<00:00,  6.48it/s]\n"
          ]
        },
        {
          "metadata": {
            "tags": null
          },
          "name": "stdout",
          "output_type": "stream",
          "text": [
            "              precision    recall  f1-score   support\n",
            "\n",
            "           0       0.95      0.67      0.79       320\n",
            "           1       0.92      0.97      0.94       637\n",
            "           2       0.85      0.99      0.92       237\n",
            "           3       0.90      0.98      0.94       372\n",
            "           4       0.98      0.92      0.95       966\n",
            "           5       0.94      0.98      0.96       924\n",
            "\n",
            "    accuracy                           0.93      3456\n",
            "   macro avg       0.92      0.92      0.92      3456\n",
            "weighted avg       0.94      0.93      0.93      3456\n",
            "\n",
            "------------------------epoch 21-----------------------------\n"
          ]
        },
        {
          "metadata": {
            "tags": null
          },
          "name": "stderr",
          "output_type": "stream",
          "text": [
            "Train: 100%|██████████| 863/863 [04:26<00:00,  3.24it/s]\n",
            "Val: 100%|██████████| 216/216 [00:33<00:00,  6.45it/s]\n"
          ]
        },
        {
          "metadata": {
            "tags": null
          },
          "name": "stdout",
          "output_type": "stream",
          "text": [
            "              precision    recall  f1-score   support\n",
            "\n",
            "           0       0.77      0.83      0.80       320\n",
            "           1       0.97      0.87      0.92       637\n",
            "           2       0.80      0.97      0.87       237\n",
            "           3       0.93      0.97      0.95       372\n",
            "           4       0.97      0.91      0.94       966\n",
            "           5       0.92      0.95      0.93       924\n",
            "\n",
            "    accuracy                           0.92      3456\n",
            "   macro avg       0.89      0.92      0.90      3456\n",
            "weighted avg       0.92      0.92      0.92      3456\n",
            "\n",
            "------------------------epoch 22-----------------------------\n"
          ]
        },
        {
          "metadata": {
            "tags": null
          },
          "name": "stderr",
          "output_type": "stream",
          "text": [
            "Train: 100%|██████████| 863/863 [04:26<00:00,  3.24it/s]\n",
            "Val: 100%|██████████| 216/216 [00:33<00:00,  6.48it/s]\n"
          ]
        },
        {
          "metadata": {
            "tags": null
          },
          "name": "stdout",
          "output_type": "stream",
          "text": [
            "              precision    recall  f1-score   support\n",
            "\n",
            "           0       0.91      0.71      0.80       320\n",
            "           1       0.89      0.97      0.93       637\n",
            "           2       0.96      0.97      0.96       237\n",
            "           3       0.94      0.97      0.95       372\n",
            "           4       0.96      0.95      0.96       966\n",
            "           5       0.96      0.98      0.97       924\n",
            "\n",
            "    accuracy                           0.94      3456\n",
            "   macro avg       0.94      0.92      0.93      3456\n",
            "weighted avg       0.94      0.94      0.94      3456\n",
            "\n",
            "------------------------epoch 23-----------------------------\n"
          ]
        },
        {
          "metadata": {
            "tags": null
          },
          "name": "stderr",
          "output_type": "stream",
          "text": [
            "Train: 100%|██████████| 863/863 [04:26<00:00,  3.24it/s]\n",
            "Val: 100%|██████████| 216/216 [00:33<00:00,  6.45it/s]\n"
          ]
        },
        {
          "metadata": {
            "tags": null
          },
          "name": "stdout",
          "output_type": "stream",
          "text": [
            "              precision    recall  f1-score   support\n",
            "\n",
            "           0       0.94      0.76      0.84       320\n",
            "           1       0.93      0.98      0.95       637\n",
            "           2       0.97      0.94      0.96       237\n",
            "           3       0.94      0.96      0.95       372\n",
            "           4       0.96      0.96      0.96       966\n",
            "           5       0.96      0.99      0.97       924\n",
            "\n",
            "    accuracy                           0.95      3456\n",
            "   macro avg       0.95      0.93      0.94      3456\n",
            "weighted avg       0.95      0.95      0.95      3456\n",
            "\n",
            "------------------------epoch 24-----------------------------\n"
          ]
        },
        {
          "output_type": "stream",
          "name": "stderr",
          "text": [
            "Train: 100%|██████████| 863/863 [04:26<00:00,  3.24it/s]\n",
            "Val: 100%|██████████| 216/216 [00:33<00:00,  6.46it/s]\n"
          ]
        },
        {
          "output_type": "stream",
          "name": "stdout",
          "text": [
            "              precision    recall  f1-score   support\n",
            "\n",
            "           0       0.90      0.79      0.84       320\n",
            "           1       0.94      0.97      0.95       637\n",
            "           2       0.98      0.97      0.98       237\n",
            "           3       0.93      0.97      0.95       372\n",
            "           4       0.96      0.97      0.96       966\n",
            "           5       0.98      0.98      0.98       924\n",
            "\n",
            "    accuracy                           0.95      3456\n",
            "   macro avg       0.95      0.94      0.94      3456\n",
            "weighted avg       0.95      0.95      0.95      3456\n",
            "\n",
            "------------------------epoch 25-----------------------------\n"
          ]
        },
        {
          "output_type": "stream",
          "name": "stderr",
          "text": [
            "Train: 100%|██████████| 863/863 [04:26<00:00,  3.23it/s]\n",
            "Val: 100%|██████████| 216/216 [00:33<00:00,  6.48it/s]\n"
          ]
        },
        {
          "output_type": "stream",
          "name": "stdout",
          "text": [
            "              precision    recall  f1-score   support\n",
            "\n",
            "           0       0.94      0.70      0.80       320\n",
            "           1       0.93      0.97      0.95       637\n",
            "           2       0.95      0.98      0.97       237\n",
            "           3       0.94      0.96      0.95       372\n",
            "           4       0.96      0.94      0.95       966\n",
            "           5       0.94      0.99      0.96       924\n",
            "\n",
            "    accuracy                           0.94      3456\n",
            "   macro avg       0.94      0.92      0.93      3456\n",
            "weighted avg       0.94      0.94      0.94      3456\n",
            "\n",
            "------------------------epoch 26-----------------------------\n"
          ]
        },
        {
          "output_type": "stream",
          "name": "stderr",
          "text": [
            "Train: 100%|██████████| 863/863 [04:26<00:00,  3.24it/s]\n",
            "Val: 100%|██████████| 216/216 [00:33<00:00,  6.46it/s]\n"
          ]
        },
        {
          "output_type": "stream",
          "name": "stdout",
          "text": [
            "              precision    recall  f1-score   support\n",
            "\n",
            "           0       0.94      0.67      0.78       320\n",
            "           1       0.91      0.97      0.94       637\n",
            "           2       0.93      0.97      0.95       237\n",
            "           3       0.92      0.98      0.95       372\n",
            "           4       0.95      0.96      0.96       966\n",
            "           5       0.97      0.98      0.97       924\n",
            "\n",
            "    accuracy                           0.94      3456\n",
            "   macro avg       0.94      0.92      0.92      3456\n",
            "weighted avg       0.94      0.94      0.94      3456\n",
            "\n",
            "------------------------epoch 27-----------------------------\n"
          ]
        },
        {
          "output_type": "stream",
          "name": "stderr",
          "text": [
            "Train: 100%|██████████| 863/863 [04:27<00:00,  3.23it/s]\n",
            "Val: 100%|██████████| 216/216 [00:33<00:00,  6.45it/s]\n"
          ]
        },
        {
          "output_type": "stream",
          "name": "stdout",
          "text": [
            "              precision    recall  f1-score   support\n",
            "\n",
            "           0       0.92      0.66      0.77       320\n",
            "           1       0.90      0.97      0.94       637\n",
            "           2       0.90      0.99      0.94       237\n",
            "           3       0.94      0.97      0.95       372\n",
            "           4       0.95      0.97      0.96       966\n",
            "           5       0.98      0.96      0.97       924\n",
            "\n",
            "    accuracy                           0.94      3456\n",
            "   macro avg       0.93      0.92      0.92      3456\n",
            "weighted avg       0.94      0.94      0.94      3456\n",
            "\n",
            "------------------------epoch 28-----------------------------\n"
          ]
        },
        {
          "output_type": "stream",
          "name": "stderr",
          "text": [
            "Train: 100%|██████████| 863/863 [04:26<00:00,  3.23it/s]\n",
            "Val: 100%|██████████| 216/216 [00:33<00:00,  6.45it/s]\n"
          ]
        },
        {
          "output_type": "stream",
          "name": "stdout",
          "text": [
            "              precision    recall  f1-score   support\n",
            "\n",
            "           0       0.95      0.71      0.81       320\n",
            "           1       0.91      0.97      0.94       637\n",
            "           2       0.90      0.98      0.94       237\n",
            "           3       0.92      0.97      0.95       372\n",
            "           4       0.97      0.94      0.95       966\n",
            "           5       0.95      0.98      0.97       924\n",
            "\n",
            "    accuracy                           0.94      3456\n",
            "   macro avg       0.93      0.93      0.93      3456\n",
            "weighted avg       0.94      0.94      0.94      3456\n",
            "\n",
            "------------------------epoch 29-----------------------------\n"
          ]
        },
        {
          "output_type": "stream",
          "name": "stderr",
          "text": [
            "Train: 100%|██████████| 863/863 [04:27<00:00,  3.23it/s]\n",
            "Val: 100%|██████████| 216/216 [00:33<00:00,  6.42it/s]\n"
          ]
        },
        {
          "output_type": "stream",
          "name": "stdout",
          "text": [
            "              precision    recall  f1-score   support\n",
            "\n",
            "           0       0.89      0.77      0.82       320\n",
            "           1       0.96      0.94      0.95       637\n",
            "           2       0.92      0.98      0.95       237\n",
            "           3       0.91      0.98      0.94       372\n",
            "           4       0.96      0.96      0.96       966\n",
            "           5       0.97      0.98      0.97       924\n",
            "\n",
            "    accuracy                           0.95      3456\n",
            "   macro avg       0.93      0.93      0.93      3456\n",
            "weighted avg       0.95      0.95      0.95      3456\n",
            "\n"
          ]
        },
        {
          "output_type": "display_data",
          "data": {
            "text/html": [
              "<br/>Waiting for W&B process to finish, PID 2188... <strong style=\"color:green\">(success).</strong>"
            ],
            "text/plain": [
              "<IPython.core.display.HTML object>"
            ]
          },
          "metadata": {}
        },
        {
          "output_type": "display_data",
          "data": {
            "application/vnd.jupyter.widget-view+json": {
              "model_id": "446b4457023e449e9756880f6e67fca3",
              "version_minor": 0,
              "version_major": 2
            },
            "text/plain": [
              "VBox(children=(Label(value=' 0.00MB of 0.00MB uploaded (0.00MB deduped)\\r'), FloatProgress(value=1.0, max=1.0)…"
            ]
          },
          "metadata": {}
        },
        {
          "output_type": "display_data",
          "data": {
            "text/html": [
              "<style>\n",
              "    table.wandb td:nth-child(1) { padding: 0 10px; text-align: right }\n",
              "    .wandb-row { display: flex; flex-direction: row; flex-wrap: wrap; width: 100% }\n",
              "    .wandb-col { display: flex; flex-direction: column; flex-basis: 100%; flex: 1; padding: 10px; }\n",
              "    </style>\n",
              "<div class=\"wandb-row\"><div class=\"wandb-col\">\n",
              "<h3>Run history:</h3><br/><table class=\"wandb\"><tr><td>train acc</td><td>▁▄▅▅▆▆▆▆▆▇▆▇▇▇▇▇▇▇▇▇▇██▇██████</td></tr><tr><td>train acc cls1</td><td>▁▃▃▄▄▅▅▆▅▆▅▆▅▆▆▆▇▆▆▇▇▇▇▇▇▇██▇▇</td></tr><tr><td>train acc cls2</td><td>▁▄▅▅▆▅▆▆▆▇▆▇▇▇▇▇▇▇▇▇▇▇▇▇█▇█▇█▇</td></tr><tr><td>train acc cls3</td><td>▁▅▅▆▆▆▆▇▇▇▆▇▇▇▇▇▇▇▇▇████▇███▇█</td></tr><tr><td>train acc cls4</td><td>▁▅▆▆▆▆▆▆▇▇▇▇▇▇▇▇▇▇▇▇█▇█▇█▇████</td></tr><tr><td>train acc cls5</td><td>▁▄▅▅▅▆▆▆▇▇▇▇▇▇▇▇▇▇▇▇█▇▇▇▇█████</td></tr><tr><td>train acc cls6</td><td>▁▄▅▆▆▆▆▇▆▇▇▇▇▇▇▇█▇██▇██▇██████</td></tr><tr><td>train f1</td><td>▁▄▅▅▆▆▆▆▆▇▆▇▇▇▇▇▇▇▇▇███▇█▇████</td></tr><tr><td>train f1 cls1</td><td>▁▄▄▅▅▆▅▆▆▆▆▆▆▆▆▆▆▆▆▇▇▇▇▇█▇██▇▇</td></tr><tr><td>train f1 cls2</td><td>▁▄▄▅▅▅▆▆▆▆▆▇▇▇▇▇▇▇▇▇▇██▇█▇█▇██</td></tr><tr><td>train f1 cls3</td><td>▁▄▅▅▆▆▆▆▇▇▆▇▇▇▇▇▇▇█▇███▇▇▇████</td></tr><tr><td>train f1 cls4</td><td>▁▅▅▆▆▆▆▇▆▇▇▇▇▇▇▇▇▇▇███▇▇█▇▇███</td></tr><tr><td>train f1 cls5</td><td>▁▄▅▅▅▆▆▆▆▇▇▇▇▇▇▇▇▇▇▇█▇█▇▇████▇</td></tr><tr><td>train f1 cls6</td><td>▁▄▅▅▅▆▆▆▆▇▇▇▇▇▇▇▇▇▇▇▇▇▇▇██████</td></tr><tr><td>train loss</td><td>█▅▄▄▄▃▃▃▃▂▂▂▂▂▂▂▂▂▂▂▁▁▁▁▁▁▁▁▁▁</td></tr><tr><td>train precison</td><td>▁▄▅▅▆▆▆▆▆▆▇▇▇▇▇▇▇▇▇▇███▇█▇████</td></tr><tr><td>train precison cls1</td><td>▁▄▄▅▅▆▅▆▅▆▆▆▆▆▆▆▆▆▆▇▇▇▇▇█▇██▇▇</td></tr><tr><td>train precison cls2</td><td>▁▄▅▆▆▅▆▆▆▇▆▇▇▇▇▇▇▇▇▇▇█▇▇▇▇█▇██</td></tr><tr><td>train precison cls3</td><td>▁▄▅▅▆▆▆▆▇▇▆▇▇▇▇▇▇▇▇▇███▇█▇████</td></tr><tr><td>train precison cls4</td><td>▁▅▅▅▆▆▆▆▆▆▇▆▆▇▆▆▇▇▇▇█▇▇▇█▇████</td></tr><tr><td>train precison cls5</td><td>▁▄▄▅▅▆▆▆▆▇▇▇▇▇▇▇▇▇▇▇█▇█▇▇█████</td></tr><tr><td>train precison cls6</td><td>▁▄▅▅▅▅▆▆▆▆▆▇▇▇▇▇▇▇▇▇▇▇▇▇██████</td></tr><tr><td>train recall</td><td>▁▄▅▅▅▆▆▆▆▇▆▇▇▇▇▇▇▇▇▇███▇█▇████</td></tr><tr><td>train recall cls1</td><td>▁▄▄▄▄▅▅▆▆▆▆▆▆▆▆▆▆▆▆▇▇▇▇▇▇▇██▇▇</td></tr><tr><td>train recall cls2</td><td>▁▄▄▅▅▅▆▆▆▆▆▆▆▇▆▇▇▆▇▇▇▇▇▇█▇█▇█▇</td></tr><tr><td>train recall cls3</td><td>▁▄▄▅▆▆▆▇▆▆▆▆▇▇▇▇▇▇█▇▇█▇█▇██▇██</td></tr><tr><td>train recall cls4</td><td>▁▅▅▆▆▆▇▇▆▇▇▇▇█▇▇▇▇▇▇██▇▇█▇▇█▇█</td></tr><tr><td>train recall cls5</td><td>▁▄▅▆▅▆▆▆▆▇▇▇▇▇▇▇▇▇▇▇▇█▇▇▇████▇</td></tr><tr><td>train recall cls6</td><td>▁▃▅▆▆▆▆▇▇▇▇▆▇▇▇▇▇▇▇▇█▇█▇▇█████</td></tr><tr><td>val acc</td><td>▁▁▃▃▃▁▄▄▃▅▄▆▃▅▃▆▇▁▆▇▅▂▆██▇▇▆▆▇</td></tr><tr><td>val acc cls1</td><td>▁▁▄▄▂▅▇▆▇▅▄▄▃▆▆▆▄▅▅▇▄█▅▆▇▄▄▃▆▅</td></tr><tr><td>val acc cls2</td><td>▅▇▇▇▇▁▆▅▆▇▇▇██▄▇█▂▇▇▇▄███▇▇██▆</td></tr><tr><td>val acc cls3</td><td>▇▅▅▄▄▂▅▆▇▁▇▅▃▆▅█▇▆█▇██▆▆▇▇▇███</td></tr><tr><td>val acc cls4</td><td>▃▄▁▂▄▆▆▃▃▂▄▃█▆▇▇▆▇▇▄▆▆▆▄▆▃▅▅▆▅</td></tr><tr><td>val acc cls5</td><td>▄▂▅▅▁▄▅▄▆▆▃▇▁▆▄▆▇▅▇▅▄▃▆██▆██▆█</td></tr><tr><td>val acc cls6</td><td>▄▄▇▃▇█▄▇▁▇▆▇▇▁█▆▇█▄█▇▅▆▇▆█▇▄▇▇</td></tr><tr><td>val f1</td><td>▁▁▄▃▃▂▄▄▃▄▄▆▃▅▄▆▆▂▅▇▄▃▆▇█▆▅▅▆▇</td></tr><tr><td>val f1 cls1</td><td>▁▂▄▄▃▄▄▅▅▆▄▆▃▅▆▆▅▄▅▇▅▆▆██▆▅▄▆▇</td></tr><tr><td>val f1 cls2</td><td>▄▅▅▅▅▄▅▅▅▅▆▇▆▄▅▇▆▁▇█▇▄▆██▇▆▆▇▇</td></tr><tr><td>val f1 cls3</td><td>▄▃▅▅▆▅▆▆▁▄▅▇▆▇▆▅▇▇▆▇▄▂▇▇█▇▆▆▆▆</td></tr><tr><td>val f1 cls4</td><td>▄▅▆▅▅▆▆▆▇▆▆▇▅▆▆▇▇▁▇█▇█████▇█▇▇</td></tr><tr><td>val f1 cls5</td><td>▁▂▃▃▁▂▃▃▅▅▃▆▁▆▂▆▇▂▇▇▅▃▆▇█▅▆▇▆█</td></tr><tr><td>val f1 cls6</td><td>▃▂▄▃▃▁▅▄▄▅▆▆▃▄▂▇▇▄▆▇▅▁▇▇█▆▇▇▇█</td></tr><tr><td>val loss</td><td>██▆▆▇█▅▅▅▄▅▃▆▄▆▃▃▇▃▂▃▆▃▁▁▃▃▃▃▂</td></tr><tr><td>val precison</td><td>▃▂▅▄▅▃▃▄▂▆▄▇▅▅▅▆▇▂▅▆▅▁▇██▇▇▆▆▆</td></tr><tr><td>val precison cls1</td><td>█▆▆▅█▂▁▃▃▆▄▆▆▄▅▆█▃▇▄█▁▆▇▆▇█▇█▆</td></tr><tr><td>val precison cls2</td><td>▃▄▄▃▃▇▅▇▆▄▃▅▄▁▇▆▄█▅▇▅█▃▅▆▅▄▄▄▇</td></tr><tr><td>val precison cls3</td><td>▄▄▆▇▇█▇▆▁█▅████▅▇▇▅▇▄▂▇██▇▆▅▅▆</td></tr><tr><td>val precison cls4</td><td>▄▅▇▆▄▅▆▆▇▇▇▇▄▇▆▇▆▁▆█▆█████▇█▇▆</td></tr><tr><td>val precison cls5</td><td>▁▆▄▃▇▆▅▅▅▅▇▆▇▆▆▆▇▄▆██▇▆▆▆▅▅▅▇▆</td></tr><tr><td>val precison cls6</td><td>▅▃▄▅▂▁▇▃▇▄▆▅▃█▁▇▇▃▇▆▅▃▆▆█▅▇█▆▇</td></tr><tr><td>val recall</td><td>▁▂▃▂▂▂▄▄▅▃▄▅▃▅▄▆▆▂▆█▅▅▆▇█▆▅▅▆▇</td></tr><tr><td>val recall cls1</td><td>▁▂▄▄▂▅▆▆▆▅▄▅▃▅▆▅▄▅▄▇▄█▅▆▇▄▄▃▅▆</td></tr><tr><td>val recall cls2</td><td>▆▇▆▇▇▄▆▅▅▇▇▇██▅▇█▁▇▇▇▃▇█▇▇▇██▆</td></tr><tr><td>val recall cls3</td><td>▇▇▅▄▆▂▅▆▇▁█▆▅▇▅██▇███▇▇▆▇█▇███</td></tr><tr><td>val recall cls4</td><td>▄▄▁▁▇▇▆▄▃▂▃▄█▃▆▇▇▆▇▅▇▄▅▄▅▄▆▄▅▆</td></tr><tr><td>val recall cls5</td><td>▅▂▅▆▁▃▄▄▇▆▃▆▁▆▃▇▇▄▇▆▄▃▆▇█▆██▅█</td></tr><tr><td>val recall cls6</td><td>▄▅▇▄▇█▄▇▁▇▆▇▇▁█▆▆█▅█▇▃▆▇▆█▆▄▇▇</td></tr></table><br/></div><div class=\"wandb-col\">\n",
              "<h3>Run summary:</h3><br/><table class=\"wandb\"><tr><td>train acc</td><td>96.85086</td></tr><tr><td>train acc cls1</td><td>94.09641</td></tr><tr><td>train acc cls2</td><td>94.75767</td></tr><tr><td>train acc cls3</td><td>98.54805</td></tr><tr><td>train acc cls4</td><td>97.21942</td></tr><tr><td>train acc cls5</td><td>95.65224</td></tr><tr><td>train acc cls6</td><td>96.28722</td></tr><tr><td>train f1</td><td>89.25653</td></tr><tr><td>train f1 cls1</td><td>78.04474</td></tr><tr><td>train f1 cls2</td><td>87.9348</td></tr><tr><td>train f1 cls3</td><td>93.33333</td></tr><tr><td>train f1 cls4</td><td>90.58903</td></tr><tr><td>train f1 cls5</td><td>92.58828</td></tr><tr><td>train f1 cls6</td><td>93.04897</td></tr><tr><td>train loss</td><td>0.08412</td></tr><tr><td>train precison</td><td>89.95912</td></tr><tr><td>train precison cls1</td><td>83.1421</td></tr><tr><td>train precison cls2</td><td>88.90675</td></tr><tr><td>train precison cls3</td><td>93.53128</td></tr><tr><td>train precison cls4</td><td>91.26876</td></tr><tr><td>train precison cls5</td><td>92.31364</td></tr><tr><td>train precison cls6</td><td>90.59216</td></tr><tr><td>train recall</td><td>88.68051</td></tr><tr><td>train recall cls1</td><td>73.5363</td></tr><tr><td>train recall cls2</td><td>86.98388</td></tr><tr><td>train recall cls3</td><td>93.13622</td></tr><tr><td>train recall cls4</td><td>89.91935</td></tr><tr><td>train recall cls5</td><td>92.86456</td></tr><tr><td>train recall cls6</td><td>95.64276</td></tr><tr><td>val acc</td><td>98.153</td></tr><tr><td>val acc cls1</td><td>71.05469</td></tr><tr><td>val acc cls2</td><td>92.96507</td></tr><tr><td>val acc cls3</td><td>97.8903</td></tr><tr><td>val acc cls4</td><td>96.72379</td></tr><tr><td>val acc cls5</td><td>95.96273</td></tr><tr><td>val acc cls6</td><td>97.98431</td></tr><tr><td>val f1</td><td>93.31302</td></tr><tr><td>val f1 cls1</td><td>82.49158</td></tr><tr><td>val f1 cls2</td><td>94.67832</td></tr><tr><td>val f1 cls3</td><td>94.69388</td></tr><tr><td>val f1 cls4</td><td>94.05685</td></tr><tr><td>val f1 cls5</td><td>96.48033</td></tr><tr><td>val f1 cls6</td><td>97.47719</td></tr><tr><td>val loss</td><td>0.05218</td></tr><tr><td>val precison</td><td>93.44363</td></tr><tr><td>val precison cls1</td><td>89.41606</td></tr><tr><td>val precison cls2</td><td>95.81994</td></tr><tr><td>val precison cls3</td><td>91.6996</td></tr><tr><td>val precison cls4</td><td>90.54726</td></tr><tr><td>val precison cls5</td><td>96.48033</td></tr><tr><td>val precison cls6</td><td>96.69862</td></tr><tr><td>val recall</td><td>93.43576</td></tr><tr><td>val recall cls1</td><td>76.5625</td></tr><tr><td>val recall cls2</td><td>93.56358</td></tr><tr><td>val recall cls3</td><td>97.8903</td></tr><tr><td>val recall cls4</td><td>97.84946</td></tr><tr><td>val recall cls5</td><td>96.48033</td></tr><tr><td>val recall cls6</td><td>98.2684</td></tr></table>\n",
              "</div></div>\n",
              "Synced 5 W&B file(s), 0 media file(s), 0 artifact file(s) and 0 other file(s)\n",
              "<br/>Synced <strong style=\"color:#cdcd00\">angelic-balloon-7</strong>: <a href=\"https://wandb.ai/seminar/Plant_Pathology_Classification/runs/31nbjt5t\" target=\"_blank\">https://wandb.ai/seminar/Plant_Pathology_Classification/runs/31nbjt5t</a><br/>\n",
              "Find logs at: <code>./wandb/run-20220214_000806-31nbjt5t/logs</code><br/>\n"
            ],
            "text/plain": [
              "<IPython.core.display.HTML object>"
            ]
          },
          "metadata": {}
        }
      ]
    },
    {
      "cell_type": "markdown",
      "metadata": {
        "id": "W3uvBpXni08M"
      },
      "source": [
        "# LFLSeg Dataset\n",
        "The key idea of the LFLSeg is the introduction of the partial leaf class. Partial leaf images are created from full leaf images. From one single full leaf image, we crop 9 patches to create 9 images for partial leaf class.\n",
        "\n",
        "Dataset will have 3 classes:\n",
        "\n",
        "*   full leaf: image that contains a full leaf\n",
        "*   partial leaf: image that contains a part of a full leaf\n",
        "*   non-leaf: image that does not contain any part of a leaf"
      ]
    },
    {
      "cell_type": "markdown",
      "metadata": {
        "id": "QfDLjxej4IqY"
      },
      "source": [
        "##Non Leaf Class Data\n",
        "Using downlaoder from git - ImageNet-Datasets-Downloader, to downlaod random images from ImageNet  \n",
        "number of classes - 100 and 150 images per class\n",
        "\n",
        "output dir - /content/drive/MyDrive/LeafGANDataSet/non-leaf"
      ]
    },
    {
      "cell_type": "code",
      "execution_count": null,
      "metadata": {
        "id": "Z-N_pyqk36n7"
      },
      "outputs": [],
      "source": [
        "!git clone https://github.com/mf1024/ImageNet-Datasets-Downloader.git"
      ]
    },
    {
      "cell_type": "code",
      "execution_count": null,
      "metadata": {
        "id": "1fT9vKmR38FV"
      },
      "outputs": [],
      "source": [
        "!python /content/ImageNet-Datasets-Downloader/downloader.py \\\n",
        "    -data_root /content/drive/MyDrive/LeafGANDataSet/non-leaf \\\n",
        "    -number_of_classes 100 \\\n",
        "    -images_per_class 150"
      ]
    },
    {
      "cell_type": "markdown",
      "metadata": {
        "id": "ohYKGaidbp9y"
      },
      "source": [
        "extracting all images to single folder"
      ]
    },
    {
      "cell_type": "code",
      "execution_count": null,
      "metadata": {
        "id": "fXV_ln-Gbdgh"
      },
      "outputs": [],
      "source": [
        "for dir in glob('/gdrive/MyDrive/LeafGANDataSet/non-leaf/imagenet_images/*'):\n",
        "  for photo in glob(dir + '/*'):\n",
        "    img_id = photo.split('/')[-1].split('.')[0]\n",
        "    img_id = img_id + photo.split('/')[-2] + '.jpg'\n",
        "    os.rename(photo, '/gdrive/MyDrive/LeafGANDataSet/non-leaf1/' + img_id)"
      ]
    },
    {
      "cell_type": "markdown",
      "metadata": {
        "id": "CcfNz_El408E"
      },
      "source": [
        "##Full Leaf Class Data\n",
        "for the full leaf class we used Plant Pathology 2021 - FGVC8  resized to (520,520) dataset.\n",
        "steps - \n",
        "\n",
        "*   download resized (520,520) images zip file and upload to drive\n",
        "*   filter only the following classes ⟹ [healthy, frog_eye_leaf_spot,rust,complex, powdery_mildew]\n",
        "\n",
        "*   Extracting the images from the zip with this zipfile package\n",
        "\n",
        "\n"
      ]
    },
    {
      "cell_type": "code",
      "execution_count": null,
      "metadata": {
        "id": "EjcuQbOf7Mik"
      },
      "outputs": [],
      "source": [
        "ZipFile(\"/content/drive/MyDrive/LeafGANDataSet/file_name.zip\").extractall(\"/content/drive/MyDrive/LeafGANDataSet/dest_file_to_extract\")"
      ]
    },
    {
      "cell_type": "markdown",
      "metadata": {
        "id": "RctP32pM7lR_"
      },
      "source": [
        "##Partial Leaf Class Data\n",
        "\n",
        "\n",
        "*   Working on kaggle notebook to accsess the original Dataset\n",
        "*   Randomly Choosing 1/9 from the images, resize the images to (900, 900) and saving them\n",
        "*   Cropping the resized images (900,900) to 9 patches (300,300) using Image_slicer package\n",
        "\n"
      ]
    },
    {
      "cell_type": "code",
      "execution_count": null,
      "metadata": {
        "id": "1e3GEtisIFe7"
      },
      "outputs": [],
      "source": [
        "!pip install image_slicer\n",
        "import image_slicer"
      ]
    },
    {
      "cell_type": "code",
      "execution_count": null,
      "metadata": {
        "id": "km_hnOvCCg3c"
      },
      "outputs": [],
      "source": [
        "def generate_partial_leaf(folder):\n",
        "    for filename in tqdm(os.listdir(folder)):\n",
        "        id =  filename.split('.jpg')[:-1]\n",
        "        if id == []:\n",
        "            print(\"not an image\")\n",
        "        else:\n",
        "            id =  filename.split('.jpg')[:-1][0]\n",
        "            tiles = image_slicer.slice(folder+\"/\"+filename, 9, save=False)\n",
        "            image_slicer.save_tiles(tiles, directory='saving/path/folder',\\\n",
        "                            prefix=str(id))"
      ]
    },
    {
      "cell_type": "code",
      "execution_count": null,
      "metadata": {
        "id": "wAyTl49fYEhi"
      },
      "outputs": [],
      "source": [
        "train_df_path = \"path/to/train.csv\"\n",
        "df = pd.read_csv(train_df_path)\n",
        "df1 = df[df['labels']== 'scab']\n",
        "df2 = df[df['labels']=='healthy']\n",
        "df3 = df[df['labels']=='frog_eye_leaf_spot']\n",
        "df4 = df[df['labels']=='rust']\n",
        "df5 = df[df['labels']=='complex']\n",
        "df6 = df[df['labels']=='powdery_mildew']\n",
        "df_train = pd.concat([df1,df2,df3,df4,df5,df6])\n",
        "df_train = df_train.reset_index(drop=True)\n",
        "df_train.index = df_train.index + 1\n",
        "size = int(len(df_train)/9)\n",
        "df_to_patch = df_train.sample(size)\n",
        "df_to_pathc_index = df_to_patch.index"
      ]
    },
    {
      "cell_type": "code",
      "execution_count": null,
      "metadata": {
        "id": "uBQBDARkZ2bB"
      },
      "outputs": [],
      "source": [
        "for i in range(size):\n",
        "    image_path = df_to_patch['image'].iloc[i]\n",
        "    id =  image_path.split('.jpg')[:-1][0]\n",
        "    im = Image.open(train_image_path+image_path)\n",
        "    im = im.resize((900,900))\n",
        "    im.save(image_path)"
      ]
    },
    {
      "cell_type": "code",
      "execution_count": null,
      "metadata": {
        "id": "rLZy_6yVY9Do"
      },
      "outputs": [],
      "source": [
        "df_to_patch['labels'].value_counts()"
      ]
    },
    {
      "cell_type": "code",
      "execution_count": null,
      "metadata": {
        "id": "U4CdMJltY9hF"
      },
      "outputs": [],
      "source": [
        "for i in range(size):\n",
        "    image_path = df_to_patch['image'].iloc[i]\n",
        "    id =  image_path.split('.jpg')[:-1][0]\n",
        "    tiles = image_slicer.slice('/content/'+image_path, 9, save=False)\n",
        "    image_slicer.save_tiles(tiles, directory='/content/drive/MyDrive/image_sz_5',\\\n",
        "                            prefix=str(id))"
      ]
    },
    {
      "cell_type": "code",
      "execution_count": null,
      "metadata": {
        "id": "hASUTER5CrlN"
      },
      "outputs": [],
      "source": [
        "generate_partial_leaf(\"resized_images_folder_path\")"
      ]
    },
    {
      "cell_type": "markdown",
      "metadata": {
        "id": "VYb1asYLSi0l"
      },
      "source": [
        "#Split Data into train and test\n",
        "\n",
        "**LeafGAN training**\n",
        "We created folders for each disease: \n",
        "*   Frog Eye Leaf Spot\n",
        "*   Scab\n",
        "*   Powdery Mildew\n",
        "*   Rust\n",
        "*   Complex\n",
        "\n",
        "for each disease we split the data into 80% train and 20% test.\n",
        "\n",
        "In every folder we made the following folders:\n",
        "*   TrainA - 80% Healthy leaf images\n",
        "*   TestA - 20% Healthy leaf images\n",
        "*   TrainB - 80% Disease leaf images \n",
        "*   TestB - 20% Disease leaf images\n",
        "\n",
        "to fit the correct dir structure the leafGan requires\n",
        "\n",
        "**LFLSeg training**\n",
        "\n",
        "we created two text files (train_data.txt and test_data.txt) as specifies in the Git LFLSeg section - \n",
        "\n",
        "/path/to/full_leaf/full_leaf_1.JPG, 0\n",
        "\n",
        "... ... ...\n",
        "\n",
        "/path/to/partial_leaf/partial_leaf_1.JPG, 1\n",
        "\n",
        "... ... ...\n",
        "\n",
        "/path/to/non_leaf/non_leaf_1.png, 2\n"
      ]
    },
    {
      "cell_type": "code",
      "execution_count": null,
      "metadata": {
        "id": "yUFTujbsSIMn"
      },
      "outputs": [],
      "source": [
        "train_df_path = \"path/to/train.csv\"\n",
        "df = pd.read_csv(train_df_path)"
      ]
    },
    {
      "cell_type": "code",
      "execution_count": null,
      "metadata": {
        "colab": {
          "base_uri": "https://localhost:8080/"
        },
        "id": "YL2uaQHeIFe9",
        "outputId": "25789a1b-0100-46e0-966d-4a4ba01f56de"
      },
      "outputs": [
        {
          "data": {
            "text/plain": [
              "scab                               4826\n",
              "healthy                            4624\n",
              "frog_eye_leaf_spot                 3181\n",
              "rust                               1860\n",
              "complex                            1602\n",
              "powdery_mildew                     1184\n",
              "scab frog_eye_leaf_spot             686\n",
              "scab frog_eye_leaf_spot complex     200\n",
              "frog_eye_leaf_spot complex          165\n",
              "rust frog_eye_leaf_spot             120\n",
              "rust complex                         97\n",
              "powdery_mildew complex               87\n",
              "Name: labels, dtype: int64"
            ]
          },
          "execution_count": 6,
          "metadata": {},
          "output_type": "execute_result"
        }
      ],
      "source": [
        "df['labels'].value_counts()"
      ]
    },
    {
      "cell_type": "code",
      "execution_count": null,
      "metadata": {
        "colab": {
          "base_uri": "https://localhost:8080/"
        },
        "id": "ggEzTP-sODuZ",
        "outputId": "8689cdcc-6133-45df-9514-36f6b73e9ea4"
      },
      "outputs": [
        {
          "data": {
            "text/plain": [
              "18632"
            ]
          },
          "execution_count": 7,
          "metadata": {},
          "output_type": "execute_result"
        }
      ],
      "source": [
        "len(df)"
      ]
    },
    {
      "cell_type": "markdown",
      "metadata": {
        "id": "YnxjN_KFeLIh"
      },
      "source": [
        "**LeafGAN**"
      ]
    },
    {
      "cell_type": "code",
      "execution_count": null,
      "metadata": {
        "id": "0FrszIUfuxs_"
      },
      "outputs": [],
      "source": [
        "import shutil\n",
        "def generate_data(df_healthy, df, dest):\n",
        "  train_size = int(len(df_healthy)*0.8)\n",
        "  test_size = int(len(df_healthy)*0.2)\n",
        "  train_size_d = int(len(df)*0.8)\n",
        "  test_size_d = int(len(df)*0.2)\n",
        "  for i in tqdm(range(train_size)): #loop for 80% TrainA\n",
        "    source = \"/content/drive/MyDrive/LeafGANDataSet/full leaf/\" +df_healthy['image'].iloc[i]\n",
        "    destination = \"/content/drive/MyDrive/LeafGANDataSet/\"+dest+\"/trainA\"\n",
        "    shutil.copy(source, destination)\n",
        " \n",
        "  for i in tqdm(range(train_size_d)): #loop for 80% TrainB\n",
        "    source = \"/content/drive/MyDrive/LeafGANDataSet/full leaf/\" + df['image'].iloc[i]\n",
        "    destination = \"/content/drive/MyDrive/LeafGANDataSet/\"+dest+\"/trainB\"\n",
        "    shutil.copy(source, destination)\n",
        "\n",
        "  for i in tqdm(range(test_size)): #loop for 20% TestA\n",
        "    source = \"/content/drive/MyDrive/LeafGANDataSet/full leaf/\" + df_healthy['image'].iloc[i + train_size]\n",
        "    destination = \"/content/drive/MyDrive/LeafGANDataSet/\"+dest+\"/testA\"\n",
        "    shutil.copy(source, destination)\n",
        "  \n",
        "  for i in tqdm(range(test_size_d)): #loop for 20% TestB\n",
        "    source = \"/content/drive/MyDrive/LeafGANDataSet/full leaf/\" + df['image'].iloc[i + train_size_d]\n",
        "    destination = \"/content/drive/MyDrive/LeafGANDataSet/\"+dest+\"/testB\"\n",
        "    shutil.copy(source, destination)"
      ]
    },
    {
      "cell_type": "code",
      "execution_count": null,
      "metadata": {
        "id": "RyUNP_r2IFe-"
      },
      "outputs": [],
      "source": [
        "df1 = df[df['labels']== 'scab']\n",
        "df2 = df[df['labels']=='healthy']\n",
        "df3 = df[df['labels']=='frog_eye_leaf_spot']\n",
        "df4 = df[df['labels']=='rust']\n",
        "df5 = df[df['labels']=='complex']\n",
        "df6 = df[df['labels']=='powdery_mildew']"
      ]
    },
    {
      "cell_type": "code",
      "execution_count": null,
      "metadata": {
        "id": "Qmvr4uYCzTGc"
      },
      "outputs": [],
      "source": [
        "generate_data(df2, df1, \"Healthy2Scab\")\n",
        "generate_data(df2, df5, \"Healthy2Complex\")\n",
        "generate_data(df2, df6, \"Healthy2PowderyMildew\")\n",
        "generate_data(df2, df3, \"Healthy2frog_eye_leaf_spot\")\n",
        "generate_data(df2, df4, \"Healthy2rust\")"
      ]
    },
    {
      "cell_type": "markdown",
      "metadata": {
        "id": "FS8T48IvbCCi"
      },
      "source": [
        "**LFLSeg**"
      ]
    },
    {
      "cell_type": "code",
      "execution_count": null,
      "metadata": {
        "id": "Ko_u6zs8eIfC"
      },
      "outputs": [],
      "source": [
        "count = 0\n",
        "train_file = open(\"/gdrive/MyDrive/LeafGANDataSet/train_data.txt\", 'w')\n",
        "test_file = open(\"/gdrive/MyDrive/LeafGANDataSet/test_data.txt\", 'w')\n",
        "\n",
        "for dir in glob('/gdrive/MyDrive/LeafGANDataSet/Data/*'):\n",
        "  path, dirs, files = next(os.walk(dir))\n",
        "  amount = len(files)\n",
        "  train_imgs = len(files)*0.8\n",
        "  count_train = 0\n",
        "  if dir.split('/')[-1] == 'full leaf':\n",
        "    count = 0\n",
        "  elif dir.split('/')[-1] == 'partial leaf':\n",
        "    count = 1\n",
        "  else:\n",
        "    count = 2\n",
        "  for photo in glob(dir + '/*'):\n",
        "    if count_train <= train_imgs:\n",
        "      train_file.write(photo + \", \"+ str(count) + \"\\n\")\n",
        "    else:\n",
        "      test_file.write(photo + \", \"+ str(count) + \"\\n\")\n",
        "    count_train += 1\n",
        "\n",
        "train_file.close()\n",
        "test_file.close()"
      ]
    },
    {
      "cell_type": "markdown",
      "metadata": {
        "id": "d7y-a4VSfyV7"
      },
      "source": [
        "# Clone git into drive project folder"
      ]
    },
    {
      "cell_type": "code",
      "execution_count": null,
      "metadata": {
        "id": "B5nj1fSWgEHG"
      },
      "outputs": [],
      "source": [
        "%cd /gdrive/MyDrive/LeafGANDataSet"
      ]
    },
    {
      "cell_type": "code",
      "execution_count": null,
      "metadata": {
        "id": "uxcf48vTf5p3"
      },
      "outputs": [],
      "source": [
        "!git clone https://github.com/IyatomiLab/LeafGAN.git"
      ]
    },
    {
      "cell_type": "markdown",
      "metadata": {
        "id": "obB1Z1ogevUk"
      },
      "source": [
        "# Training the LFLSeg Module"
      ]
    },
    {
      "cell_type": "code",
      "execution_count": null,
      "metadata": {
        "id": "nIjXXy6yfBO8"
      },
      "outputs": [],
      "source": [
        "%cd /gdrive/MyDrive/LeafGANDataSet/LeafGAN/LFLSeg"
      ]
    },
    {
      "cell_type": "markdown",
      "metadata": {
        "id": "-ctV6pAahIhN"
      },
      "source": [
        "**train**"
      ]
    },
    {
      "cell_type": "code",
      "execution_count": null,
      "metadata": {
        "colab": {
          "base_uri": "https://localhost:8080/"
        },
        "id": "x8DDDhTzT-WP",
        "outputId": "7060aea9-f606-4634-acbe-c6119b6420f1"
      },
      "outputs": [
        {
          "name": "stdout",
          "output_type": "stream",
          "text": [
            "export CUDA_VISIBLE_DEVICES=0,1\n",
            "Train data: /gdrive/MyDrive/LeafGANDataSet/train_data.txt\n",
            "Test data: /gdrive/MyDrive/LeafGANDataSet/test_data.txt\n",
            "Save trained models to: ./trained_models/\n",
            "/usr/local/lib/python3.7/dist-packages/torchvision/transforms/transforms.py:853: UserWarning: Argument interpolation should be of type InterpolationMode instead of int. Please, use InterpolationMode enum.\n",
            "  \"Argument interpolation should be of type InterpolationMode instead of int. \"\n",
            "/usr/local/lib/python3.7/dist-packages/torchvision/transforms/transforms.py:288: UserWarning: Argument interpolation should be of type InterpolationMode instead of int. Please, use InterpolationMode enum.\n",
            "  \"Argument interpolation should be of type InterpolationMode instead of int. \"\n",
            "/usr/local/lib/python3.7/dist-packages/torch/utils/data/dataloader.py:481: UserWarning: This DataLoader will create 32 worker processes in total. Our suggested max number of worker in current system is 4, which is smaller than what this DataLoader is going to create. Please be aware that excessive worker creation might get DataLoader running slow or even freeze, lower the worker number to avoid potential slowness/freeze if necessary.\n",
            "  cpuset_checked))\n",
            "Downloading: \"https://download.pytorch.org/models/resnet101-63fe2227.pth\" to /root/.cache/torch/hub/checkpoints/resnet101-63fe2227.pth\n",
            "100% 171M/171M [00:05<00:00, 32.3MB/s]\n",
            "resnet101_LFLSeg_v1\n",
            "/gdrive/MyDrive/LeafGANDataSet/train_data.txt\n",
            "Number of epoch: 100\n",
            "Epoch 1/100\n",
            "--------------------\n",
            "/usr/local/lib/python3.7/dist-packages/torch/optim/lr_scheduler.py:134: UserWarning: Detected call of `lr_scheduler.step()` before `optimizer.step()`. In PyTorch 1.1.0 and later, you should call them in the opposite order: `optimizer.step()` before `lr_scheduler.step()`.  Failure to do this will result in PyTorch skipping the first value of the learning rate schedule. See more details at https://pytorch.org/docs/stable/optim.html#how-to-adjust-learning-rate\n",
            "  \"https://pytorch.org/docs/stable/optim.html#how-to-adjust-learning-rate\", UserWarning)\n",
            "100% 619/619 [07:59<00:00,  1.29it/s]\n",
            "train Loss: 0.0124 Acc: 0.9961\n",
            "100% 155/155 [02:04<00:00,  1.24it/s]\n",
            "test Loss: 0.0236 Acc: 0.9920\n",
            "Saved best_model at epoch 1\n",
            "Epoch 2/100\n",
            "--------------------\n",
            "100% 619/619 [05:20<00:00,  1.93it/s]\n",
            "train Loss: 0.0036 Acc: 0.9989\n",
            "100% 155/155 [00:38<00:00,  4.04it/s]\n",
            "test Loss: 0.0036 Acc: 0.9990\n",
            "Saved best_model at epoch 2\n",
            "Epoch 3/100\n",
            "--------------------\n",
            "100% 619/619 [05:20<00:00,  1.93it/s]\n",
            "train Loss: 0.0028 Acc: 0.9992\n",
            "100% 155/155 [00:38<00:00,  4.01it/s]\n",
            "test Loss: 0.0067 Acc: 0.9979\n",
            "Epoch 4/100\n",
            "--------------------\n",
            "100% 619/619 [05:20<00:00,  1.93it/s]\n",
            "train Loss: 0.0023 Acc: 0.9993\n",
            "100% 155/155 [00:38<00:00,  3.99it/s]\n",
            "test Loss: 0.0027 Acc: 0.9991\n",
            "Saved best_model at epoch 4\n",
            "Epoch 5/100\n",
            "--------------------\n",
            "100% 619/619 [05:20<00:00,  1.93it/s]\n",
            "train Loss: 0.0013 Acc: 0.9997\n",
            "100% 155/155 [00:38<00:00,  4.02it/s]\n",
            "test Loss: 0.0045 Acc: 0.9986\n",
            "Epoch 6/100\n",
            "--------------------\n",
            "100% 619/619 [05:20<00:00,  1.93it/s]\n",
            "train Loss: 0.0014 Acc: 0.9996\n",
            "100% 155/155 [00:38<00:00,  4.00it/s]\n",
            "test Loss: 0.0031 Acc: 0.9991\n",
            "Epoch 7/100\n",
            "--------------------\n",
            "100% 619/619 [05:21<00:00,  1.92it/s]\n",
            "train Loss: 0.0013 Acc: 0.9996\n",
            "100% 155/155 [00:38<00:00,  4.02it/s]\n",
            "test Loss: 0.0015 Acc: 0.9995\n",
            "Saved best_model at epoch 7\n",
            "Epoch 8/100\n",
            "--------------------\n",
            "100% 619/619 [05:21<00:00,  1.93it/s]\n",
            "train Loss: 0.0011 Acc: 0.9997\n",
            "100% 155/155 [00:38<00:00,  4.01it/s]\n",
            "test Loss: 0.0016 Acc: 0.9997\n",
            "Saved best_model at epoch 8\n",
            "Epoch 9/100\n",
            "--------------------\n",
            "100% 619/619 [05:20<00:00,  1.93it/s]\n",
            "train Loss: 0.0009 Acc: 0.9998\n",
            "100% 155/155 [00:38<00:00,  4.01it/s]\n",
            "test Loss: 0.0015 Acc: 0.9994\n",
            "Epoch 10/100\n",
            "--------------------\n",
            "100% 619/619 [05:20<00:00,  1.93it/s]\n",
            "train Loss: 0.0010 Acc: 0.9998\n",
            "100% 155/155 [00:38<00:00,  4.00it/s]\n",
            "test Loss: 0.0018 Acc: 0.9996\n",
            "\n",
            "Epoch 11/100\n",
            "--------------------\n",
            "100% 619/619 [05:20<00:00,  1.93it/s]\n",
            "train Loss: 0.0008 Acc: 0.9998\n",
            "100% 155/155 [00:38<00:00,  3.98it/s]\n",
            "test Loss: 0.0015 Acc: 0.9995\n",
            "Epoch 12/100\n",
            "--------------------\n",
            "100% 619/619 [05:20<00:00,  1.93it/s]\n",
            "train Loss: 0.0007 Acc: 0.9998\n",
            "100% 155/155 [00:38<00:00,  4.00it/s]\n",
            "test Loss: 0.0016 Acc: 0.9994\n",
            "Epoch 13/100\n",
            "--------------------\n",
            "100% 619/619 [05:21<00:00,  1.92it/s]\n",
            "train Loss: 0.0008 Acc: 0.9998\n",
            "100% 155/155 [00:38<00:00,  4.07it/s]\n",
            "test Loss: 0.0017 Acc: 0.9995\n",
            "Epoch 14/100\n",
            "--------------------\n",
            "100% 619/619 [05:20<00:00,  1.93it/s]\n",
            "train Loss: 0.0009 Acc: 0.9997\n",
            "100% 155/155 [00:38<00:00,  4.01it/s]\n",
            "test Loss: 0.0018 Acc: 0.9993\n",
            "Epoch 15/100\n",
            "--------------------\n",
            "100% 619/619 [05:20<00:00,  1.93it/s]\n",
            "train Loss: 0.0007 Acc: 0.9999\n",
            "100% 155/155 [00:38<00:00,  4.02it/s]\n",
            "test Loss: 0.0016 Acc: 0.9995\n",
            "Epoch 16/100\n",
            "--------------------\n",
            "100% 619/619 [05:20<00:00,  1.93it/s]\n",
            "train Loss: 0.0009 Acc: 0.9998\n",
            "100% 155/155 [00:38<00:00,  4.03it/s]\n",
            "test Loss: 0.0019 Acc: 0.9993\n",
            "Epoch 17/100\n",
            "--------------------\n",
            "100% 619/619 [05:21<00:00,  1.93it/s]\n",
            "train Loss: 0.0007 Acc: 0.9999\n",
            "100% 155/155 [00:38<00:00,  4.05it/s]\n",
            "test Loss: 0.0023 Acc: 0.9993\n",
            "Epoch 18/100\n",
            "--------------------\n",
            "100% 619/619 [05:21<00:00,  1.93it/s]\n",
            "train Loss: 0.0008 Acc: 0.9998\n",
            "100% 155/155 [00:39<00:00,  3.95it/s]\n",
            "test Loss: 0.0017 Acc: 0.9994\n",
            "Epoch 19/100\n",
            "--------------------\n",
            "100% 619/619 [05:21<00:00,  1.93it/s]\n",
            "train Loss: 0.0007 Acc: 0.9999\n",
            "100% 155/155 [00:38<00:00,  4.00it/s]\n",
            "test Loss: 0.0015 Acc: 0.9997\n",
            "Epoch 20/100\n",
            "--------------------\n",
            "100% 619/619 [05:21<00:00,  1.93it/s]\n",
            "train Loss: 0.0012 Acc: 0.9996\n",
            "100% 155/155 [00:38<00:00,  3.98it/s]\n",
            "test Loss: 0.0017 Acc: 0.9995\n",
            "\n",
            "Epoch 21/100\n",
            "--------------------\n",
            "100% 619/619 [05:20<00:00,  1.93it/s]\n",
            "train Loss: 0.0008 Acc: 0.9998\n",
            "100% 155/155 [00:38<00:00,  4.01it/s]\n",
            "test Loss: 0.0024 Acc: 0.9990\n",
            "Epoch 22/100\n",
            "--------------------\n",
            "100% 619/619 [05:21<00:00,  1.93it/s]\n",
            "train Loss: 0.0009 Acc: 0.9998\n",
            "100% 155/155 [00:38<00:00,  4.04it/s]\n",
            "test Loss: 0.0020 Acc: 0.9992\n",
            "Epoch 23/100\n",
            "--------------------\n",
            "100% 619/619 [05:20<00:00,  1.93it/s]\n",
            "train Loss: 0.0006 Acc: 0.9999\n",
            "100% 155/155 [00:39<00:00,  3.95it/s]\n",
            "test Loss: 0.0012 Acc: 0.9997\n",
            "Epoch 24/100\n",
            "--------------------\n",
            "100% 619/619 [05:22<00:00,  1.92it/s]\n",
            "train Loss: 0.0008 Acc: 0.9998\n",
            "100% 155/155 [00:38<00:00,  4.01it/s]\n",
            "test Loss: 0.0019 Acc: 0.9993\n",
            "Epoch 25/100\n",
            "--------------------\n",
            "100% 619/619 [05:21<00:00,  1.92it/s]\n",
            "train Loss: 0.0007 Acc: 0.9999\n",
            "100% 155/155 [00:39<00:00,  3.93it/s]\n",
            "test Loss: 0.0018 Acc: 0.9995\n",
            "Epoch 26/100\n",
            "--------------------\n",
            "100% 619/619 [05:21<00:00,  1.93it/s]\n",
            "train Loss: 0.0008 Acc: 0.9998\n",
            "100% 155/155 [00:38<00:00,  4.02it/s]\n",
            "test Loss: 0.0012 Acc: 0.9996\n",
            "Epoch 27/100\n",
            "--------------------\n",
            "100% 619/619 [05:21<00:00,  1.93it/s]\n",
            "train Loss: 0.0006 Acc: 0.9999\n",
            "100% 155/155 [00:38<00:00,  4.03it/s]\n",
            "test Loss: 0.0014 Acc: 0.9993\n",
            "Epoch 28/100\n",
            "--------------------\n",
            "100% 619/619 [05:21<00:00,  1.93it/s]\n",
            "train Loss: 0.0007 Acc: 0.9999\n",
            "100% 155/155 [00:39<00:00,  3.95it/s]\n",
            "test Loss: 0.0016 Acc: 0.9996\n",
            "Epoch 29/100\n",
            "--------------------\n",
            "100% 619/619 [05:21<00:00,  1.92it/s]\n",
            "train Loss: 0.0006 Acc: 0.9999\n",
            "100% 155/155 [00:38<00:00,  3.98it/s]\n",
            "test Loss: 0.0020 Acc: 0.9994\n",
            "Epoch 30/100\n",
            "--------------------\n",
            "100% 619/619 [05:21<00:00,  1.93it/s]\n",
            "train Loss: 0.0009 Acc: 0.9998\n",
            "100% 155/155 [00:39<00:00,  3.94it/s]\n",
            "test Loss: 0.0018 Acc: 0.9995\n",
            "\n",
            "Epoch 31/100\n",
            "--------------------\n",
            "100% 619/619 [05:21<00:00,  1.92it/s]\n",
            "train Loss: 0.0009 Acc: 0.9998\n",
            "100% 155/155 [00:39<00:00,  3.96it/s]\n",
            "test Loss: 0.0021 Acc: 0.9993\n",
            "Epoch 32/100\n",
            "--------------------\n",
            "100% 619/619 [05:21<00:00,  1.93it/s]\n",
            "train Loss: 0.0008 Acc: 0.9997\n",
            "100% 155/155 [00:38<00:00,  3.99it/s]\n",
            "test Loss: 0.0018 Acc: 0.9994\n",
            "Epoch 33/100\n",
            "--------------------\n",
            "100% 619/619 [05:21<00:00,  1.93it/s]\n",
            "train Loss: 0.0010 Acc: 0.9997\n",
            "100% 155/155 [00:39<00:00,  3.97it/s]\n",
            "test Loss: 0.0020 Acc: 0.9994\n",
            "Epoch 34/100\n",
            "--------------------\n",
            "100% 619/619 [05:21<00:00,  1.93it/s]\n",
            "train Loss: 0.0006 Acc: 0.9999\n",
            "100% 155/155 [00:38<00:00,  4.00it/s]\n",
            "test Loss: 0.0019 Acc: 0.9993\n",
            "Epoch 35/100\n",
            "--------------------\n",
            "100% 619/619 [05:22<00:00,  1.92it/s]\n",
            "train Loss: 0.0009 Acc: 0.9997\n",
            "100% 155/155 [00:39<00:00,  3.94it/s]\n",
            "test Loss: 0.0012 Acc: 0.9996\n",
            "Epoch 36/100\n",
            "--------------------\n",
            "100% 619/619 [05:21<00:00,  1.92it/s]\n",
            "train Loss: 0.0007 Acc: 0.9999\n",
            "100% 155/155 [00:38<00:00,  4.03it/s]\n",
            "test Loss: 0.0019 Acc: 0.9995\n",
            "Epoch 37/100\n",
            "--------------------\n",
            "100% 619/619 [05:22<00:00,  1.92it/s]\n",
            "train Loss: 0.0007 Acc: 0.9999\n",
            "100% 155/155 [00:39<00:00,  3.94it/s]\n",
            "test Loss: 0.0020 Acc: 0.9993\n",
            "Epoch 38/100\n",
            "--------------------\n",
            "100% 619/619 [05:21<00:00,  1.92it/s]\n",
            "train Loss: 0.0007 Acc: 0.9998\n",
            "100% 155/155 [00:39<00:00,  3.92it/s]\n",
            "test Loss: 0.0017 Acc: 0.9995\n",
            "Epoch 39/100\n",
            "--------------------\n",
            "100% 619/619 [05:21<00:00,  1.92it/s]\n",
            "train Loss: 0.0008 Acc: 0.9998\n",
            "100% 155/155 [00:39<00:00,  3.97it/s]\n",
            "test Loss: 0.0012 Acc: 0.9996\n",
            "Epoch 40/100\n",
            "--------------------\n",
            "100% 619/619 [05:21<00:00,  1.92it/s]\n",
            "train Loss: 0.0007 Acc: 0.9998\n",
            "100% 155/155 [00:39<00:00,  3.97it/s]\n",
            "test Loss: 0.0017 Acc: 0.9996\n",
            "\n",
            "Epoch 41/100\n",
            "--------------------\n",
            "100% 619/619 [05:21<00:00,  1.93it/s]\n",
            "train Loss: 0.0007 Acc: 0.9998\n",
            "100% 155/155 [00:38<00:00,  4.03it/s]\n",
            "test Loss: 0.0019 Acc: 0.9994\n",
            "Epoch 42/100\n",
            "--------------------\n",
            "100% 619/619 [05:21<00:00,  1.93it/s]\n",
            "train Loss: 0.0007 Acc: 0.9998\n",
            "100% 155/155 [00:38<00:00,  3.99it/s]\n",
            "test Loss: 0.0014 Acc: 0.9995\n",
            "Epoch 43/100\n",
            "--------------------\n",
            "100% 619/619 [05:21<00:00,  1.93it/s]\n",
            "train Loss: 0.0007 Acc: 0.9999\n",
            "100% 155/155 [00:39<00:00,  3.96it/s]\n",
            "test Loss: 0.0014 Acc: 0.9997\n",
            "Epoch 44/100\n",
            "--------------------\n",
            "100% 619/619 [05:21<00:00,  1.92it/s]\n",
            "train Loss: 0.0007 Acc: 0.9999\n",
            "100% 155/155 [00:39<00:00,  3.97it/s]\n",
            "test Loss: 0.0013 Acc: 0.9997\n",
            "Epoch 45/100\n",
            "--------------------\n",
            "100% 619/619 [05:21<00:00,  1.93it/s]\n",
            "train Loss: 0.0005 Acc: 0.9999\n",
            "100% 155/155 [00:38<00:00,  3.99it/s]\n",
            "test Loss: 0.0015 Acc: 0.9995\n",
            "Epoch 46/100\n",
            "--------------------\n",
            "100% 619/619 [05:21<00:00,  1.93it/s]\n",
            "train Loss: 0.0010 Acc: 0.9997\n",
            "100% 155/155 [00:38<00:00,  3.98it/s]\n",
            "test Loss: 0.0019 Acc: 0.9994\n",
            "Epoch 47/100\n",
            "--------------------\n",
            "100% 619/619 [05:21<00:00,  1.93it/s]\n",
            "train Loss: 0.0010 Acc: 0.9997\n",
            "100% 155/155 [00:39<00:00,  3.90it/s]\n",
            "test Loss: 0.0019 Acc: 0.9994\n",
            "Epoch 48/100\n",
            "--------------------\n",
            "100% 619/619 [05:20<00:00,  1.93it/s]\n",
            "train Loss: 0.0011 Acc: 0.9997\n",
            "100% 155/155 [00:38<00:00,  3.98it/s]\n",
            "test Loss: 0.0016 Acc: 0.9994\n",
            "Epoch 49/100\n",
            "--------------------\n",
            "100% 619/619 [05:21<00:00,  1.92it/s]\n",
            "train Loss: 0.0007 Acc: 0.9997\n",
            "100% 155/155 [00:38<00:00,  3.99it/s]\n",
            "test Loss: 0.0012 Acc: 0.9995\n",
            "Epoch 50/100\n",
            "--------------------\n",
            "100% 619/619 [05:21<00:00,  1.93it/s]\n",
            "train Loss: 0.0011 Acc: 0.9997\n",
            "100% 155/155 [00:39<00:00,  3.97it/s]\n",
            "test Loss: 0.0016 Acc: 0.9996\n",
            "\n",
            "Epoch 51/100\n",
            "--------------------\n",
            "100% 619/619 [05:21<00:00,  1.93it/s]\n",
            "train Loss: 0.0010 Acc: 0.9998\n",
            "100% 155/155 [00:39<00:00,  3.97it/s]\n",
            "test Loss: 0.0021 Acc: 0.9991\n",
            "Epoch 52/100\n",
            "--------------------\n",
            "100% 619/619 [05:20<00:00,  1.93it/s]\n",
            "train Loss: 0.0006 Acc: 0.9999\n",
            "100% 155/155 [00:38<00:00,  4.02it/s]\n",
            "test Loss: 0.0017 Acc: 0.9994\n",
            "Epoch 53/100\n",
            "--------------------\n",
            "100% 619/619 [05:20<00:00,  1.93it/s]\n",
            "train Loss: 0.0008 Acc: 0.9998\n",
            "100% 155/155 [00:38<00:00,  4.04it/s]\n",
            "test Loss: 0.0014 Acc: 0.9995\n",
            "Epoch 54/100\n",
            "--------------------\n",
            "100% 619/619 [05:21<00:00,  1.93it/s]\n",
            "train Loss: 0.0007 Acc: 0.9998\n",
            "100% 155/155 [00:39<00:00,  3.96it/s]\n",
            "test Loss: 0.0015 Acc: 0.9996\n",
            "Epoch 55/100\n",
            "--------------------\n",
            "100% 619/619 [05:21<00:00,  1.93it/s]\n",
            "train Loss: 0.0008 Acc: 0.9997\n",
            "100% 155/155 [00:38<00:00,  4.02it/s]\n",
            "test Loss: 0.0019 Acc: 0.9994\n",
            "Epoch 56/100\n",
            "--------------------\n",
            "100% 619/619 [05:21<00:00,  1.93it/s]\n",
            "train Loss: 0.0007 Acc: 0.9998\n",
            "100% 155/155 [00:38<00:00,  4.01it/s]\n",
            "test Loss: 0.0016 Acc: 0.9995\n",
            "Epoch 57/100\n",
            "--------------------\n",
            "100% 619/619 [05:22<00:00,  1.92it/s]\n",
            "train Loss: 0.0009 Acc: 0.9998\n",
            "100% 155/155 [00:38<00:00,  4.02it/s]\n",
            "test Loss: 0.0016 Acc: 0.9995\n",
            "Epoch 58/100\n",
            "--------------------\n",
            "100% 619/619 [05:21<00:00,  1.93it/s]\n",
            "train Loss: 0.0007 Acc: 0.9998\n",
            "100% 155/155 [00:38<00:00,  4.04it/s]\n",
            "test Loss: 0.0021 Acc: 0.9993\n",
            "Epoch 59/100\n",
            "--------------------\n",
            "100% 619/619 [05:20<00:00,  1.93it/s]\n",
            "train Loss: 0.0010 Acc: 0.9997\n",
            "100% 155/155 [00:38<00:00,  4.03it/s]\n",
            "test Loss: 0.0017 Acc: 0.9994\n",
            "Epoch 60/100\n",
            "--------------------\n",
            "100% 619/619 [05:20<00:00,  1.93it/s]\n",
            "train Loss: 0.0011 Acc: 0.9997\n",
            "100% 155/155 [00:38<00:00,  4.02it/s]\n",
            "test Loss: 0.0015 Acc: 0.9997\n",
            "\n",
            "Epoch 61/100\n",
            "--------------------\n",
            "100% 619/619 [05:20<00:00,  1.93it/s]\n",
            "train Loss: 0.0007 Acc: 0.9999\n",
            "100% 155/155 [00:38<00:00,  4.01it/s]\n",
            "test Loss: 0.0023 Acc: 0.9991\n",
            "Epoch 62/100\n",
            "--------------------\n",
            "100% 619/619 [05:20<00:00,  1.93it/s]\n",
            "train Loss: 0.0007 Acc: 0.9999\n",
            "100% 155/155 [00:38<00:00,  4.00it/s]\n",
            "test Loss: 0.0017 Acc: 0.9995\n",
            "Epoch 63/100\n",
            "--------------------\n",
            "100% 619/619 [05:21<00:00,  1.93it/s]\n",
            "train Loss: 0.0008 Acc: 0.9998\n",
            "100% 155/155 [00:38<00:00,  3.99it/s]\n",
            "test Loss: 0.0018 Acc: 0.9994\n",
            "Epoch 64/100\n",
            "--------------------\n",
            "100% 619/619 [05:21<00:00,  1.93it/s]\n",
            "train Loss: 0.0007 Acc: 0.9999\n",
            "100% 155/155 [00:38<00:00,  4.04it/s]\n",
            "test Loss: 0.0015 Acc: 0.9995\n",
            "Epoch 65/100\n",
            "--------------------\n",
            "100% 619/619 [05:21<00:00,  1.93it/s]\n",
            "train Loss: 0.0008 Acc: 0.9998\n",
            "100% 155/155 [00:38<00:00,  4.02it/s]\n",
            "test Loss: 0.0015 Acc: 0.9996\n",
            "Epoch 66/100\n",
            "--------------------\n",
            "100% 619/619 [05:21<00:00,  1.93it/s]\n",
            "train Loss: 0.0007 Acc: 0.9999\n",
            "100% 155/155 [00:38<00:00,  4.00it/s]\n",
            "test Loss: 0.0018 Acc: 0.9994\n",
            "Epoch 67/100\n",
            "--------------------\n",
            "100% 619/619 [05:21<00:00,  1.93it/s]\n",
            "train Loss: 0.0008 Acc: 0.9999\n",
            "100% 155/155 [00:38<00:00,  4.04it/s]\n",
            "test Loss: 0.0018 Acc: 0.9995\n",
            "Epoch 68/100\n",
            "--------------------\n",
            "100% 619/619 [05:20<00:00,  1.93it/s]\n",
            "train Loss: 0.0007 Acc: 0.9998\n",
            "100% 155/155 [00:38<00:00,  4.04it/s]\n",
            "test Loss: 0.0015 Acc: 0.9996\n",
            "Epoch 69/100\n",
            "--------------------\n",
            "100% 619/619 [05:21<00:00,  1.93it/s]\n",
            "train Loss: 0.0005 Acc: 0.9999\n",
            "100% 155/155 [00:38<00:00,  4.05it/s]\n",
            "test Loss: 0.0019 Acc: 0.9994\n",
            "Epoch 70/100\n",
            "--------------------\n",
            "100% 619/619 [05:21<00:00,  1.93it/s]\n",
            "train Loss: 0.0012 Acc: 0.9997\n",
            "100% 155/155 [00:38<00:00,  4.01it/s]\n",
            "test Loss: 0.0013 Acc: 0.9997\n",
            "\n",
            "Epoch 71/100\n",
            "--------------------\n",
            "100% 619/619 [05:21<00:00,  1.93it/s]\n",
            "train Loss: 0.0007 Acc: 0.9998\n",
            "100% 155/155 [00:38<00:00,  4.03it/s]\n",
            "test Loss: 0.0021 Acc: 0.9992\n",
            "Epoch 72/100\n",
            "--------------------\n",
            "100% 619/619 [05:20<00:00,  1.93it/s]\n",
            "train Loss: 0.0006 Acc: 0.9999\n",
            "100% 155/155 [00:38<00:00,  4.05it/s]\n",
            "test Loss: 0.0013 Acc: 0.9995\n",
            "Epoch 73/100\n",
            "--------------------\n",
            "100% 619/619 [05:21<00:00,  1.93it/s]\n",
            "train Loss: 0.0008 Acc: 0.9998\n",
            "100% 155/155 [00:38<00:00,  3.98it/s]\n",
            "test Loss: 0.0021 Acc: 0.9993\n",
            "Epoch 74/100\n",
            "--------------------\n",
            "100% 619/619 [05:21<00:00,  1.93it/s]\n",
            "train Loss: 0.0011 Acc: 0.9996\n",
            "100% 155/155 [00:38<00:00,  4.02it/s]\n",
            "test Loss: 0.0015 Acc: 0.9995\n",
            "Epoch 75/100\n",
            "--------------------\n",
            "100% 619/619 [05:21<00:00,  1.93it/s]\n",
            "train Loss: 0.0009 Acc: 0.9997\n",
            "100% 155/155 [00:39<00:00,  3.96it/s]\n",
            "test Loss: 0.0018 Acc: 0.9994\n",
            "Epoch 76/100\n",
            "--------------------\n",
            "100% 619/619 [05:21<00:00,  1.93it/s]\n",
            "train Loss: 0.0006 Acc: 0.9999\n",
            "100% 155/155 [00:38<00:00,  4.03it/s]\n",
            "test Loss: 0.0024 Acc: 0.9991\n",
            "Epoch 77/100\n",
            "--------------------\n",
            "100% 619/619 [05:21<00:00,  1.93it/s]\n",
            "train Loss: 0.0006 Acc: 0.9999\n",
            "100% 155/155 [00:39<00:00,  3.93it/s]\n",
            "test Loss: 0.0016 Acc: 0.9994\n",
            "Epoch 78/100\n",
            "--------------------\n",
            "100% 619/619 [05:21<00:00,  1.93it/s]\n",
            "train Loss: 0.0007 Acc: 0.9998\n",
            "100% 155/155 [00:38<00:00,  4.01it/s]\n",
            "test Loss: 0.0017 Acc: 0.9995\n",
            "Epoch 79/100\n",
            "--------------------\n",
            "100% 619/619 [05:20<00:00,  1.93it/s]\n",
            "train Loss: 0.0009 Acc: 0.9997\n",
            "100% 155/155 [00:38<00:00,  4.03it/s]\n",
            "test Loss: 0.0012 Acc: 0.9997\n",
            "Epoch 80/100\n",
            "--------------------\n",
            "100% 619/619 [05:21<00:00,  1.93it/s]\n",
            "train Loss: 0.0008 Acc: 0.9998\n",
            "100% 155/155 [00:38<00:00,  4.03it/s]\n",
            "test Loss: 0.0017 Acc: 0.9996\n",
            "\n",
            "Epoch 81/100\n",
            "--------------------\n",
            "100% 619/619 [05:21<00:00,  1.93it/s]\n",
            "train Loss: 0.0007 Acc: 0.9999\n",
            "100% 155/155 [00:39<00:00,  3.89it/s]\n",
            "test Loss: 0.0014 Acc: 0.9997\n",
            "Epoch 82/100\n",
            "--------------------\n",
            "100% 619/619 [05:21<00:00,  1.93it/s]\n",
            "train Loss: 0.0010 Acc: 0.9997\n",
            "100% 155/155 [00:38<00:00,  4.00it/s]\n",
            "test Loss: 0.0017 Acc: 0.9994\n",
            "Epoch 83/100\n",
            "--------------------\n",
            "100% 619/619 [05:21<00:00,  1.92it/s]\n",
            "train Loss: 0.0007 Acc: 0.9999\n",
            "100% 155/155 [00:38<00:00,  3.98it/s]\n",
            "test Loss: 0.0017 Acc: 0.9995\n",
            "Epoch 84/100\n",
            "--------------------\n",
            "100% 619/619 [05:21<00:00,  1.92it/s]\n",
            "train Loss: 0.0008 Acc: 0.9999\n",
            "100% 155/155 [00:38<00:00,  4.00it/s]\n",
            "test Loss: 0.0016 Acc: 0.9995\n",
            "Epoch 85/100\n",
            "--------------------\n",
            "100% 619/619 [05:21<00:00,  1.92it/s]\n",
            "train Loss: 0.0010 Acc: 0.9996\n",
            "100% 155/155 [00:38<00:00,  4.00it/s]\n",
            "test Loss: 0.0014 Acc: 0.9995\n",
            "Epoch 86/100\n",
            "--------------------\n",
            "100% 619/619 [05:21<00:00,  1.92it/s]\n",
            "train Loss: 0.0009 Acc: 0.9997\n",
            "100% 155/155 [00:38<00:00,  3.98it/s]\n",
            "test Loss: 0.0015 Acc: 0.9995\n",
            "Epoch 87/100\n",
            "--------------------\n",
            "100% 619/619 [05:21<00:00,  1.92it/s]\n",
            "train Loss: 0.0010 Acc: 0.9997\n",
            "100% 155/155 [00:38<00:00,  4.04it/s]\n",
            "test Loss: 0.0018 Acc: 0.9995\n",
            "Epoch 88/100\n",
            "--------------------\n",
            "100% 619/619 [05:21<00:00,  1.92it/s]\n",
            "train Loss: 0.0008 Acc: 0.9998\n",
            "100% 155/155 [00:39<00:00,  3.94it/s]\n",
            "test Loss: 0.0020 Acc: 0.9993\n",
            "Epoch 89/100\n",
            "--------------------\n",
            "100% 619/619 [05:21<00:00,  1.92it/s]\n",
            "train Loss: 0.0008 Acc: 0.9998\n",
            "100% 155/155 [00:38<00:00,  3.99it/s]\n",
            "test Loss: 0.0019 Acc: 0.9994\n",
            "Epoch 90/100\n",
            "--------------------\n",
            "100% 619/619 [05:22<00:00,  1.92it/s]\n",
            "train Loss: 0.0007 Acc: 0.9998\n",
            "100% 155/155 [00:38<00:00,  3.98it/s]\n",
            "test Loss: 0.0018 Acc: 0.9994\n",
            "\n",
            "Epoch 91/100\n",
            "--------------------\n",
            "100% 619/619 [05:21<00:00,  1.92it/s]\n",
            "train Loss: 0.0006 Acc: 0.9999\n",
            "100% 155/155 [00:38<00:00,  4.00it/s]\n",
            "test Loss: 0.0018 Acc: 0.9994\n",
            "Epoch 92/100\n",
            "--------------------\n",
            " 41% 252/619 [02:15<03:17,  1.86it/s]\n",
            "Traceback (most recent call last):\n",
            "  File \"train_LFLSeg.py\", line 204, in <module>\n",
            "    main()\n",
            "  File \"train_LFLSeg.py\", line 200, in main\n",
            "    train_model(model_ft, model_name, optimizer_ft, criterion, exp_lr_scheduler, dataloaders)\n",
            "  File \"train_LFLSeg.py\", line 77, in train_model\n",
            "    for inputs, labels in tqdm(dataloaders[phase]):\n",
            "  File \"/usr/local/lib/python3.7/dist-packages/tqdm/std.py\", line 1180, in __iter__\n",
            "    for obj in iterable:\n",
            "  File \"/usr/local/lib/python3.7/dist-packages/torch/utils/data/dataloader.py\", line 521, in __next__\n",
            "    data = self._next_data()\n",
            "  File \"/usr/local/lib/python3.7/dist-packages/torch/utils/data/dataloader.py\", line 1203, in _next_data\n",
            "    return self._process_data(data)\n",
            "  File \"/usr/local/lib/python3.7/dist-packages/torch/utils/data/dataloader.py\", line 1229, in _process_data\n",
            "    data.reraise()\n",
            "  File \"/usr/local/lib/python3.7/dist-packages/torch/_utils.py\", line 434, in reraise\n",
            "    raise exception\n",
            "FileNotFoundError: Caught FileNotFoundError in DataLoader worker process 28.\n",
            "Original Traceback (most recent call last):\n",
            "  File \"/usr/local/lib/python3.7/dist-packages/torch/utils/data/_utils/worker.py\", line 287, in _worker_loop\n",
            "    data = fetcher.fetch(index)\n",
            "  File \"/usr/local/lib/python3.7/dist-packages/torch/utils/data/_utils/fetch.py\", line 49, in fetch\n",
            "    data = [self.dataset[idx] for idx in possibly_batched_index]\n",
            "  File \"/usr/local/lib/python3.7/dist-packages/torch/utils/data/_utils/fetch.py\", line 49, in <listcomp>\n",
            "    data = [self.dataset[idx] for idx in possibly_batched_index]\n",
            "  File \"/gdrive/.shortcut-targets-by-id/19BTxmd5iqi13fW526v_d0CgS_shMILpC/LeafGANDataSet/LeafGAN/LFLSeg/LFLSeg_dataset.py\", line 40, in __getitem__\n",
            "    img = Image.open(filepath)\n",
            "  File \"/usr/local/lib/python3.7/dist-packages/PIL/Image.py\", line 2843, in open\n",
            "    fp = builtins.open(filename, \"rb\")\n",
            "FileNotFoundError: [Errno 2] No such file or directory: b'/gdrive/MyDrive/LeafGANDataSet/Data/non-leaf/207771937_0f9aa8bc2atrotting horse.jpg'\n",
            "\n"
          ]
        }
      ],
      "source": [
        "!python train_LFLSeg.py --train /gdrive/MyDrive/LeafGANDataSet/train_data.txt --test /gdrive/MyDrive/LeafGANDataSet/test_data.txt"
      ]
    },
    {
      "cell_type": "markdown",
      "metadata": {
        "id": "icJmfJ_WhLVv"
      },
      "source": [
        "**infer**"
      ]
    },
    {
      "cell_type": "code",
      "execution_count": null,
      "metadata": {
        "id": "wlfm2se6OAg9"
      },
      "outputs": [],
      "source": [
        "for img in glob('/gdrive/MyDrive/LeafGANDataSet/Healthy2Rust/testB/*'):\n",
        "  PATH = img\n",
        "  !python infer_LFLSeg.py  --input $PATH --threshold 0.45 --segment"
      ]
    },
    {
      "cell_type": "markdown",
      "metadata": {
        "id": "nf6kLtFUhfVh"
      },
      "source": [
        "# Training LeafGAN"
      ]
    },
    {
      "cell_type": "markdown",
      "metadata": {
        "id": "ZywQ4DEHhmQ1"
      },
      "source": [
        "**prepare masks for training LeafGAN**"
      ]
    },
    {
      "cell_type": "code",
      "execution_count": null,
      "metadata": {
        "colab": {
          "base_uri": "https://localhost:8080/"
        },
        "id": "Nh9G_JiKhkPH",
        "outputId": "79bf0333-1959-46db-b74f-de6de9a4caaa"
      },
      "outputs": [
        {
          "name": "stdout",
          "output_type": "stream",
          "text": [
            "##### trainA #####\n",
            "\r  0% 0/3699 [00:00<?, ?it/s]/usr/local/lib/python3.7/dist-packages/torch/nn/modules/module.py:1025: UserWarning: Using a non-full backward hook when the forward contains multiple autograd Nodes is deprecated and will be removed in future versions. This hook will be missing some grad_input. Please use register_full_backward_hook to get the documented behavior.\n",
            "  warnings.warn(\"Using a non-full backward hook when the forward contains multiple autograd Nodes \"\n",
            "100% 3699/3699 [10:51<00:00,  5.68it/s]\n",
            "##### trainB #####\n",
            "100% 1488/1488 [04:17<00:00,  5.77it/s]\n",
            "##### testB #####\n",
            "100% 372/372 [01:05<00:00,  5.67it/s]\n",
            "##### testA #####\n",
            "100% 924/924 [02:45<00:00,  5.57it/s]\n",
            "done\n"
          ]
        }
      ],
      "source": [
        "!python /gdrive/MyDrive/LeafGANDataSet/LeafGAN/prepare_mask.py --source /gdrive/MyDrive/LeafGANDataSet/Healthy2Rust --pretrain_path /gdrive/MyDrive/LeafGANDataSet/LeafGAN/LFLSeg/trained_models/trained_resnet101_LFLSeg_v1_90.pth --image_size 224"
      ]
    },
    {
      "cell_type": "markdown",
      "metadata": {
        "id": "Ki-Bj--Yhy8o"
      },
      "source": [
        "**train**"
      ]
    },
    {
      "cell_type": "code",
      "execution_count": 9,
      "metadata": {
        "colab": {
          "base_uri": "https://localhost:8080/"
        },
        "id": "2hIbULua2rHD",
        "outputId": "fb24e361-7c17-448a-8197-c61b80bcaf71"
      },
      "outputs": [
        {
          "output_type": "stream",
          "name": "stdout",
          "text": [
            "/gdrive/.shortcut-targets-by-id/19BTxmd5iqi13fW526v_d0CgS_shMILpC/LeafGANDataSet/LeafGAN\n"
          ]
        }
      ],
      "source": [
        "%cd /gdrive/MyDrive/LeafGANDataSet/LeafGAN"
      ]
    },
    {
      "cell_type": "code",
      "execution_count": 10,
      "metadata": {
        "colab": {
          "base_uri": "https://localhost:8080/"
        },
        "id": "DcJDttiNh6ad",
        "outputId": "458ce1bb-4193-4e99-cdaa-077772299b0d"
      },
      "outputs": [
        {
          "output_type": "stream",
          "name": "stdout",
          "text": [
            "Collecting dominate\n",
            "  Downloading dominate-2.6.0-py2.py3-none-any.whl (29 kB)\n",
            "Installing collected packages: dominate\n",
            "Successfully installed dominate-2.6.0\n"
          ]
        }
      ],
      "source": [
        "!pip install dominate"
      ]
    },
    {
      "cell_type": "code",
      "execution_count": null,
      "metadata": {
        "colab": {
          "base_uri": "https://localhost:8080/"
        },
        "id": "iIl5wMJih_Z4",
        "outputId": "33c51b5b-b396-425e-e2df-75b86a77b990"
      },
      "outputs": [
        {
          "metadata": {
            "tags": null
          },
          "name": "stdout",
          "output_type": "stream",
          "text": [
            "----------------- Options ---------------\n",
            "               batch_size: 1                             \n",
            "                    beta1: 0.5                           \n",
            "          checkpoints_dir: ./checkpoints                 \n",
            "           continue_train: True                          \t[default: False]\n",
            "                crop_size: 256                           \n",
            "                 dataroot: /gdrive/MyDrive/LeafGANDataSet/Healthy2Rust\t[default: None]\n",
            "             dataset_mode: unaligned_masked              \t[default: unaligned]\n",
            "                direction: AtoB                          \n",
            "              display_env: main                          \n",
            "             display_freq: 400                           \n",
            "               display_id: -1                            \n",
            "            display_ncols: 4                             \n",
            "             display_port: 8097                          \n",
            "           display_server: http://localhost              \n",
            "          display_winsize: 256                           \n",
            "                    epoch: latest                        \n",
            "              epoch_count: 82                            \t[default: 1]\n",
            "                 gan_mode: lsgan                         \n",
            "                  gpu_ids: 0                             \n",
            "                init_gain: 0.02                          \n",
            "                init_type: normal                        \n",
            "                 input_nc: 3                             \n",
            "                  isTrain: True                          \t[default: None]\n",
            "                 lambda_A: 10.0                          \n",
            "                 lambda_B: 10.0                          \n",
            "          lambda_identity: 0.5                           \n",
            "                load_iter: 0                             \t[default: 0]\n",
            "                load_size: 266                           \n",
            "                       lr: 2e-05                         \t[default: 0.0002]\n",
            "           lr_decay_iters: 50                            \n",
            "                lr_policy: linear                        \n",
            "         max_dataset_size: inf                           \n",
            "                    model: leaf_gan                      \t[default: cycle_gan]\n",
            "               n_layers_D: 3                             \n",
            "                     name: Healthy2Rust_leafGAN          \t[default: experiment_name]\n",
            "                      ndf: 64                            \n",
            "                     netD: basic                         \n",
            "                     netG: resnet_9blocks                \n",
            "                      ngf: 64                            \n",
            "                    niter: 0                             \t[default: 50]\n",
            "              niter_decay: 100                           \t[default: 0]\n",
            "               no_dropout: True                          \n",
            "                  no_flip: False                         \n",
            "                  no_html: False                         \n",
            "                     norm: instance                      \n",
            "              num_threads: 4                             \n",
            "                output_nc: 3                             \n",
            "                    phase: train                         \n",
            "                pool_size: 50                            \n",
            "               preprocess: resize_and_crop               \n",
            "               print_freq: 100                           \n",
            "             save_by_iter: False                         \n",
            "          save_epoch_freq: 3                             \n",
            "         save_latest_freq: 5000                          \n",
            "           serial_batches: False                         \n",
            "                   suffix:                               \n",
            "                threshold: 0.35                          \n",
            "         update_html_freq: 1000                          \n",
            "                  verbose: False                         \n",
            "----------------- End -------------------\n",
            "/usr/local/lib/python3.7/dist-packages/torchvision/transforms/transforms.py:288: UserWarning: Argument interpolation should be of type InterpolationMode instead of int. Please, use InterpolationMode enum.\n",
            "  \"Argument interpolation should be of type InterpolationMode instead of int. \"\n",
            "dataset [UnalignedMaskedDataset] was created\n",
            "The number of training images = 3699\n",
            "initialize network with normal\n",
            "initialize network with normal\n",
            "initialize network with normal\n",
            "initialize network with normal\n",
            "model [LeafGANModel] was created\n",
            "loading the model from ./checkpoints/Healthy2Rust_leafGAN/latest_net_G_A.pth\n",
            "loading the model from ./checkpoints/Healthy2Rust_leafGAN/latest_net_G_B.pth\n",
            "loading the model from ./checkpoints/Healthy2Rust_leafGAN/latest_net_D_A.pth\n",
            "loading the model from ./checkpoints/Healthy2Rust_leafGAN/latest_net_D_B.pth\n",
            "---------- Networks initialized -------------\n",
            "[Network G_A] Total number of parameters : 11.378 M\n",
            "[Network G_B] Total number of parameters : 11.378 M\n",
            "[Network D_A] Total number of parameters : 2.765 M\n",
            "[Network D_B] Total number of parameters : 2.765 M\n",
            "-----------------------------------------------\n",
            "create web directory ./checkpoints/Healthy2Rust_leafGAN/web...\n",
            "(epoch: 82, iters: 100, time: 0.314, data: 48.774) D_A: 0.278 G_A: 0.143 cycle_A: 0.308 idt_A: 0.140 D_B: 0.236 G_B: 0.325 cycle_B: 0.337 idt_B: 0.121 \n",
            "(epoch: 82, iters: 200, time: 0.313, data: 0.911) D_A: 0.165 G_A: 0.465 cycle_A: 0.278 idt_A: 0.110 D_B: 0.253 G_B: 0.834 cycle_B: 0.297 idt_B: 0.138 \n",
            "(epoch: 82, iters: 300, time: 0.314, data: 0.139) D_A: 0.195 G_A: 0.814 cycle_A: 0.250 idt_A: 0.113 D_B: 0.143 G_B: 0.447 cycle_B: 0.247 idt_B: 0.114 \n",
            "(epoch: 82, iters: 400, time: 6.335, data: 0.001) D_A: 0.266 G_A: 0.428 cycle_A: 0.299 idt_A: 0.118 D_B: 0.270 G_B: 0.115 cycle_B: 0.267 idt_B: 0.101 \n",
            "(epoch: 82, iters: 500, time: 0.314, data: 0.001) D_A: 0.107 G_A: 0.799 cycle_A: 0.314 idt_A: 0.099 D_B: 0.134 G_B: 0.485 cycle_B: 0.276 idt_B: 0.101 \n",
            "(epoch: 82, iters: 600, time: 0.314, data: 0.001) D_A: 0.123 G_A: 0.621 cycle_A: 0.264 idt_A: 0.094 D_B: 0.191 G_B: 0.213 cycle_B: 0.260 idt_B: 0.117 \n",
            "(epoch: 82, iters: 700, time: 0.291, data: 0.001) D_A: 0.110 G_A: 0.747 cycle_A: 0.301 idt_A: 0.075 D_B: 0.240 G_B: 0.299 cycle_B: 0.219 idt_B: 0.095 \n",
            "(epoch: 82, iters: 800, time: 1.186, data: 0.001) D_A: 0.209 G_A: 0.693 cycle_A: 0.323 idt_A: 0.152 D_B: 0.148 G_B: 0.345 cycle_B: 0.400 idt_B: 0.103 \n",
            "(epoch: 82, iters: 900, time: 0.313, data: 0.004) D_A: 0.212 G_A: 0.156 cycle_A: 0.831 idt_A: 0.108 D_B: 0.609 G_B: 0.240 cycle_B: 0.269 idt_B: 0.363 \n",
            "(epoch: 82, iters: 1000, time: 0.313, data: 0.663) D_A: 0.146 G_A: 0.352 cycle_A: 0.288 idt_A: 0.072 D_B: 0.169 G_B: 0.323 cycle_B: 0.229 idt_B: 0.135 \n",
            "(epoch: 82, iters: 1100, time: 0.291, data: 0.268) D_A: 0.329 G_A: 0.250 cycle_A: 0.331 idt_A: 0.097 D_B: 0.342 G_B: 0.204 cycle_B: 0.254 idt_B: 0.117 \n",
            "(epoch: 82, iters: 1200, time: 1.269, data: 0.184) D_A: 0.210 G_A: 0.394 cycle_A: 0.230 idt_A: 0.090 D_B: 0.331 G_B: 0.211 cycle_B: 0.212 idt_B: 0.135 \n",
            "(epoch: 82, iters: 1300, time: 0.314, data: 0.003) D_A: 0.138 G_A: 0.279 cycle_A: 0.321 idt_A: 0.082 D_B: 0.285 G_B: 0.742 cycle_B: 0.231 idt_B: 0.169 \n",
            "(epoch: 82, iters: 1400, time: 0.291, data: 0.188) D_A: 0.208 G_A: 0.535 cycle_A: 0.291 idt_A: 0.086 D_B: 0.118 G_B: 0.235 cycle_B: 0.233 idt_B: 0.088 \n",
            "(epoch: 82, iters: 1500, time: 0.314, data: 0.001) D_A: 0.217 G_A: 0.146 cycle_A: 0.216 idt_A: 0.101 D_B: 0.195 G_B: 0.593 cycle_B: 0.254 idt_B: 0.075 \n",
            "(epoch: 82, iters: 1600, time: 1.246, data: 0.283) D_A: 0.163 G_A: 0.570 cycle_A: 0.302 idt_A: 0.099 D_B: 0.201 G_B: 0.213 cycle_B: 0.264 idt_B: 0.077 \n",
            "(epoch: 82, iters: 1700, time: 0.314, data: 0.001) D_A: 0.100 G_A: 0.698 cycle_A: 0.216 idt_A: 0.153 D_B: 0.174 G_B: 0.309 cycle_B: 0.211 idt_B: 0.077 \n",
            "(epoch: 82, iters: 1800, time: 0.291, data: 0.002) D_A: 0.227 G_A: 0.230 cycle_A: 0.270 idt_A: 0.088 D_B: 0.254 G_B: 0.313 cycle_B: 0.230 idt_B: 0.098 \n",
            "(epoch: 82, iters: 1900, time: 0.314, data: 0.001) D_A: 0.232 G_A: 0.131 cycle_A: 0.221 idt_A: 0.093 D_B: 0.386 G_B: 0.368 cycle_B: 0.225 idt_B: 0.090 \n",
            "(epoch: 82, iters: 2000, time: 1.329, data: 0.001) D_A: 0.088 G_A: 0.620 cycle_A: 0.331 idt_A: 0.107 D_B: 0.105 G_B: 0.434 cycle_B: 0.272 idt_B: 0.164 \n",
            "(epoch: 82, iters: 2100, time: 0.315, data: 0.001) D_A: 0.344 G_A: 0.884 cycle_A: 0.282 idt_A: 0.130 D_B: 0.130 G_B: 0.118 cycle_B: 0.236 idt_B: 0.131 \n",
            "(epoch: 82, iters: 2200, time: 0.314, data: 0.001) D_A: 0.128 G_A: 0.680 cycle_A: 0.231 idt_A: 0.089 D_B: 0.125 G_B: 0.364 cycle_B: 0.239 idt_B: 0.077 \n",
            "(epoch: 82, iters: 2300, time: 0.314, data: 0.001) D_A: 0.288 G_A: 0.230 cycle_A: 0.288 idt_A: 0.091 D_B: 0.249 G_B: 0.220 cycle_B: 0.276 idt_B: 0.099 \n",
            "(epoch: 82, iters: 2400, time: 1.215, data: 0.001) D_A: 0.049 G_A: 0.581 cycle_A: 0.317 idt_A: 0.101 D_B: 0.117 G_B: 0.429 cycle_B: 0.265 idt_B: 0.098 \n",
            "(epoch: 82, iters: 2500, time: 0.314, data: 0.001) D_A: 0.262 G_A: 0.751 cycle_A: 0.272 idt_A: 0.124 D_B: 0.088 G_B: 0.264 cycle_B: 0.311 idt_B: 0.089 \n",
            "(epoch: 82, iters: 2600, time: 0.314, data: 0.003) D_A: 0.134 G_A: 0.468 cycle_A: 0.331 idt_A: 0.094 D_B: 0.177 G_B: 0.358 cycle_B: 0.237 idt_B: 0.119 \n",
            "(epoch: 82, iters: 2700, time: 0.315, data: 0.001) D_A: 0.202 G_A: 0.415 cycle_A: 0.288 idt_A: 0.133 D_B: 0.162 G_B: 0.385 cycle_B: 0.201 idt_B: 0.093 \n",
            "(epoch: 82, iters: 2800, time: 1.169, data: 0.001) D_A: 0.158 G_A: 0.420 cycle_A: 0.350 idt_A: 0.116 D_B: 0.170 G_B: 0.388 cycle_B: 0.307 idt_B: 0.158 \n",
            "(epoch: 82, iters: 2900, time: 0.291, data: 0.001) D_A: 0.100 G_A: 0.272 cycle_A: 0.270 idt_A: 0.165 D_B: 0.070 G_B: 0.680 cycle_B: 0.365 idt_B: 0.124 \n",
            "(epoch: 82, iters: 3000, time: 0.315, data: 0.001) D_A: 0.162 G_A: 0.588 cycle_A: 0.298 idt_A: 0.194 D_B: 0.122 G_B: 0.620 cycle_B: 0.473 idt_B: 0.096 \n",
            "(epoch: 82, iters: 3100, time: 0.314, data: 0.001) D_A: 0.268 G_A: 0.210 cycle_A: 0.304 idt_A: 0.086 D_B: 0.279 G_B: 0.349 cycle_B: 0.262 idt_B: 0.110 \n",
            "(epoch: 82, iters: 3200, time: 1.328, data: 0.001) D_A: 0.110 G_A: 0.509 cycle_A: 0.251 idt_A: 0.126 D_B: 0.065 G_B: 0.389 cycle_B: 0.312 idt_B: 0.098 \n",
            "(epoch: 82, iters: 3300, time: 0.314, data: 0.006) D_A: 0.077 G_A: 0.282 cycle_A: 0.257 idt_A: 0.087 D_B: 0.178 G_B: 0.353 cycle_B: 0.226 idt_B: 0.105 \n",
            "(epoch: 82, iters: 3400, time: 0.314, data: 0.148) D_A: 0.214 G_A: 0.178 cycle_A: 0.335 idt_A: 0.115 D_B: 0.265 G_B: 0.261 cycle_B: 0.261 idt_B: 0.123 \n",
            "(epoch: 82, iters: 3500, time: 0.291, data: 0.001) D_A: 0.106 G_A: 0.109 cycle_A: 0.362 idt_A: 0.086 D_B: 0.215 G_B: 0.468 cycle_B: 0.231 idt_B: 0.135 \n",
            "(epoch: 82, iters: 3600, time: 1.192, data: 0.001) D_A: 0.169 G_A: 0.362 cycle_A: 0.243 idt_A: 0.107 D_B: 0.267 G_B: 0.315 cycle_B: 0.254 idt_B: 0.134 \n",
            "End of epoch 82 / 100 \t Time Taken: 1644 sec\n",
            "learning rate = 0.0000036\n",
            "(epoch: 83, iters: 1, time: 0.293, data: 0.001) D_A: 0.150 G_A: 0.756 cycle_A: 0.257 idt_A: 0.108 D_B: 0.156 G_B: 0.237 cycle_B: 0.291 idt_B: 0.092 \n",
            "(epoch: 83, iters: 101, time: 0.315, data: 0.003) D_A: 0.066 G_A: 0.656 cycle_A: 0.248 idt_A: 0.112 D_B: 0.030 G_B: 0.430 cycle_B: 0.267 idt_B: 0.098 \n",
            "(epoch: 83, iters: 201, time: 0.310, data: 0.006) D_A: 0.188 G_A: 0.729 cycle_A: 0.295 idt_A: 0.160 D_B: 0.182 G_B: 0.393 cycle_B: 0.375 idt_B: 0.158 \n",
            "(epoch: 83, iters: 301, time: 1.291, data: 0.001) D_A: 0.214 G_A: 0.635 cycle_A: 0.241 idt_A: 0.089 D_B: 0.109 G_B: 0.304 cycle_B: 0.252 idt_B: 0.085 \n",
            "(epoch: 83, iters: 401, time: 0.312, data: 0.003) D_A: 0.202 G_A: 0.582 cycle_A: 0.287 idt_A: 0.101 D_B: 0.102 G_B: 0.604 cycle_B: 0.246 idt_B: 0.093 \n",
            "(epoch: 83, iters: 501, time: 0.312, data: 0.003) D_A: 0.434 G_A: 0.084 cycle_A: 0.311 idt_A: 0.095 D_B: 0.395 G_B: 0.174 cycle_B: 0.268 idt_B: 0.107 \n",
            "(epoch: 83, iters: 601, time: 0.313, data: 0.003) D_A: 0.064 G_A: 0.847 cycle_A: 0.300 idt_A: 0.113 D_B: 0.073 G_B: 0.805 cycle_B: 0.290 idt_B: 0.121 \n",
            "(epoch: 83, iters: 701, time: 1.308, data: 0.003) D_A: 0.099 G_A: 0.409 cycle_A: 0.248 idt_A: 0.077 D_B: 0.184 G_B: 0.316 cycle_B: 0.230 idt_B: 0.104 \n",
            "(epoch: 83, iters: 801, time: 0.312, data: 0.001) D_A: 0.156 G_A: 0.433 cycle_A: 0.336 idt_A: 0.136 D_B: 0.161 G_B: 0.382 cycle_B: 0.343 idt_B: 0.124 \n",
            "(epoch: 83, iters: 901, time: 0.312, data: 0.003) D_A: 0.228 G_A: 0.756 cycle_A: 0.331 idt_A: 0.099 D_B: 0.206 G_B: 0.168 cycle_B: 0.259 idt_B: 0.111 \n",
            "(epoch: 83, iters: 1001, time: 0.312, data: 0.003) D_A: 0.059 G_A: 0.351 cycle_A: 0.281 idt_A: 0.099 D_B: 0.231 G_B: 0.574 cycle_B: 0.286 idt_B: 0.107 \n",
            "(epoch: 83, iters: 1101, time: 1.247, data: 0.003) D_A: 0.163 G_A: 0.299 cycle_A: 0.233 idt_A: 0.092 D_B: 0.236 G_B: 0.508 cycle_B: 0.251 idt_B: 0.076 \n",
            "(epoch: 83, iters: 1201, time: 0.312, data: 0.003) D_A: 0.251 G_A: 0.071 cycle_A: 0.310 idt_A: 0.162 D_B: 0.395 G_B: 0.450 cycle_B: 0.379 idt_B: 0.120 \n",
            "(epoch: 83, iters: 1301, time: 0.313, data: 0.003) D_A: 0.147 G_A: 0.446 cycle_A: 0.278 idt_A: 0.124 D_B: 0.211 G_B: 0.274 cycle_B: 0.301 idt_B: 0.099 \n",
            "saving the latest model (epoch 83, total_iters 5000)\n",
            "(epoch: 83, iters: 1401, time: 0.312, data: 0.003) D_A: 0.387 G_A: 0.463 cycle_A: 0.357 idt_A: 0.108 D_B: 0.337 G_B: 0.117 cycle_B: 0.215 idt_B: 0.124 \n",
            "(epoch: 83, iters: 1501, time: 1.205, data: 0.003) D_A: 0.195 G_A: 0.429 cycle_A: 0.258 idt_A: 0.083 D_B: 0.270 G_B: 0.242 cycle_B: 0.248 idt_B: 0.261 \n",
            "(epoch: 83, iters: 1601, time: 0.310, data: 0.002) D_A: 0.100 G_A: 0.398 cycle_A: 0.225 idt_A: 0.084 D_B: 0.297 G_B: 0.659 cycle_B: 0.234 idt_B: 0.074 \n",
            "(epoch: 83, iters: 1701, time: 0.312, data: 0.001) D_A: 0.101 G_A: 0.464 cycle_A: 0.285 idt_A: 0.110 D_B: 0.104 G_B: 0.688 cycle_B: 0.230 idt_B: 0.110 \n",
            "(epoch: 83, iters: 1801, time: 0.312, data: 0.003) D_A: 0.208 G_A: 0.379 cycle_A: 0.287 idt_A: 0.110 D_B: 0.307 G_B: 0.170 cycle_B: 0.272 idt_B: 0.093 \n",
            "(epoch: 83, iters: 1901, time: 1.265, data: 0.004) D_A: 0.182 G_A: 0.714 cycle_A: 0.244 idt_A: 0.117 D_B: 0.224 G_B: 0.232 cycle_B: 0.260 idt_B: 0.101 \n",
            "(epoch: 83, iters: 2001, time: 0.312, data: 0.003) D_A: 0.153 G_A: 0.687 cycle_A: 0.257 idt_A: 0.101 D_B: 0.143 G_B: 0.256 cycle_B: 0.256 idt_B: 0.087 \n",
            "(epoch: 83, iters: 2101, time: 0.312, data: 0.003) D_A: 0.209 G_A: 0.788 cycle_A: 0.243 idt_A: 0.089 D_B: 0.161 G_B: 0.227 cycle_B: 0.226 idt_B: 0.103 \n",
            "(epoch: 83, iters: 2201, time: 0.313, data: 0.003) D_A: 0.174 G_A: 0.629 cycle_A: 0.209 idt_A: 0.088 D_B: 0.123 G_B: 0.319 cycle_B: 0.229 idt_B: 0.080 \n",
            "(epoch: 83, iters: 2301, time: 1.299, data: 0.003) D_A: 0.166 G_A: 0.494 cycle_A: 0.318 idt_A: 0.099 D_B: 0.201 G_B: 0.226 cycle_B: 0.275 idt_B: 0.110 \n",
            "(epoch: 83, iters: 2401, time: 0.312, data: 0.003) D_A: 0.057 G_A: 0.278 cycle_A: 0.249 idt_A: 0.102 D_B: 0.249 G_B: 0.812 cycle_B: 0.279 idt_B: 0.084 \n",
            "(epoch: 83, iters: 2501, time: 0.312, data: 0.003) D_A: 0.149 G_A: 0.475 cycle_A: 0.252 idt_A: 0.088 D_B: 0.143 G_B: 0.507 cycle_B: 0.216 idt_B: 0.087 \n",
            "(epoch: 83, iters: 2601, time: 0.314, data: 0.003) D_A: 0.181 G_A: 0.565 cycle_A: 0.236 idt_A: 0.103 D_B: 0.239 G_B: 0.395 cycle_B: 0.295 idt_B: 0.074 \n",
            "(epoch: 83, iters: 2701, time: 1.217, data: 0.002) D_A: 0.313 G_A: 0.517 cycle_A: 0.223 idt_A: 0.085 D_B: 0.125 G_B: 0.177 cycle_B: 0.241 idt_B: 0.072 \n",
            "(epoch: 83, iters: 2801, time: 0.313, data: 0.003) D_A: 0.083 G_A: 0.526 cycle_A: 0.231 idt_A: 0.126 D_B: 0.125 G_B: 0.541 cycle_B: 0.347 idt_B: 0.083 \n",
            "(epoch: 83, iters: 2901, time: 0.312, data: 0.003) D_A: 0.086 G_A: 0.556 cycle_A: 0.242 idt_A: 0.118 D_B: 0.127 G_B: 0.569 cycle_B: 0.317 idt_B: 0.087 \n",
            "(epoch: 83, iters: 3001, time: 0.312, data: 0.003) D_A: 0.092 G_A: 0.476 cycle_A: 0.281 idt_A: 0.121 D_B: 0.128 G_B: 0.584 cycle_B: 0.344 idt_B: 0.094 \n",
            "(epoch: 83, iters: 3101, time: 1.166, data: 0.004) D_A: 0.170 G_A: 0.465 cycle_A: 0.423 idt_A: 0.108 D_B: 0.147 G_B: 0.267 cycle_B: 0.299 idt_B: 0.146 \n",
            "(epoch: 83, iters: 3201, time: 0.312, data: 0.003) D_A: 0.139 G_A: 0.265 cycle_A: 0.259 idt_A: 0.128 D_B: 0.245 G_B: 0.408 cycle_B: 0.293 idt_B: 0.081 \n",
            "(epoch: 83, iters: 3301, time: 0.312, data: 0.003) D_A: 0.489 G_A: 0.141 cycle_A: 0.300 idt_A: 0.094 D_B: 0.501 G_B: 0.071 cycle_B: 0.215 idt_B: 0.170 \n",
            "(epoch: 83, iters: 3401, time: 0.312, data: 0.003) D_A: 0.108 G_A: 0.634 cycle_A: 0.343 idt_A: 0.091 D_B: 0.138 G_B: 0.259 cycle_B: 0.281 idt_B: 0.114 \n",
            "(epoch: 83, iters: 3501, time: 1.290, data: 0.003) D_A: 0.069 G_A: 0.252 cycle_A: 0.232 idt_A: 0.086 D_B: 0.369 G_B: 0.402 cycle_B: 0.233 idt_B: 0.087 \n",
            "(epoch: 83, iters: 3601, time: 0.313, data: 0.003) D_A: 0.246 G_A: 0.447 cycle_A: 0.233 idt_A: 0.086 D_B: 0.186 G_B: 0.413 cycle_B: 0.223 idt_B: 0.081 \n",
            "End of epoch 83 / 100 \t Time Taken: 1084 sec\n",
            "learning rate = 0.0000034\n",
            "(epoch: 84, iters: 2, time: 0.311, data: 0.003) D_A: 0.120 G_A: 0.306 cycle_A: 0.229 idt_A: 0.098 D_B: 0.218 G_B: 0.814 cycle_B: 0.234 idt_B: 0.071 \n",
            "(epoch: 84, iters: 102, time: 0.312, data: 0.004) D_A: 0.073 G_A: 0.562 cycle_A: 0.254 idt_A: 0.090 D_B: 0.142 G_B: 0.507 cycle_B: 0.247 idt_B: 0.071 \n",
            "(epoch: 84, iters: 202, time: 1.223, data: 0.003) D_A: 0.059 G_A: 0.713 cycle_A: 0.283 idt_A: 0.091 D_B: 0.140 G_B: 0.852 cycle_B: 0.252 idt_B: 0.101 \n",
            "(epoch: 84, iters: 302, time: 0.312, data: 0.003) D_A: 0.127 G_A: 0.582 cycle_A: 0.236 idt_A: 0.094 D_B: 0.162 G_B: 0.508 cycle_B: 0.243 idt_B: 0.082 \n",
            "(epoch: 84, iters: 402, time: 0.312, data: 0.003) D_A: 0.090 G_A: 0.636 cycle_A: 0.343 idt_A: 0.095 D_B: 0.114 G_B: 0.415 cycle_B: 0.235 idt_B: 0.111 \n",
            "(epoch: 84, iters: 502, time: 0.313, data: 0.003) D_A: 0.213 G_A: 0.459 cycle_A: 0.273 idt_A: 0.110 D_B: 0.269 G_B: 0.277 cycle_B: 0.228 idt_B: 0.100 \n",
            "(epoch: 84, iters: 602, time: 1.255, data: 0.003) D_A: 0.267 G_A: 0.494 cycle_A: 0.278 idt_A: 0.130 D_B: 0.278 G_B: 0.185 cycle_B: 0.225 idt_B: 0.084 \n",
            "(epoch: 84, iters: 702, time: 0.313, data: 0.003) D_A: 0.097 G_A: 0.536 cycle_A: 0.303 idt_A: 0.103 D_B: 0.061 G_B: 0.599 cycle_B: 0.228 idt_B: 0.098 \n",
            "(epoch: 84, iters: 802, time: 0.313, data: 0.003) D_A: 0.202 G_A: 0.691 cycle_A: 0.302 idt_A: 0.119 D_B: 0.102 G_B: 0.463 cycle_B: 0.332 idt_B: 0.100 \n",
            "(epoch: 84, iters: 902, time: 0.312, data: 0.003) D_A: 0.257 G_A: 0.231 cycle_A: 0.237 idt_A: 0.129 D_B: 0.202 G_B: 0.288 cycle_B: 0.307 idt_B: 0.119 \n",
            "(epoch: 84, iters: 1002, time: 1.318, data: 0.003) D_A: 0.193 G_A: 0.724 cycle_A: 0.269 idt_A: 0.132 D_B: 0.063 G_B: 0.486 cycle_B: 0.257 idt_B: 0.092 \n",
            "(epoch: 84, iters: 1102, time: 0.312, data: 0.003) D_A: 0.113 G_A: 0.430 cycle_A: 0.299 idt_A: 0.105 D_B: 0.113 G_B: 0.388 cycle_B: 0.254 idt_B: 0.099 \n",
            "(epoch: 84, iters: 1202, time: 0.312, data: 0.003) D_A: 0.095 G_A: 0.438 cycle_A: 0.208 idt_A: 0.105 D_B: 0.190 G_B: 0.433 cycle_B: 0.269 idt_B: 0.074 \n",
            "(epoch: 84, iters: 1302, time: 0.312, data: 0.003) D_A: 0.282 G_A: 0.224 cycle_A: 0.245 idt_A: 0.133 D_B: 0.217 G_B: 0.478 cycle_B: 0.316 idt_B: 0.075 \n",
            "(epoch: 84, iters: 1402, time: 1.220, data: 0.003) D_A: 0.097 G_A: 0.475 cycle_A: 0.232 idt_A: 0.113 D_B: 0.088 G_B: 0.720 cycle_B: 0.268 idt_B: 0.093 \n",
            "(epoch: 84, iters: 1502, time: 0.312, data: 0.003) D_A: 0.169 G_A: 0.896 cycle_A: 0.261 idt_A: 0.126 D_B: 0.102 G_B: 0.273 cycle_B: 0.315 idt_B: 0.111 \n",
            "(epoch: 84, iters: 1602, time: 0.313, data: 0.004) D_A: 0.186 G_A: 0.666 cycle_A: 0.249 idt_A: 0.124 D_B: 0.103 G_B: 0.421 cycle_B: 0.279 idt_B: 0.127 \n",
            "(epoch: 84, iters: 1702, time: 0.313, data: 0.003) D_A: 0.233 G_A: 0.900 cycle_A: 0.265 idt_A: 0.087 D_B: 0.177 G_B: 0.345 cycle_B: 0.243 idt_B: 0.089 \n",
            "(epoch: 84, iters: 1802, time: 1.228, data: 0.003) D_A: 0.148 G_A: 0.307 cycle_A: 0.298 idt_A: 0.152 D_B: 0.175 G_B: 0.739 cycle_B: 0.355 idt_B: 0.097 \n",
            "(epoch: 84, iters: 1902, time: 0.312, data: 0.003) D_A: 0.053 G_A: 0.863 cycle_A: 0.324 idt_A: 0.161 D_B: 0.048 G_B: 0.959 cycle_B: 0.310 idt_B: 0.157 \n",
            "(epoch: 84, iters: 2002, time: 0.313, data: 0.003) D_A: 0.172 G_A: 0.330 cycle_A: 0.244 idt_A: 0.134 D_B: 0.173 G_B: 0.594 cycle_B: 0.344 idt_B: 0.089 \n",
            "(epoch: 84, iters: 2102, time: 0.312, data: 0.003) D_A: 0.384 G_A: 0.203 cycle_A: 0.306 idt_A: 0.121 D_B: 0.220 G_B: 0.269 cycle_B: 0.348 idt_B: 0.113 \n",
            "(epoch: 84, iters: 2202, time: 1.304, data: 0.004) D_A: 0.099 G_A: 0.493 cycle_A: 0.260 idt_A: 0.078 D_B: 0.193 G_B: 0.291 cycle_B: 0.257 idt_B: 0.074 \n",
            "(epoch: 84, iters: 2302, time: 0.312, data: 0.003) D_A: 0.216 G_A: 0.782 cycle_A: 0.271 idt_A: 0.101 D_B: 0.236 G_B: 0.153 cycle_B: 0.255 idt_B: 0.098 \n",
            "(epoch: 84, iters: 2402, time: 0.312, data: 0.003) D_A: 0.133 G_A: 0.607 cycle_A: 0.235 idt_A: 0.089 D_B: 0.143 G_B: 0.346 cycle_B: 0.249 idt_B: 0.093 \n",
            "(epoch: 84, iters: 2502, time: 0.312, data: 0.003) D_A: 0.071 G_A: 0.432 cycle_A: 0.348 idt_A: 0.136 D_B: 0.063 G_B: 0.623 cycle_B: 0.321 idt_B: 0.169 \n",
            "(epoch: 84, iters: 2602, time: 1.229, data: 0.003) D_A: 0.235 G_A: 0.679 cycle_A: 0.259 idt_A: 0.112 D_B: 0.085 G_B: 0.548 cycle_B: 0.289 idt_B: 0.084 \n",
            "saving the latest model (epoch 84, total_iters 10000)\n",
            "(epoch: 84, iters: 2702, time: 0.312, data: 0.003) D_A: 0.145 G_A: 0.143 cycle_A: 0.283 idt_A: 0.090 D_B: 0.413 G_B: 0.248 cycle_B: 0.231 idt_B: 0.088 \n",
            "(epoch: 84, iters: 2802, time: 0.312, data: 0.003) D_A: 0.091 G_A: 0.549 cycle_A: 0.276 idt_A: 0.082 D_B: 0.141 G_B: 0.340 cycle_B: 0.238 idt_B: 0.085 \n",
            "(epoch: 84, iters: 2902, time: 0.313, data: 0.003) D_A: 0.077 G_A: 0.493 cycle_A: 0.272 idt_A: 0.113 D_B: 0.133 G_B: 0.429 cycle_B: 0.284 idt_B: 0.097 \n",
            "(epoch: 84, iters: 3002, time: 1.231, data: 0.003) D_A: 0.078 G_A: 0.574 cycle_A: 0.344 idt_A: 0.077 D_B: 0.105 G_B: 0.548 cycle_B: 0.204 idt_B: 0.099 \n",
            "(epoch: 84, iters: 3102, time: 0.313, data: 0.003) D_A: 0.125 G_A: 0.402 cycle_A: 0.323 idt_A: 0.098 D_B: 0.083 G_B: 0.418 cycle_B: 0.258 idt_B: 0.098 \n",
            "(epoch: 84, iters: 3202, time: 0.312, data: 0.003) D_A: 0.061 G_A: 0.359 cycle_A: 0.278 idt_A: 0.108 D_B: 0.255 G_B: 0.432 cycle_B: 0.300 idt_B: 0.099 \n",
            "(epoch: 84, iters: 3302, time: 0.312, data: 0.003) D_A: 0.149 G_A: 0.493 cycle_A: 0.245 idt_A: 0.097 D_B: 0.111 G_B: 0.535 cycle_B: 0.261 idt_B: 0.100 \n",
            "(epoch: 84, iters: 3402, time: 1.232, data: 0.003) D_A: 0.131 G_A: 0.559 cycle_A: 0.276 idt_A: 0.108 D_B: 0.172 G_B: 0.425 cycle_B: 0.304 idt_B: 0.100 \n",
            "(epoch: 84, iters: 3502, time: 0.312, data: 0.003) D_A: 0.153 G_A: 0.689 cycle_A: 0.241 idt_A: 0.116 D_B: 0.160 G_B: 0.651 cycle_B: 0.320 idt_B: 0.077 \n",
            "(epoch: 84, iters: 3602, time: 0.312, data: 0.003) D_A: 0.102 G_A: 0.703 cycle_A: 0.305 idt_A: 0.115 D_B: 0.123 G_B: 0.315 cycle_B: 0.275 idt_B: 0.105 \n",
            "saving the model at the end of epoch 84, iters 11097\n",
            "End of epoch 84 / 100 \t Time Taken: 1085 sec\n",
            "learning rate = 0.0000032\n",
            "(epoch: 85, iters: 3, time: 0.313, data: 0.003) D_A: 0.104 G_A: 0.379 cycle_A: 0.282 idt_A: 0.194 D_B: 0.203 G_B: 0.763 cycle_B: 0.456 idt_B: 0.092 \n",
            "(epoch: 85, iters: 103, time: 1.230, data: 0.001) D_A: 0.098 G_A: 0.457 cycle_A: 0.338 idt_A: 0.079 D_B: 0.216 G_B: 0.488 cycle_B: 0.235 idt_B: 0.139 \n",
            "(epoch: 85, iters: 203, time: 0.312, data: 0.003) D_A: 0.148 G_A: 0.333 cycle_A: 0.390 idt_A: 0.134 D_B: 0.446 G_B: 0.514 cycle_B: 0.349 idt_B: 0.281 \n",
            "(epoch: 85, iters: 303, time: 0.312, data: 0.003) D_A: 0.173 G_A: 0.468 cycle_A: 0.398 idt_A: 0.094 D_B: 0.185 G_B: 0.366 cycle_B: 0.228 idt_B: 0.159 \n",
            "(epoch: 85, iters: 403, time: 0.312, data: 0.003) D_A: 0.090 G_A: 0.644 cycle_A: 0.266 idt_A: 0.089 D_B: 0.178 G_B: 0.552 cycle_B: 0.267 idt_B: 0.089 \n",
            "(epoch: 85, iters: 503, time: 1.222, data: 0.003) D_A: 0.279 G_A: 0.543 cycle_A: 0.267 idt_A: 0.112 D_B: 0.211 G_B: 0.257 cycle_B: 0.272 idt_B: 0.087 \n",
            "(epoch: 85, iters: 603, time: 0.313, data: 0.003) D_A: 0.222 G_A: 0.295 cycle_A: 0.290 idt_A: 0.098 D_B: 0.177 G_B: 0.405 cycle_B: 0.268 idt_B: 0.099 \n",
            "(epoch: 85, iters: 703, time: 0.312, data: 0.003) D_A: 0.090 G_A: 0.624 cycle_A: 0.405 idt_A: 0.093 D_B: 0.282 G_B: 0.281 cycle_B: 0.241 idt_B: 0.266 \n",
            "(epoch: 85, iters: 803, time: 0.312, data: 0.003) D_A: 0.245 G_A: 0.297 cycle_A: 0.296 idt_A: 0.122 D_B: 0.196 G_B: 0.305 cycle_B: 0.260 idt_B: 0.100 \n",
            "(epoch: 85, iters: 903, time: 1.206, data: 0.004) D_A: 0.140 G_A: 0.416 cycle_A: 0.342 idt_A: 0.118 D_B: 0.153 G_B: 0.477 cycle_B: 0.307 idt_B: 0.100 \n",
            "(epoch: 85, iters: 1003, time: 0.313, data: 0.003) D_A: 0.247 G_A: 0.447 cycle_A: 0.330 idt_A: 0.093 D_B: 0.226 G_B: 0.556 cycle_B: 0.276 idt_B: 0.119 \n",
            "(epoch: 85, iters: 1103, time: 0.312, data: 0.003) D_A: 0.161 G_A: 0.847 cycle_A: 0.328 idt_A: 0.138 D_B: 0.215 G_B: 0.224 cycle_B: 0.230 idt_B: 0.108 \n",
            "(epoch: 85, iters: 1203, time: 0.313, data: 0.003) D_A: 0.298 G_A: 0.425 cycle_A: 0.247 idt_A: 0.096 D_B: 0.187 G_B: 0.201 cycle_B: 0.253 idt_B: 0.091 \n",
            "(epoch: 85, iters: 1303, time: 1.274, data: 0.003) D_A: 0.355 G_A: 0.283 cycle_A: 0.247 idt_A: 0.092 D_B: 0.067 G_B: 0.240 cycle_B: 0.230 idt_B: 0.080 \n",
            "(epoch: 85, iters: 1403, time: 0.312, data: 0.003) D_A: 0.092 G_A: 0.343 cycle_A: 0.385 idt_A: 0.097 D_B: 0.287 G_B: 0.392 cycle_B: 0.201 idt_B: 0.157 \n",
            "(epoch: 85, iters: 1503, time: 0.312, data: 0.003) D_A: 0.144 G_A: 0.717 cycle_A: 0.222 idt_A: 0.088 D_B: 0.172 G_B: 0.317 cycle_B: 0.210 idt_B: 0.070 \n",
            "(epoch: 85, iters: 1603, time: 0.313, data: 0.003) D_A: 0.181 G_A: 0.196 cycle_A: 0.305 idt_A: 0.117 D_B: 0.197 G_B: 0.569 cycle_B: 0.344 idt_B: 0.210 \n",
            "(epoch: 85, iters: 1703, time: 1.222, data: 0.003) D_A: 0.338 G_A: 0.412 cycle_A: 0.276 idt_A: 0.082 D_B: 0.173 G_B: 0.391 cycle_B: 0.218 idt_B: 0.100 \n",
            "(epoch: 85, iters: 1803, time: 0.312, data: 0.003) D_A: 0.071 G_A: 0.308 cycle_A: 0.295 idt_A: 0.083 D_B: 0.127 G_B: 0.534 cycle_B: 0.214 idt_B: 0.109 \n",
            "(epoch: 85, iters: 1903, time: 0.313, data: 0.003) D_A: 0.206 G_A: 0.585 cycle_A: 0.329 idt_A: 0.105 D_B: 0.109 G_B: 0.289 cycle_B: 0.213 idt_B: 0.116 \n",
            "(epoch: 85, iters: 2003, time: 0.312, data: 0.003) D_A: 0.142 G_A: 0.652 cycle_A: 0.293 idt_A: 0.093 D_B: 0.145 G_B: 0.701 cycle_B: 0.278 idt_B: 0.100 \n",
            "(epoch: 85, iters: 2103, time: 1.228, data: 0.003) D_A: 0.243 G_A: 0.484 cycle_A: 0.255 idt_A: 0.093 D_B: 0.246 G_B: 0.192 cycle_B: 0.197 idt_B: 0.102 \n",
            "(epoch: 85, iters: 2203, time: 0.312, data: 0.002) D_A: 0.256 G_A: 0.378 cycle_A: 0.299 idt_A: 0.119 D_B: 0.235 G_B: 0.087 cycle_B: 0.296 idt_B: 0.129 \n",
            "(epoch: 85, iters: 2303, time: 0.312, data: 0.003) D_A: 0.228 G_A: 0.401 cycle_A: 0.321 idt_A: 0.101 D_B: 0.131 G_B: 0.427 cycle_B: 0.216 idt_B: 0.103 \n",
            "(epoch: 85, iters: 2403, time: 0.312, data: 0.003) D_A: 0.176 G_A: 0.390 cycle_A: 0.274 idt_A: 0.071 D_B: 0.195 G_B: 0.545 cycle_B: 0.216 idt_B: 0.104 \n",
            "(epoch: 85, iters: 2503, time: 1.254, data: 0.003) D_A: 0.131 G_A: 0.667 cycle_A: 0.263 idt_A: 0.096 D_B: 0.082 G_B: 0.473 cycle_B: 0.260 idt_B: 0.095 \n",
            "(epoch: 85, iters: 2603, time: 0.312, data: 0.003) D_A: 0.086 G_A: 0.262 cycle_A: 0.376 idt_A: 0.102 D_B: 0.158 G_B: 0.741 cycle_B: 0.261 idt_B: 0.164 \n",
            "(epoch: 85, iters: 2703, time: 0.313, data: 0.003) D_A: 0.143 G_A: 0.430 cycle_A: 0.323 idt_A: 0.107 D_B: 0.189 G_B: 0.322 cycle_B: 0.269 idt_B: 0.137 \n",
            "(epoch: 85, iters: 2803, time: 0.312, data: 0.003) D_A: 0.159 G_A: 0.470 cycle_A: 0.270 idt_A: 0.084 D_B: 0.150 G_B: 0.446 cycle_B: 0.252 idt_B: 0.097 \n",
            "(epoch: 85, iters: 2903, time: 1.233, data: 0.003) D_A: 0.080 G_A: 0.653 cycle_A: 0.237 idt_A: 0.081 D_B: 0.260 G_B: 0.221 cycle_B: 0.225 idt_B: 0.086 \n",
            "(epoch: 85, iters: 3003, time: 0.313, data: 0.003) D_A: 0.210 G_A: 0.480 cycle_A: 0.304 idt_A: 0.090 D_B: 0.296 G_B: 0.188 cycle_B: 0.250 idt_B: 0.103 \n",
            "(epoch: 85, iters: 3103, time: 0.312, data: 0.003) D_A: 0.245 G_A: 0.241 cycle_A: 0.252 idt_A: 0.115 D_B: 0.201 G_B: 0.367 cycle_B: 0.280 idt_B: 0.089 \n",
            "(epoch: 85, iters: 3203, time: 0.312, data: 0.003) D_A: 0.383 G_A: 0.074 cycle_A: 0.259 idt_A: 0.120 D_B: 0.366 G_B: 0.459 cycle_B: 0.342 idt_B: 0.081 \n",
            "(epoch: 85, iters: 3303, time: 1.191, data: 0.003) D_A: 0.239 G_A: 0.304 cycle_A: 0.377 idt_A: 0.084 D_B: 0.231 G_B: 0.174 cycle_B: 0.248 idt_B: 0.138 \n",
            "(epoch: 85, iters: 3403, time: 0.312, data: 0.003) D_A: 0.245 G_A: 0.207 cycle_A: 0.252 idt_A: 0.117 D_B: 0.349 G_B: 0.316 cycle_B: 0.209 idt_B: 0.086 \n",
            "(epoch: 85, iters: 3503, time: 0.312, data: 0.003) D_A: 0.336 G_A: 0.256 cycle_A: 0.300 idt_A: 0.110 D_B: 0.148 G_B: 0.256 cycle_B: 0.261 idt_B: 0.115 \n",
            "(epoch: 85, iters: 3603, time: 0.312, data: 0.003) D_A: 0.260 G_A: 0.737 cycle_A: 0.279 idt_A: 0.116 D_B: 0.244 G_B: 0.139 cycle_B: 0.266 idt_B: 0.103 \n",
            "End of epoch 85 / 100 \t Time Taken: 1083 sec\n",
            "learning rate = 0.0000030\n",
            "(epoch: 86, iters: 4, time: 1.271, data: 0.003) D_A: 0.033 G_A: 0.490 cycle_A: 0.238 idt_A: 0.163 D_B: 0.153 G_B: 0.856 cycle_B: 0.448 idt_B: 0.087 \n",
            "(epoch: 86, iters: 104, time: 0.312, data: 0.002) D_A: 0.064 G_A: 0.756 cycle_A: 0.269 idt_A: 0.086 D_B: 0.112 G_B: 0.587 cycle_B: 0.234 idt_B: 0.188 \n",
            "(epoch: 86, iters: 204, time: 0.313, data: 0.003) D_A: 0.120 G_A: 0.328 cycle_A: 0.272 idt_A: 0.094 D_B: 0.121 G_B: 0.579 cycle_B: 0.242 idt_B: 0.087 \n",
            "saving the latest model (epoch 86, total_iters 15000)\n",
            "(epoch: 86, iters: 304, time: 0.312, data: 0.002) D_A: 0.231 G_A: 0.325 cycle_A: 0.250 idt_A: 0.103 D_B: 0.290 G_B: 0.257 cycle_B: 0.297 idt_B: 0.090 \n",
            "(epoch: 86, iters: 404, time: 1.215, data: 0.003) D_A: 0.240 G_A: 0.586 cycle_A: 0.278 idt_A: 0.121 D_B: 0.105 G_B: 0.270 cycle_B: 0.259 idt_B: 0.106 \n",
            "(epoch: 86, iters: 504, time: 0.312, data: 0.002) D_A: 0.235 G_A: 0.399 cycle_A: 0.258 idt_A: 0.097 D_B: 0.161 G_B: 0.259 cycle_B: 0.219 idt_B: 0.134 \n",
            "(epoch: 86, iters: 604, time: 0.313, data: 0.003) D_A: 0.245 G_A: 0.516 cycle_A: 0.243 idt_A: 0.086 D_B: 0.264 G_B: 0.180 cycle_B: 0.251 idt_B: 0.077 \n",
            "(epoch: 86, iters: 704, time: 0.312, data: 0.003) D_A: 0.172 G_A: 0.206 cycle_A: 0.340 idt_A: 0.123 D_B: 0.235 G_B: 0.462 cycle_B: 0.289 idt_B: 0.112 \n",
            "(epoch: 86, iters: 804, time: 1.216, data: 0.003) D_A: 0.152 G_A: 0.389 cycle_A: 0.236 idt_A: 0.106 D_B: 0.149 G_B: 0.496 cycle_B: 0.250 idt_B: 0.089 \n",
            "(epoch: 86, iters: 904, time: 0.312, data: 0.003) D_A: 0.222 G_A: 0.124 cycle_A: 0.275 idt_A: 0.093 D_B: 0.513 G_B: 0.280 cycle_B: 0.251 idt_B: 0.087 \n",
            "(epoch: 86, iters: 1004, time: 0.312, data: 0.003) D_A: 0.195 G_A: 0.301 cycle_A: 0.291 idt_A: 0.138 D_B: 0.190 G_B: 0.536 cycle_B: 0.344 idt_B: 0.096 \n",
            "(epoch: 86, iters: 1104, time: 0.312, data: 0.003) D_A: 0.151 G_A: 0.372 cycle_A: 0.308 idt_A: 0.115 D_B: 0.101 G_B: 0.473 cycle_B: 0.212 idt_B: 0.103 \n",
            "(epoch: 86, iters: 1204, time: 1.290, data: 0.003) D_A: 0.141 G_A: 0.692 cycle_A: 0.334 idt_A: 0.089 D_B: 0.177 G_B: 0.226 cycle_B: 0.212 idt_B: 0.123 \n",
            "(epoch: 86, iters: 1304, time: 0.312, data: 0.003) D_A: 0.084 G_A: 0.237 cycle_A: 0.285 idt_A: 0.144 D_B: 0.219 G_B: 0.538 cycle_B: 0.391 idt_B: 0.093 \n",
            "(epoch: 86, iters: 1404, time: 0.312, data: 0.003) D_A: 0.091 G_A: 0.532 cycle_A: 0.243 idt_A: 0.113 D_B: 0.067 G_B: 0.444 cycle_B: 0.313 idt_B: 0.101 \n",
            "(epoch: 86, iters: 1504, time: 0.312, data: 0.003) D_A: 0.263 G_A: 0.250 cycle_A: 0.286 idt_A: 0.136 D_B: 0.369 G_B: 0.306 cycle_B: 0.339 idt_B: 0.091 \n",
            "(epoch: 86, iters: 1604, time: 1.258, data: 0.003) D_A: 0.227 G_A: 0.578 cycle_A: 0.309 idt_A: 0.141 D_B: 0.110 G_B: 0.362 cycle_B: 0.280 idt_B: 0.095 \n",
            "(epoch: 86, iters: 1704, time: 0.313, data: 0.003) D_A: 0.106 G_A: 0.256 cycle_A: 0.282 idt_A: 0.093 D_B: 0.291 G_B: 0.853 cycle_B: 0.247 idt_B: 0.108 \n",
            "(epoch: 86, iters: 1804, time: 0.312, data: 0.004) D_A: 0.273 G_A: 0.512 cycle_A: 0.330 idt_A: 0.103 D_B: 0.201 G_B: 0.262 cycle_B: 0.283 idt_B: 0.105 \n",
            "(epoch: 86, iters: 1904, time: 0.312, data: 0.003) D_A: 0.268 G_A: 0.296 cycle_A: 0.278 idt_A: 0.112 D_B: 0.352 G_B: 0.398 cycle_B: 0.286 idt_B: 0.109 \n",
            "(epoch: 86, iters: 2004, time: 1.239, data: 0.003) D_A: 0.152 G_A: 0.762 cycle_A: 0.250 idt_A: 0.141 D_B: 0.113 G_B: 0.437 cycle_B: 0.371 idt_B: 0.100 \n",
            "(epoch: 86, iters: 2104, time: 0.312, data: 0.003) D_A: 0.082 G_A: 0.511 cycle_A: 0.271 idt_A: 0.085 D_B: 0.255 G_B: 0.466 cycle_B: 0.215 idt_B: 0.096 \n",
            "(epoch: 86, iters: 2204, time: 0.312, data: 0.003) D_A: 0.119 G_A: 0.331 cycle_A: 0.330 idt_A: 0.156 D_B: 0.135 G_B: 0.920 cycle_B: 0.419 idt_B: 0.107 \n",
            "(epoch: 86, iters: 2304, time: 0.313, data: 0.003) D_A: 0.048 G_A: 0.657 cycle_A: 0.249 idt_A: 0.100 D_B: 0.154 G_B: 0.315 cycle_B: 0.244 idt_B: 0.076 \n",
            "(epoch: 86, iters: 2404, time: 1.279, data: 0.003) D_A: 0.053 G_A: 0.678 cycle_A: 0.318 idt_A: 0.134 D_B: 0.117 G_B: 0.392 cycle_B: 0.342 idt_B: 0.123 \n",
            "(epoch: 86, iters: 2504, time: 0.312, data: 0.003) D_A: 0.160 G_A: 0.271 cycle_A: 0.321 idt_A: 0.090 D_B: 0.269 G_B: 0.425 cycle_B: 0.245 idt_B: 0.111 \n",
            "(epoch: 86, iters: 2604, time: 0.312, data: 0.003) D_A: 0.138 G_A: 0.477 cycle_A: 0.282 idt_A: 0.114 D_B: 0.102 G_B: 0.380 cycle_B: 0.232 idt_B: 0.173 \n",
            "(epoch: 86, iters: 2704, time: 0.312, data: 0.004) D_A: 0.082 G_A: 0.849 cycle_A: 0.294 idt_A: 0.106 D_B: 0.180 G_B: 0.567 cycle_B: 0.255 idt_B: 0.088 \n"
          ]
        }
      ],
      "source": [
        "!python train.py --dataroot /gdrive/MyDrive/LeafGANDataSet/Healthy2Rust --name Healthy2Rust_leafGAN --model leaf_gan --dataset_mode unaligned_masked --continue_train --epoch_count 82 --niter 0 --niter_decay 100 --lr 0.00002"
      ]
    },
    {
      "cell_type": "markdown",
      "metadata": {
        "id": "v5hfAVFtD_36"
      },
      "source": [
        "**intergrate logs to weights and biases**"
      ]
    },
    {
      "cell_type": "code",
      "execution_count": null,
      "metadata": {
        "colab": {
          "base_uri": "https://localhost:8080/"
        },
        "id": "jTY8RiVQhxOT",
        "outputId": "041e9ae9-2c46-4cda-9a59-e681fcf6cb35"
      },
      "outputs": [
        {
          "name": "stdout",
          "output_type": "stream",
          "text": [
            "Collecting wandb\n",
            "  Downloading wandb-0.12.10-py2.py3-none-any.whl (1.7 MB)\n",
            "\u001b[K     |████████████████████████████████| 1.7 MB 4.3 MB/s \n",
            "\u001b[?25hCollecting sentry-sdk>=1.0.0\n",
            "  Downloading sentry_sdk-1.5.4-py2.py3-none-any.whl (143 kB)\n",
            "\u001b[K     |████████████████████████████████| 143 kB 43.1 MB/s \n",
            "\u001b[?25hCollecting docker-pycreds>=0.4.0\n",
            "  Downloading docker_pycreds-0.4.0-py2.py3-none-any.whl (9.0 kB)\n",
            "Requirement already satisfied: psutil>=5.0.0 in /usr/local/lib/python3.7/dist-packages (from wandb) (5.4.8)\n",
            "Requirement already satisfied: protobuf>=3.12.0 in /usr/local/lib/python3.7/dist-packages (from wandb) (3.17.3)\n",
            "Collecting pathtools\n",
            "  Downloading pathtools-0.1.2.tar.gz (11 kB)\n",
            "Requirement already satisfied: requests<3,>=2.0.0 in /usr/local/lib/python3.7/dist-packages (from wandb) (2.23.0)\n",
            "Requirement already satisfied: python-dateutil>=2.6.1 in /usr/local/lib/python3.7/dist-packages (from wandb) (2.8.2)\n",
            "Requirement already satisfied: promise<3,>=2.0 in /usr/local/lib/python3.7/dist-packages (from wandb) (2.3)\n",
            "Collecting GitPython>=1.0.0\n",
            "  Downloading GitPython-3.1.26-py3-none-any.whl (180 kB)\n",
            "\u001b[K     |████████████████████████████████| 180 kB 55.2 MB/s \n",
            "\u001b[?25hRequirement already satisfied: Click!=8.0.0,>=7.0 in /usr/local/lib/python3.7/dist-packages (from wandb) (7.1.2)\n",
            "Collecting yaspin>=1.0.0\n",
            "  Downloading yaspin-2.1.0-py3-none-any.whl (18 kB)\n",
            "Requirement already satisfied: six>=1.13.0 in /usr/local/lib/python3.7/dist-packages (from wandb) (1.15.0)\n",
            "Collecting shortuuid>=0.5.0\n",
            "  Downloading shortuuid-1.0.8-py3-none-any.whl (9.5 kB)\n",
            "Requirement already satisfied: PyYAML in /usr/local/lib/python3.7/dist-packages (from wandb) (3.13)\n",
            "Requirement already satisfied: typing-extensions>=3.7.4.3 in /usr/local/lib/python3.7/dist-packages (from GitPython>=1.0.0->wandb) (3.10.0.2)\n",
            "Collecting gitdb<5,>=4.0.1\n",
            "  Downloading gitdb-4.0.9-py3-none-any.whl (63 kB)\n",
            "\u001b[K     |████████████████████████████████| 63 kB 1.7 MB/s \n",
            "\u001b[?25hCollecting smmap<6,>=3.0.1\n",
            "  Downloading smmap-5.0.0-py3-none-any.whl (24 kB)\n",
            "Requirement already satisfied: chardet<4,>=3.0.2 in /usr/local/lib/python3.7/dist-packages (from requests<3,>=2.0.0->wandb) (3.0.4)\n",
            "Requirement already satisfied: urllib3!=1.25.0,!=1.25.1,<1.26,>=1.21.1 in /usr/local/lib/python3.7/dist-packages (from requests<3,>=2.0.0->wandb) (1.24.3)\n",
            "Requirement already satisfied: idna<3,>=2.5 in /usr/local/lib/python3.7/dist-packages (from requests<3,>=2.0.0->wandb) (2.10)\n",
            "Requirement already satisfied: certifi>=2017.4.17 in /usr/local/lib/python3.7/dist-packages (from requests<3,>=2.0.0->wandb) (2021.10.8)\n",
            "Requirement already satisfied: termcolor<2.0.0,>=1.1.0 in /usr/local/lib/python3.7/dist-packages (from yaspin>=1.0.0->wandb) (1.1.0)\n",
            "Building wheels for collected packages: pathtools\n",
            "  Building wheel for pathtools (setup.py) ... \u001b[?25l\u001b[?25hdone\n",
            "  Created wheel for pathtools: filename=pathtools-0.1.2-py3-none-any.whl size=8806 sha256=aef418d10c62a840bf35d9b5a98148299dba92788a2a2ee4c4bcbb1888c951b4\n",
            "  Stored in directory: /root/.cache/pip/wheels/3e/31/09/fa59cef12cdcfecc627b3d24273699f390e71828921b2cbba2\n",
            "Successfully built pathtools\n",
            "Installing collected packages: smmap, gitdb, yaspin, shortuuid, sentry-sdk, pathtools, GitPython, docker-pycreds, wandb\n",
            "Successfully installed GitPython-3.1.26 docker-pycreds-0.4.0 gitdb-4.0.9 pathtools-0.1.2 sentry-sdk-1.5.4 shortuuid-1.0.8 smmap-5.0.0 wandb-0.12.10 yaspin-2.1.0\n",
            "\u001b[34m\u001b[1mwandb\u001b[0m: Appending key for api.wandb.ai to your netrc file: /root/.netrc\n"
          ]
        }
      ],
      "source": [
        "!pip install wandb\n",
        "!wandb login 52b3b279a9d634741e39bd8541fece124dfb8b88"
      ]
    },
    {
      "cell_type": "code",
      "execution_count": null,
      "metadata": {
        "colab": {
          "base_uri": "https://localhost:8080/",
          "height": 380,
          "referenced_widgets": [
            "c45623cb2e5d492287eeb821b79c7d64",
            "da6d880e51ba4f679e67822587caf27c",
            "6707a6dc609048f4a1719ad7f87bcbe5",
            "4869f739af164f258196ad580fbb186f",
            "0be3604c4fbd45578cae318851007061",
            "660054e3d9de423088593fa49a360822",
            "5bfec5315f104f0c87c5846ec5e1bf9f",
            "908a2a8a86ee4deab2df385b8197d380"
          ]
        },
        "id": "4N9VAGsYD_Qf",
        "outputId": "7caac194-3bcb-442b-8326-4f08b6d3c332"
      },
      "outputs": [
        {
          "data": {
            "text/html": [
              "\n",
              "                    Syncing run <strong><a href=\"https://wandb.ai/seminar/LeafGAN/runs/1p6vy2nl\" target=\"_blank\">fancy-galaxy-13</a></strong> to <a href=\"https://wandb.ai/seminar/LeafGAN\" target=\"_blank\">Weights & Biases</a> (<a href=\"https://docs.wandb.com/integrations/jupyter.html\" target=\"_blank\">docs</a>).<br/>\n",
              "\n",
              "                "
            ],
            "text/plain": [
              "<IPython.core.display.HTML object>"
            ]
          },
          "metadata": {},
          "output_type": "display_data"
        },
        {
          "data": {
            "text/html": [
              "<br/>Waiting for W&B process to finish, PID 1101... <strong style=\"color:green\">(success).</strong>"
            ],
            "text/plain": [
              "<IPython.core.display.HTML object>"
            ]
          },
          "metadata": {},
          "output_type": "display_data"
        },
        {
          "data": {
            "application/vnd.jupyter.widget-view+json": {
              "model_id": "c45623cb2e5d492287eeb821b79c7d64",
              "version_major": 2,
              "version_minor": 0
            },
            "text/plain": [
              "VBox(children=(Label(value=' 0.00MB of 0.00MB uploaded (0.00MB deduped)\\r'), FloatProgress(value=1.0, max=1.0)…"
            ]
          },
          "metadata": {},
          "output_type": "display_data"
        },
        {
          "data": {
            "text/html": [
              "<style>\n",
              "    table.wandb td:nth-child(1) { padding: 0 10px; text-align: right }\n",
              "    .wandb-row { display: flex; flex-direction: row; flex-wrap: wrap; width: 100% }\n",
              "    .wandb-col { display: flex; flex-direction: column; flex-basis: 100%; flex: 1; padding: 10px; }\n",
              "    </style>\n",
              "<div class=\"wandb-row\"><div class=\"wandb-col\">\n",
              "<h3>Run history:</h3><br/><table class=\"wandb\"><tr><td>D_A</td><td>▂▇█▃▃▂▅▅▆▄▄▅▃▁▂▅▄▄▄▅▄▃▁▂▂▇▅▂▄▄▄█▃▄▁▃▂▂▅▅</td></tr><tr><td>D_B</td><td>▆█▂▂▃▃▂▃▄▁▃▁▂▆▂▂▅▄▂▅▃▂▃▄▂▆▃▄▂▅▃▄▄▃▄▂▁▇▃▄</td></tr><tr><td>G_A</td><td>▅▅▂▂▄▇▄▃▄▅▆▄▃▃▃▆▂▃█▃▂▇▅▃▃▂▃▄▅▃▆▃▅▃▇▆▄▁▇▂</td></tr><tr><td>G_B</td><td>▄▁▄▅▅▄▃▅▃▄▄▃▅█▇▃▇▃▃▂▄▃▆▇▅▅▅▇▂▃▃▃▆▂▅▄▄▄▃▄</td></tr><tr><td>cycle_A</td><td>█▃▆▃▂▅▃▄▇▅▃▄▃▃▂▂█▅▂▃▁▆▁▂▁▄▂▄▂▄▂▃▁▁▂▁▁▃▄▄</td></tr><tr><td>cycle_B</td><td>█▃▃▃▃▇▃█▂▂▅▂▂▄▄▃▂▄▂▃▂▃▂▂▂▃▂▂▃▄▁▃▁▂▄▃▃▂▂▂</td></tr><tr><td>idt_A</td><td>█▃▂▃▂▆▅▆▃▃▃▂▂▃▃▃▂▃▂▂▂▃▃▂▂▂▁▂▂▃▁▃▁▄▃▁▂▂▂▁</td></tr><tr><td>idt_B</td><td>█▃▇▄▃▆▃▄▄▆▄▄▅▃▃▂▆▆▂▄▂▆▁▃▁▃▂▄▂▆▁▄▁▁▃▃▂▃▄▃</td></tr></table><br/></div><div class=\"wandb-col\">\n",
              "<h3>Run summary:</h3><br/><table class=\"wandb\"><tr><td>D_A</td><td>0.141</td></tr><tr><td>D_B</td><td>0.103</td></tr><tr><td>G_A</td><td>0.284</td></tr><tr><td>G_B</td><td>0.536</td></tr><tr><td>cycle_A</td><td>0.526</td></tr><tr><td>cycle_B</td><td>0.401</td></tr><tr><td>idt_A</td><td>0.202</td></tr><tr><td>idt_B</td><td>0.267</td></tr></table>\n",
              "</div></div>\n",
              "Synced 4 W&B file(s), 0 media file(s), 0 artifact file(s) and 0 other file(s)\n",
              "<br/>Synced <strong style=\"color:#cdcd00\">fancy-galaxy-13</strong>: <a href=\"https://wandb.ai/seminar/LeafGAN/runs/1p6vy2nl\" target=\"_blank\">https://wandb.ai/seminar/LeafGAN/runs/1p6vy2nl</a><br/>\n",
              "Find logs at: <code>./wandb/run-20220208_183501-1p6vy2nl/logs</code><br/>\n"
            ],
            "text/plain": [
              "<IPython.core.display.HTML object>"
            ]
          },
          "metadata": {},
          "output_type": "display_data"
        }
      ],
      "source": [
        "wab = wandb.init(project=\"LeafGAN\", entity=\"seminar\")\n",
        "lines = []\n",
        "LOGS_PATH = '/gdrive/MyDrive/LeafGANDataSet/LeafGAN/checkpoints/Healthy2Rust_leafGAN/loss_log.txt'\n",
        "with open(LOGS_PATH) as f:\n",
        "    lines = f.readlines()\n",
        "lines = lines[1:-1]\n",
        "\n",
        "for l in lines:\n",
        "  l = l.split(')')[1].split(\" \")[1:-1]\n",
        "  losses = {}\n",
        "  losses[\"D_A\"] = float(l[1])\n",
        "  losses[\"G_A\"] = float(l[3])\n",
        "  losses[\"cycle_A\"] = float(l[5])\n",
        "  losses[\"idt_A\"] = float(l[7])\n",
        "  losses[\"D_B\"] = float(l[9])\n",
        "  losses[\"G_B\"] = float(l[11])\n",
        "  losses[\"cycle_B\"] = float(l[13])\n",
        "  losses[\"idt_B\"] = float(l[15])\n",
        "  wandb.log(losses)\n",
        "  \n",
        "wab.finish()"
      ]
    },
    {
      "cell_type": "markdown",
      "metadata": {
        "id": "5uEAEaLEiKii"
      },
      "source": [
        "**test**"
      ]
    },
    {
      "cell_type": "code",
      "execution_count": null,
      "metadata": {
        "id": "nPEK88a_iNyg"
      },
      "outputs": [],
      "source": [
        "!python test.py --dataroot /gdrive/MyDrive/LeafGANDataSet/Healthy2Rust --name Healthy2Rust_leafGAN --model leaf_gan"
      ]
    }
  ],
  "metadata": {
    "accelerator": "GPU",
    "colab": {
      "collapsed_sections": [
        "OYL7vbXz8wAB",
        "W3uvBpXni08M",
        "CcfNz_El408E",
        "RctP32pM7lR_",
        "d7y-a4VSfyV7",
        "obB1Z1ogevUk"
      ],
      "machine_shape": "hm",
      "name": "LeafGAN.ipynb",
      "provenance": []
    },
    "kernelspec": {
      "display_name": "Python 3",
      "language": "python",
      "name": "python3"
    },
    "language_info": {
      "codemirror_mode": {
        "name": "ipython",
        "version": 3
      },
      "file_extension": ".py",
      "mimetype": "text/x-python",
      "name": "python",
      "nbconvert_exporter": "python",
      "pygments_lexer": "ipython3",
      "version": "3.7.12"
    },
    "widgets": {
      "application/vnd.jupyter.widget-state+json": {
        "0be3604c4fbd45578cae318851007061": {
          "model_module": "@jupyter-widgets/base",
          "model_module_version": "1.2.0",
          "model_name": "LayoutModel",
          "state": {
            "_model_module": "@jupyter-widgets/base",
            "_model_module_version": "1.2.0",
            "_model_name": "LayoutModel",
            "_view_count": null,
            "_view_module": "@jupyter-widgets/base",
            "_view_module_version": "1.2.0",
            "_view_name": "LayoutView",
            "align_content": null,
            "align_items": null,
            "align_self": null,
            "border": null,
            "bottom": null,
            "display": null,
            "flex": null,
            "flex_flow": null,
            "grid_area": null,
            "grid_auto_columns": null,
            "grid_auto_flow": null,
            "grid_auto_rows": null,
            "grid_column": null,
            "grid_gap": null,
            "grid_row": null,
            "grid_template_areas": null,
            "grid_template_columns": null,
            "grid_template_rows": null,
            "height": null,
            "justify_content": null,
            "justify_items": null,
            "left": null,
            "margin": null,
            "max_height": null,
            "max_width": null,
            "min_height": null,
            "min_width": null,
            "object_fit": null,
            "object_position": null,
            "order": null,
            "overflow": null,
            "overflow_x": null,
            "overflow_y": null,
            "padding": null,
            "right": null,
            "top": null,
            "visibility": null,
            "width": null
          }
        },
        "4869f739af164f258196ad580fbb186f": {
          "model_module": "@jupyter-widgets/base",
          "model_module_version": "1.2.0",
          "model_name": "LayoutModel",
          "state": {
            "_model_module": "@jupyter-widgets/base",
            "_model_module_version": "1.2.0",
            "_model_name": "LayoutModel",
            "_view_count": null,
            "_view_module": "@jupyter-widgets/base",
            "_view_module_version": "1.2.0",
            "_view_name": "LayoutView",
            "align_content": null,
            "align_items": null,
            "align_self": null,
            "border": null,
            "bottom": null,
            "display": null,
            "flex": null,
            "flex_flow": null,
            "grid_area": null,
            "grid_auto_columns": null,
            "grid_auto_flow": null,
            "grid_auto_rows": null,
            "grid_column": null,
            "grid_gap": null,
            "grid_row": null,
            "grid_template_areas": null,
            "grid_template_columns": null,
            "grid_template_rows": null,
            "height": null,
            "justify_content": null,
            "justify_items": null,
            "left": null,
            "margin": null,
            "max_height": null,
            "max_width": null,
            "min_height": null,
            "min_width": null,
            "object_fit": null,
            "object_position": null,
            "order": null,
            "overflow": null,
            "overflow_x": null,
            "overflow_y": null,
            "padding": null,
            "right": null,
            "top": null,
            "visibility": null,
            "width": null
          }
        },
        "5bfec5315f104f0c87c5846ec5e1bf9f": {
          "model_module": "@jupyter-widgets/base",
          "model_module_version": "1.2.0",
          "model_name": "LayoutModel",
          "state": {
            "_model_module": "@jupyter-widgets/base",
            "_model_module_version": "1.2.0",
            "_model_name": "LayoutModel",
            "_view_count": null,
            "_view_module": "@jupyter-widgets/base",
            "_view_module_version": "1.2.0",
            "_view_name": "LayoutView",
            "align_content": null,
            "align_items": null,
            "align_self": null,
            "border": null,
            "bottom": null,
            "display": null,
            "flex": null,
            "flex_flow": null,
            "grid_area": null,
            "grid_auto_columns": null,
            "grid_auto_flow": null,
            "grid_auto_rows": null,
            "grid_column": null,
            "grid_gap": null,
            "grid_row": null,
            "grid_template_areas": null,
            "grid_template_columns": null,
            "grid_template_rows": null,
            "height": null,
            "justify_content": null,
            "justify_items": null,
            "left": null,
            "margin": null,
            "max_height": null,
            "max_width": null,
            "min_height": null,
            "min_width": null,
            "object_fit": null,
            "object_position": null,
            "order": null,
            "overflow": null,
            "overflow_x": null,
            "overflow_y": null,
            "padding": null,
            "right": null,
            "top": null,
            "visibility": null,
            "width": null
          }
        },
        "660054e3d9de423088593fa49a360822": {
          "model_module": "@jupyter-widgets/controls",
          "model_module_version": "1.5.0",
          "model_name": "DescriptionStyleModel",
          "state": {
            "_model_module": "@jupyter-widgets/controls",
            "_model_module_version": "1.5.0",
            "_model_name": "DescriptionStyleModel",
            "_view_count": null,
            "_view_module": "@jupyter-widgets/base",
            "_view_module_version": "1.2.0",
            "_view_name": "StyleView",
            "description_width": ""
          }
        },
        "6707a6dc609048f4a1719ad7f87bcbe5": {
          "model_module": "@jupyter-widgets/controls",
          "model_module_version": "1.5.0",
          "model_name": "FloatProgressModel",
          "state": {
            "_dom_classes": [],
            "_model_module": "@jupyter-widgets/controls",
            "_model_module_version": "1.5.0",
            "_model_name": "FloatProgressModel",
            "_view_count": null,
            "_view_module": "@jupyter-widgets/controls",
            "_view_module_version": "1.5.0",
            "_view_name": "ProgressView",
            "bar_style": "",
            "description": "",
            "description_tooltip": null,
            "layout": "IPY_MODEL_5bfec5315f104f0c87c5846ec5e1bf9f",
            "max": 1,
            "min": 0,
            "orientation": "horizontal",
            "style": "IPY_MODEL_908a2a8a86ee4deab2df385b8197d380",
            "value": 1
          }
        },
        "908a2a8a86ee4deab2df385b8197d380": {
          "model_module": "@jupyter-widgets/controls",
          "model_module_version": "1.5.0",
          "model_name": "ProgressStyleModel",
          "state": {
            "_model_module": "@jupyter-widgets/controls",
            "_model_module_version": "1.5.0",
            "_model_name": "ProgressStyleModel",
            "_view_count": null,
            "_view_module": "@jupyter-widgets/base",
            "_view_module_version": "1.2.0",
            "_view_name": "StyleView",
            "bar_color": null,
            "description_width": ""
          }
        },
        "c45623cb2e5d492287eeb821b79c7d64": {
          "model_module": "@jupyter-widgets/controls",
          "model_module_version": "1.5.0",
          "model_name": "VBoxModel",
          "state": {
            "_dom_classes": [],
            "_model_module": "@jupyter-widgets/controls",
            "_model_module_version": "1.5.0",
            "_model_name": "VBoxModel",
            "_view_count": null,
            "_view_module": "@jupyter-widgets/controls",
            "_view_module_version": "1.5.0",
            "_view_name": "VBoxView",
            "box_style": "",
            "children": [
              "IPY_MODEL_da6d880e51ba4f679e67822587caf27c",
              "IPY_MODEL_6707a6dc609048f4a1719ad7f87bcbe5"
            ],
            "layout": "IPY_MODEL_4869f739af164f258196ad580fbb186f"
          }
        },
        "da6d880e51ba4f679e67822587caf27c": {
          "model_module": "@jupyter-widgets/controls",
          "model_module_version": "1.5.0",
          "model_name": "LabelModel",
          "state": {
            "_dom_classes": [],
            "_model_module": "@jupyter-widgets/controls",
            "_model_module_version": "1.5.0",
            "_model_name": "LabelModel",
            "_view_count": null,
            "_view_module": "@jupyter-widgets/controls",
            "_view_module_version": "1.5.0",
            "_view_name": "LabelView",
            "description": "",
            "description_tooltip": null,
            "layout": "IPY_MODEL_0be3604c4fbd45578cae318851007061",
            "placeholder": "​",
            "style": "IPY_MODEL_660054e3d9de423088593fa49a360822",
            "value": " 0.01MB of 0.01MB uploaded (0.00MB deduped)\r"
          }
        },
        "f1524ce00c45475f93c3ae75b0dc7e7b": {
          "model_module": "@jupyter-widgets/controls",
          "model_name": "VBoxModel",
          "model_module_version": "1.5.0",
          "state": {
            "_view_name": "VBoxView",
            "_dom_classes": [],
            "_model_name": "VBoxModel",
            "_view_module": "@jupyter-widgets/controls",
            "_model_module_version": "1.5.0",
            "_view_count": null,
            "_view_module_version": "1.5.0",
            "box_style": "",
            "layout": "IPY_MODEL_8060463beea344088d14d9e82a0253cd",
            "_model_module": "@jupyter-widgets/controls",
            "children": [
              "IPY_MODEL_df5d0f98350341f293f9a7dd031986e7",
              "IPY_MODEL_0590734975d8487294e7599fb477c2ab"
            ]
          }
        },
        "8060463beea344088d14d9e82a0253cd": {
          "model_module": "@jupyter-widgets/base",
          "model_name": "LayoutModel",
          "model_module_version": "1.2.0",
          "state": {
            "_view_name": "LayoutView",
            "grid_template_rows": null,
            "right": null,
            "justify_content": null,
            "_view_module": "@jupyter-widgets/base",
            "overflow": null,
            "_model_module_version": "1.2.0",
            "_view_count": null,
            "flex_flow": null,
            "width": null,
            "min_width": null,
            "border": null,
            "align_items": null,
            "bottom": null,
            "_model_module": "@jupyter-widgets/base",
            "top": null,
            "grid_column": null,
            "overflow_y": null,
            "overflow_x": null,
            "grid_auto_flow": null,
            "grid_area": null,
            "grid_template_columns": null,
            "flex": null,
            "_model_name": "LayoutModel",
            "justify_items": null,
            "grid_row": null,
            "max_height": null,
            "align_content": null,
            "visibility": null,
            "align_self": null,
            "height": null,
            "min_height": null,
            "padding": null,
            "grid_auto_rows": null,
            "grid_gap": null,
            "max_width": null,
            "order": null,
            "_view_module_version": "1.2.0",
            "grid_template_areas": null,
            "object_position": null,
            "object_fit": null,
            "grid_auto_columns": null,
            "margin": null,
            "display": null,
            "left": null
          }
        },
        "df5d0f98350341f293f9a7dd031986e7": {
          "model_module": "@jupyter-widgets/controls",
          "model_name": "LabelModel",
          "model_module_version": "1.5.0",
          "state": {
            "_view_name": "LabelView",
            "style": "IPY_MODEL_5bde98b62f55499187e6571135b78622",
            "_dom_classes": [],
            "description": "",
            "_model_name": "LabelModel",
            "placeholder": "​",
            "_view_module": "@jupyter-widgets/controls",
            "_model_module_version": "1.5.0",
            "value": " 0.01MB of 0.01MB uploaded (0.00MB deduped)\r",
            "_view_count": null,
            "_view_module_version": "1.5.0",
            "description_tooltip": null,
            "_model_module": "@jupyter-widgets/controls",
            "layout": "IPY_MODEL_da78dd851f53440ba8bb8b756e75c163"
          }
        },
        "0590734975d8487294e7599fb477c2ab": {
          "model_module": "@jupyter-widgets/controls",
          "model_name": "FloatProgressModel",
          "model_module_version": "1.5.0",
          "state": {
            "_view_name": "ProgressView",
            "style": "IPY_MODEL_69d0e3ba311647adbcbd7c166321ebfb",
            "_dom_classes": [],
            "description": "",
            "_model_name": "FloatProgressModel",
            "bar_style": "",
            "max": 1,
            "_view_module": "@jupyter-widgets/controls",
            "_model_module_version": "1.5.0",
            "value": 1,
            "_view_count": null,
            "_view_module_version": "1.5.0",
            "orientation": "horizontal",
            "min": 0,
            "description_tooltip": null,
            "_model_module": "@jupyter-widgets/controls",
            "layout": "IPY_MODEL_845eaa6f198341e2be0b573ffa324f4e"
          }
        },
        "5bde98b62f55499187e6571135b78622": {
          "model_module": "@jupyter-widgets/controls",
          "model_name": "DescriptionStyleModel",
          "model_module_version": "1.5.0",
          "state": {
            "_view_name": "StyleView",
            "_model_name": "DescriptionStyleModel",
            "description_width": "",
            "_view_module": "@jupyter-widgets/base",
            "_model_module_version": "1.5.0",
            "_view_count": null,
            "_view_module_version": "1.2.0",
            "_model_module": "@jupyter-widgets/controls"
          }
        },
        "da78dd851f53440ba8bb8b756e75c163": {
          "model_module": "@jupyter-widgets/base",
          "model_name": "LayoutModel",
          "model_module_version": "1.2.0",
          "state": {
            "_view_name": "LayoutView",
            "grid_template_rows": null,
            "right": null,
            "justify_content": null,
            "_view_module": "@jupyter-widgets/base",
            "overflow": null,
            "_model_module_version": "1.2.0",
            "_view_count": null,
            "flex_flow": null,
            "width": null,
            "min_width": null,
            "border": null,
            "align_items": null,
            "bottom": null,
            "_model_module": "@jupyter-widgets/base",
            "top": null,
            "grid_column": null,
            "overflow_y": null,
            "overflow_x": null,
            "grid_auto_flow": null,
            "grid_area": null,
            "grid_template_columns": null,
            "flex": null,
            "_model_name": "LayoutModel",
            "justify_items": null,
            "grid_row": null,
            "max_height": null,
            "align_content": null,
            "visibility": null,
            "align_self": null,
            "height": null,
            "min_height": null,
            "padding": null,
            "grid_auto_rows": null,
            "grid_gap": null,
            "max_width": null,
            "order": null,
            "_view_module_version": "1.2.0",
            "grid_template_areas": null,
            "object_position": null,
            "object_fit": null,
            "grid_auto_columns": null,
            "margin": null,
            "display": null,
            "left": null
          }
        },
        "69d0e3ba311647adbcbd7c166321ebfb": {
          "model_module": "@jupyter-widgets/controls",
          "model_name": "ProgressStyleModel",
          "model_module_version": "1.5.0",
          "state": {
            "_view_name": "StyleView",
            "_model_name": "ProgressStyleModel",
            "description_width": "",
            "_view_module": "@jupyter-widgets/base",
            "_model_module_version": "1.5.0",
            "_view_count": null,
            "_view_module_version": "1.2.0",
            "bar_color": null,
            "_model_module": "@jupyter-widgets/controls"
          }
        },
        "845eaa6f198341e2be0b573ffa324f4e": {
          "model_module": "@jupyter-widgets/base",
          "model_name": "LayoutModel",
          "model_module_version": "1.2.0",
          "state": {
            "_view_name": "LayoutView",
            "grid_template_rows": null,
            "right": null,
            "justify_content": null,
            "_view_module": "@jupyter-widgets/base",
            "overflow": null,
            "_model_module_version": "1.2.0",
            "_view_count": null,
            "flex_flow": null,
            "width": null,
            "min_width": null,
            "border": null,
            "align_items": null,
            "bottom": null,
            "_model_module": "@jupyter-widgets/base",
            "top": null,
            "grid_column": null,
            "overflow_y": null,
            "overflow_x": null,
            "grid_auto_flow": null,
            "grid_area": null,
            "grid_template_columns": null,
            "flex": null,
            "_model_name": "LayoutModel",
            "justify_items": null,
            "grid_row": null,
            "max_height": null,
            "align_content": null,
            "visibility": null,
            "align_self": null,
            "height": null,
            "min_height": null,
            "padding": null,
            "grid_auto_rows": null,
            "grid_gap": null,
            "max_width": null,
            "order": null,
            "_view_module_version": "1.2.0",
            "grid_template_areas": null,
            "object_position": null,
            "object_fit": null,
            "grid_auto_columns": null,
            "margin": null,
            "display": null,
            "left": null
          }
        },
        "446b4457023e449e9756880f6e67fca3": {
          "model_module": "@jupyter-widgets/controls",
          "model_name": "VBoxModel",
          "model_module_version": "1.5.0",
          "state": {
            "_view_name": "VBoxView",
            "_dom_classes": [],
            "_model_name": "VBoxModel",
            "_view_module": "@jupyter-widgets/controls",
            "_model_module_version": "1.5.0",
            "_view_count": null,
            "_view_module_version": "1.5.0",
            "box_style": "",
            "layout": "IPY_MODEL_af7a68897fc54152921f9628f927d58b",
            "_model_module": "@jupyter-widgets/controls",
            "children": [
              "IPY_MODEL_0e45e03f58184414841140875a0c4e09",
              "IPY_MODEL_aae3a8f2677442bea0ebc3a04d130875"
            ]
          }
        },
        "af7a68897fc54152921f9628f927d58b": {
          "model_module": "@jupyter-widgets/base",
          "model_name": "LayoutModel",
          "model_module_version": "1.2.0",
          "state": {
            "_view_name": "LayoutView",
            "grid_template_rows": null,
            "right": null,
            "justify_content": null,
            "_view_module": "@jupyter-widgets/base",
            "overflow": null,
            "_model_module_version": "1.2.0",
            "_view_count": null,
            "flex_flow": null,
            "width": null,
            "min_width": null,
            "border": null,
            "align_items": null,
            "bottom": null,
            "_model_module": "@jupyter-widgets/base",
            "top": null,
            "grid_column": null,
            "overflow_y": null,
            "overflow_x": null,
            "grid_auto_flow": null,
            "grid_area": null,
            "grid_template_columns": null,
            "flex": null,
            "_model_name": "LayoutModel",
            "justify_items": null,
            "grid_row": null,
            "max_height": null,
            "align_content": null,
            "visibility": null,
            "align_self": null,
            "height": null,
            "min_height": null,
            "padding": null,
            "grid_auto_rows": null,
            "grid_gap": null,
            "max_width": null,
            "order": null,
            "_view_module_version": "1.2.0",
            "grid_template_areas": null,
            "object_position": null,
            "object_fit": null,
            "grid_auto_columns": null,
            "margin": null,
            "display": null,
            "left": null
          }
        },
        "0e45e03f58184414841140875a0c4e09": {
          "model_module": "@jupyter-widgets/controls",
          "model_name": "LabelModel",
          "model_module_version": "1.5.0",
          "state": {
            "_view_name": "LabelView",
            "style": "IPY_MODEL_6dadcab8772841bb895befaa8ab8fcee",
            "_dom_classes": [],
            "description": "",
            "_model_name": "LabelModel",
            "placeholder": "​",
            "_view_module": "@jupyter-widgets/controls",
            "_model_module_version": "1.5.0",
            "value": " 0.04MB of 0.04MB uploaded (0.00MB deduped)\r",
            "_view_count": null,
            "_view_module_version": "1.5.0",
            "description_tooltip": null,
            "_model_module": "@jupyter-widgets/controls",
            "layout": "IPY_MODEL_fee387009db344a6baf18f14dbd4d38a"
          }
        },
        "aae3a8f2677442bea0ebc3a04d130875": {
          "model_module": "@jupyter-widgets/controls",
          "model_name": "FloatProgressModel",
          "model_module_version": "1.5.0",
          "state": {
            "_view_name": "ProgressView",
            "style": "IPY_MODEL_fe192a5df1024e30add48a7480dafa34",
            "_dom_classes": [],
            "description": "",
            "_model_name": "FloatProgressModel",
            "bar_style": "",
            "max": 1,
            "_view_module": "@jupyter-widgets/controls",
            "_model_module_version": "1.5.0",
            "value": 1,
            "_view_count": null,
            "_view_module_version": "1.5.0",
            "orientation": "horizontal",
            "min": 0,
            "description_tooltip": null,
            "_model_module": "@jupyter-widgets/controls",
            "layout": "IPY_MODEL_6be5c68c5e364bd29d498217ad4e2a75"
          }
        },
        "6dadcab8772841bb895befaa8ab8fcee": {
          "model_module": "@jupyter-widgets/controls",
          "model_name": "DescriptionStyleModel",
          "model_module_version": "1.5.0",
          "state": {
            "_view_name": "StyleView",
            "_model_name": "DescriptionStyleModel",
            "description_width": "",
            "_view_module": "@jupyter-widgets/base",
            "_model_module_version": "1.5.0",
            "_view_count": null,
            "_view_module_version": "1.2.0",
            "_model_module": "@jupyter-widgets/controls"
          }
        },
        "fee387009db344a6baf18f14dbd4d38a": {
          "model_module": "@jupyter-widgets/base",
          "model_name": "LayoutModel",
          "model_module_version": "1.2.0",
          "state": {
            "_view_name": "LayoutView",
            "grid_template_rows": null,
            "right": null,
            "justify_content": null,
            "_view_module": "@jupyter-widgets/base",
            "overflow": null,
            "_model_module_version": "1.2.0",
            "_view_count": null,
            "flex_flow": null,
            "width": null,
            "min_width": null,
            "border": null,
            "align_items": null,
            "bottom": null,
            "_model_module": "@jupyter-widgets/base",
            "top": null,
            "grid_column": null,
            "overflow_y": null,
            "overflow_x": null,
            "grid_auto_flow": null,
            "grid_area": null,
            "grid_template_columns": null,
            "flex": null,
            "_model_name": "LayoutModel",
            "justify_items": null,
            "grid_row": null,
            "max_height": null,
            "align_content": null,
            "visibility": null,
            "align_self": null,
            "height": null,
            "min_height": null,
            "padding": null,
            "grid_auto_rows": null,
            "grid_gap": null,
            "max_width": null,
            "order": null,
            "_view_module_version": "1.2.0",
            "grid_template_areas": null,
            "object_position": null,
            "object_fit": null,
            "grid_auto_columns": null,
            "margin": null,
            "display": null,
            "left": null
          }
        },
        "fe192a5df1024e30add48a7480dafa34": {
          "model_module": "@jupyter-widgets/controls",
          "model_name": "ProgressStyleModel",
          "model_module_version": "1.5.0",
          "state": {
            "_view_name": "StyleView",
            "_model_name": "ProgressStyleModel",
            "description_width": "",
            "_view_module": "@jupyter-widgets/base",
            "_model_module_version": "1.5.0",
            "_view_count": null,
            "_view_module_version": "1.2.0",
            "bar_color": null,
            "_model_module": "@jupyter-widgets/controls"
          }
        },
        "6be5c68c5e364bd29d498217ad4e2a75": {
          "model_module": "@jupyter-widgets/base",
          "model_name": "LayoutModel",
          "model_module_version": "1.2.0",
          "state": {
            "_view_name": "LayoutView",
            "grid_template_rows": null,
            "right": null,
            "justify_content": null,
            "_view_module": "@jupyter-widgets/base",
            "overflow": null,
            "_model_module_version": "1.2.0",
            "_view_count": null,
            "flex_flow": null,
            "width": null,
            "min_width": null,
            "border": null,
            "align_items": null,
            "bottom": null,
            "_model_module": "@jupyter-widgets/base",
            "top": null,
            "grid_column": null,
            "overflow_y": null,
            "overflow_x": null,
            "grid_auto_flow": null,
            "grid_area": null,
            "grid_template_columns": null,
            "flex": null,
            "_model_name": "LayoutModel",
            "justify_items": null,
            "grid_row": null,
            "max_height": null,
            "align_content": null,
            "visibility": null,
            "align_self": null,
            "height": null,
            "min_height": null,
            "padding": null,
            "grid_auto_rows": null,
            "grid_gap": null,
            "max_width": null,
            "order": null,
            "_view_module_version": "1.2.0",
            "grid_template_areas": null,
            "object_position": null,
            "object_fit": null,
            "grid_auto_columns": null,
            "margin": null,
            "display": null,
            "left": null
          }
        }
      }
    }
  },
  "nbformat": 4,
  "nbformat_minor": 0
}